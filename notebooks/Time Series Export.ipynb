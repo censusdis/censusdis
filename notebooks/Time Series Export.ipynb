{
 "cells": [
  {
   "cell_type": "markdown",
   "metadata": {},
   "source": [
    "# Time Series Export Data\n",
    "\n",
    "This notebook demonstrates downloading time series export data using the `query_filter=` argument\n",
    "to `ced.download`. This allows us to filter on non-geographic variables, which we sometimes need\n",
    "to do on timeseries datasets.\n",
    "\n",
    "This combines the query filter functionality we saw in the\n",
    "[Query Filters.ipynb](./Query%20Filters.ipynb)\n",
    "notebook with the timeseries functionality we saw in the\n",
    "[Time Series School District Poverty.ipynb](./Time%20Series%20School%20District%20Poverty.ipynb)\n",
    "notebook.\n",
    "\n",
    "The data set we are using is also somewhat unique in that it does not have a domestic\n",
    "geography like most of the census data sets.\n"
   ]
  },
  {
   "cell_type": "code",
   "execution_count": 1,
   "metadata": {},
   "outputs": [],
   "source": [
    "import censusdis.data as ced\n",
    "import censusdis.maps as cem\n",
    "from censusdis.datasets import TIMESERIES_IDB"
   ]
  },
  {
   "cell_type": "code",
   "execution_count": 2,
   "metadata": {},
   "outputs": [],
   "source": [
    "DATASET = \"timeseries/intltrade/exports/hs\"\n",
    "VINTAGE = \"timerseries\""
   ]
  },
  {
   "cell_type": "code",
   "execution_count": null,
   "metadata": {},
   "outputs": [],
   "source": [
    "# Notice there are no supported geographies. So in our query we\n",
    "# will just leave geography out.\n",
    "ced.geographies(dataset=DATASET, vintage=\"timeseries\")"
   ]
  },
  {
   "cell_type": "code",
   "execution_count": null,
   "metadata": {},
   "outputs": [],
   "source": [
    "df_variables = ced.variables.all_variables(DATASET, VINTAGE, None)\n",
    "\n",
    "df_variables"
   ]
  },
  {
   "cell_type": "code",
   "execution_count": 4,
   "metadata": {},
   "outputs": [],
   "source": [
    "variables = [\"YEAR\", \"MONTH\", \"ALL_VAL_MO\", \"VES_WGT_MO\", \"AIR_WGT_MO\"]"
   ]
  },
  {
   "cell_type": "code",
   "execution_count": 5,
   "metadata": {},
   "outputs": [],
   "source": [
    "df_ts_all_levels = ced.download(\n",
    "    DATASET,\n",
    "    VINTAGE,\n",
    "    variables,\n",
    "    # Normally, there would be some geography here, like `state=`, but this\n",
    "    # data set has no geographies. It is for the entire country.\n",
    "    # Filter to the country code and time, but get one row for each\n",
    "    # commodity HS code by using '*'.\n",
    "    query_filter={\n",
    "        \"CTY_CODE\": \"1220\",\n",
    "        \"time\": \"2024-06\",\n",
    "        \"E_COMMODITY\": \"*\",\n",
    "    },\n",
    ")"
   ]
  },
  {
   "cell_type": "code",
   "execution_count": null,
   "metadata": {},
   "outputs": [],
   "source": [
    "df_ts_all_levels"
   ]
  },
  {
   "cell_type": "code",
   "execution_count": 7,
   "metadata": {},
   "outputs": [],
   "source": [
    "df_ts_hs2 = ced.download(\n",
    "    DATASET,\n",
    "    VINTAGE,\n",
    "    variables,\n",
    "    # This time, we specifiy that we only want aggregated numbers at the HS2\n",
    "    # level, so there will be a lot fewer rows.\n",
    "    query_filter={\n",
    "        \"CTY_CODE\": \"1220\",\n",
    "        \"time\": \"2024-06\",\n",
    "        \"E_COMMODITY\": \"*\",\n",
    "        \"COMM_LVL\": \"HS2\",\n",
    "    },\n",
    ")"
   ]
  },
  {
   "cell_type": "code",
   "execution_count": null,
   "metadata": {},
   "outputs": [],
   "source": [
    "df_ts_hs2"
   ]
  },
  {
   "cell_type": "code",
   "execution_count": null,
   "metadata": {},
   "outputs": [],
   "source": []
  }
 ],
 "metadata": {
  "kernelspec": {
   "display_name": ".venv",
   "language": "python",
   "name": "python3"
  },
  "language_info": {
   "codemirror_mode": {
    "name": "ipython",
    "version": 3
   },
   "file_extension": ".py",
   "mimetype": "text/x-python",
   "name": "python",
   "nbconvert_exporter": "python",
   "pygments_lexer": "ipython3",
   "version": "3.11.4"
  }
 },
 "nbformat": 4,
 "nbformat_minor": 2
}
