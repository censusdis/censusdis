{
 "cells": [
  {
   "cell_type": "markdown",
   "id": "a7e7bfbc-0874-46d4-9bd3-aa48636e45be",
   "metadata": {},
   "source": [
    "## Introduction\n",
    "\n",
    "This notebook demonstrates how to load \n",
    "[US Census American Community Survey (ACS) 5-year data](https://www.census.gov/data/developers/data-sets/acs-5year.html)\n",
    "and do demographic analysis on it. The process is very much parallel to how we loaded and used\n",
    "[US Census redistricting data](https://www.census.gov/programs-surveys/decennial-census/about/rdo.html)\n",
    "in the \n",
    "[SoMa DIS Demo](https://github.com/vengroff/censusdis/blob/main/notebooks/SoMa%20DIS%20Demo.ipynb)\n",
    "and \n",
    "[Seeing White](https://github.com/vengroff/censusdis/blob/main/notebooks/Seeing%20White.ipynb)\n",
    "notebooks."
   ]
  },
  {
   "cell_type": "markdown",
   "id": "e1ebf22f-a1c5-4980-9bf4-b47d4f701feb",
   "metadata": {},
   "source": [
    "## Imports and configuration"
   ]
  },
  {
   "cell_type": "code",
   "execution_count": 1,
   "id": "34c2e60c-afbd-4970-871f-706f7552ccd3",
   "metadata": {},
   "outputs": [],
   "source": [
    "import os\n",
    "import os.path\n",
    "\n",
    "import censusdis.data as ced\n",
    "import censusdis.states\n",
    "from censusdis.maps import ShapeReader, clip_to_states\n",
    "\n",
    "import divintseg as dis"
   ]
  },
  {
   "cell_type": "code",
   "execution_count": 2,
   "id": "ad2f0615-0d84-48c8-9bba-8342ea106c6c",
   "metadata": {},
   "outputs": [],
   "source": [
    "# Set your API key here.\n",
    "CENSUS_API_KEY = None"
   ]
  },
  {
   "cell_type": "code",
   "execution_count": 3,
   "id": "e313a546-3b99-4021-af65-d87f739daee5",
   "metadata": {},
   "outputs": [],
   "source": [
    "YEAR = 2019\n",
    "DATASET = \"acs/acs5\""
   ]
  },
  {
   "cell_type": "code",
   "execution_count": 4,
   "id": "127ab269-260d-4c63-a22d-4798f9094e50",
   "metadata": {},
   "outputs": [],
   "source": [
    "# Feel free to try other states.\n",
    "STATE = censusdis.states.STATE_NJ"
   ]
  },
  {
   "cell_type": "markdown",
   "id": "b94debfa-20ba-438c-94d3-5ddd40df38c1",
   "metadata": {},
   "source": [
    "## Make a metadata call to find out what fields are available\n",
    "\n",
    "The group we chose is [B03002](https://api.census.gov/data/2019/acs/acs1/groups/B03002.html), \n",
    "which has race and ethnicity estimates down to the census block group level."
   ]
  },
  {
   "cell_type": "code",
   "execution_count": 5,
   "id": "ec39d268-6c4b-4900-b038-c4f0aa36fd3d",
   "metadata": {},
   "outputs": [],
   "source": [
    "GROUP = \"B03002\""
   ]
  },
  {
   "cell_type": "code",
   "execution_count": 6,
   "id": "a82f8d79-1379-48af-b809-9ee5ed0382a2",
   "metadata": {},
   "outputs": [],
   "source": [
    "leaves = ced.variables.group_leaves(DATASET, YEAR, GROUP)"
   ]
  },
  {
   "cell_type": "markdown",
   "id": "29900264-de82-4393-9248-7b3d15e7dac0",
   "metadata": {},
   "source": [
    "## Load the data and compute diversity and integration"
   ]
  },
  {
   "cell_type": "code",
   "execution_count": 7,
   "id": "471dc72d-7288-44c0-b9e3-5974cfd7b343",
   "metadata": {},
   "outputs": [],
   "source": [
    "df_acs5 = ced.download_detail(\n",
    "    DATASET,\n",
    "    YEAR,\n",
    "    leaves,\n",
    "    state=STATE,\n",
    "    block_group=\"*\",\n",
    ")"
   ]
  },
  {
   "cell_type": "code",
   "execution_count": null,
   "id": "065ab946-30e4-4015-a160-57cec26f4e40",
   "metadata": {},
   "outputs": [],
   "source": [
    "df_di = dis.di(\n",
    "    df_acs5,\n",
    "    by=\"TRACT\",\n",
    "    over=\"BLOCK_GROUP\",\n",
    ")\n",
    "\n",
    "df_di.describe()"
   ]
  },
  {
   "cell_type": "markdown",
   "id": "d5299a5a-1c4d-4dc7-b514-aaffe46db927",
   "metadata": {},
   "source": [
    "## Load map data and merge in our diversity and integration data"
   ]
  },
  {
   "cell_type": "code",
   "execution_count": null,
   "id": "2b771048-c1a1-4097-921b-90477ca6a321",
   "metadata": {},
   "outputs": [],
   "source": [
    "SHAPEFILE_ROOT = os.path.join(os.environ[\"HOME\"], \"data\", \"shapefiles\")\n",
    "\n",
    "# Make sure it is there.\n",
    "if not os.path.isdir(SHAPEFILE_ROOT):\n",
    "    os.mkdir(SHAPEFILE_ROOT)"
   ]
  },
  {
   "cell_type": "code",
   "execution_count": null,
   "id": "a5d464d5-7d2a-4baf-93c1-82cd21fd5ce4",
   "metadata": {},
   "outputs": [],
   "source": [
    "reader = ShapeReader(SHAPEFILE_ROOT, year=YEAR)"
   ]
  },
  {
   "cell_type": "code",
   "execution_count": null,
   "id": "1aa1542a-db2d-49f6-a9c0-ab751222a853",
   "metadata": {},
   "outputs": [],
   "source": [
    "gdf_tracts = reader.read_shapefile(STATE, \"tract\")"
   ]
  },
  {
   "cell_type": "code",
   "execution_count": null,
   "id": "2e983517-203c-4dd3-979a-31d557dd2002",
   "metadata": {},
   "outputs": [],
   "source": [
    "gdf_di = gdf_tracts.merge(df_di, left_on=\"TRACTCE\", right_on=\"TRACT\")[\n",
    "    [\"STATEFP\", \"TRACTCE\", \"diversity\", \"integration\", \"geometry\"]\n",
    "]"
   ]
  },
  {
   "cell_type": "markdown",
   "id": "18e0df75-0c65-4d58-8f5b-3b96b2d6217e",
   "metadata": {},
   "source": [
    "## Clip to the state boundaries\n",
    "\n",
    "This is important because some of the tracts extend out into water in ways that produces\n",
    "artifacts in maps. Comment out the line `gdf_di = clip_to_states(gdf_di, gdf_state)` and\n",
    "rerun the notebook if you want to see the difference."
   ]
  },
  {
   "cell_type": "code",
   "execution_count": null,
   "id": "fd771518-0d56-4012-84fa-b6f2a1454ba7",
   "metadata": {},
   "outputs": [],
   "source": [
    "# gdf_state = reader.read_state_bounds_shapefile(STATE)\n",
    "gdf_state = reader.read_cb_shapefile(\"us\", \"state\")"
   ]
  },
  {
   "cell_type": "code",
   "execution_count": null,
   "id": "45970caf-9d79-4794-878d-20a57e2d3b06",
   "metadata": {},
   "outputs": [],
   "source": [
    "gdf_di = clip_to_states(gdf_di, gdf_state)"
   ]
  },
  {
   "cell_type": "markdown",
   "id": "3e8b9e7d-5102-4bd4-bb03-99ba6e8ebe94",
   "metadata": {},
   "source": [
    "## Plot the data for the state"
   ]
  },
  {
   "cell_type": "code",
   "execution_count": null,
   "id": "2949e567-8e66-47de-95b2-2ffaef2fd7e0",
   "metadata": {},
   "outputs": [],
   "source": [
    "import matplotlib.pyplot as plt\n",
    "\n",
    "plt.rcParams[\"figure.figsize\"] = (8, 8)\n",
    "\n",
    "ax = gdf_di.plot(\n",
    "    \"diversity\",\n",
    "    cmap=\"hot\",\n",
    "    # edgecolor=\"black\",\n",
    "    legend=True,\n",
    "    vmin=0.0,\n",
    "    vmax=1.0,\n",
    ")\n",
    "\n",
    "ax.set_title(f\"Diversity in {censusdis.states.STATE_NAMES_FROM_IDS[STATE]}\")\n",
    "\n",
    "ax.tick_params(\n",
    "    left=False,\n",
    "    right=False,\n",
    "    bottom=False,\n",
    "    labelleft=False,\n",
    "    labelbottom=False,\n",
    ")"
   ]
  },
  {
   "cell_type": "code",
   "execution_count": null,
   "id": "fda58a3f-65ec-4028-b9a7-25b35397e974",
   "metadata": {},
   "outputs": [],
   "source": []
  }
 ],
 "metadata": {
  "kernelspec": {
   "display_name": "Python 3 (ipykernel)",
   "language": "python",
   "name": "python3"
  },
  "language_info": {
   "codemirror_mode": {
    "name": "ipython",
    "version": 3
   },
   "file_extension": ".py",
   "mimetype": "text/x-python",
   "name": "python",
   "nbconvert_exporter": "python",
   "pygments_lexer": "ipython3",
   "version": "3.9.10"
  }
 },
 "nbformat": 4,
 "nbformat_minor": 5
}
