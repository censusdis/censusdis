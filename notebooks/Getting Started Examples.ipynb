{
 "cells": [
  {
   "cell_type": "markdown",
   "id": "7aaba124-fbed-4b40-a795-aabb07657666",
   "metadata": {},
   "source": [
    "# Getting Started Examples\n",
    "\n",
    "Example code that is in the getting started doc."
   ]
  },
  {
   "cell_type": "code",
   "execution_count": 1,
   "id": "50d8e049-5770-45fb-a3c7-09a3b0a8ed0e",
   "metadata": {
    "jupyter": {
     "source_hidden": true
    },
    "tags": []
   },
   "outputs": [],
   "source": [
    "# So we can run from within the censusdis project and find the packages we need.\n",
    "import os\n",
    "import sys\n",
    "\n",
    "sys.path.append(\n",
    "    os.path.join(os.path.abspath(os.path.join(os.path.curdir, os.path.pardir)))\n",
    ")"
   ]
  },
  {
   "cell_type": "markdown",
   "id": "8cad51b6-d101-43ef-a7b5-3be7daa93453",
   "metadata": {},
   "source": [
    "## States"
   ]
  },
  {
   "cell_type": "code",
   "execution_count": 2,
   "id": "5ea9287b-f62a-43e1-acae-33a4b66492ef",
   "metadata": {},
   "outputs": [],
   "source": [
    "import censusdis.data as ced\n",
    "\n",
    "DATASET = \"dec/pl\"\n",
    "YEAR = 2020\n",
    "VARIABLES = [\"NAME\", \"P2_001N\"]\n",
    "\n",
    "df_states = ced.download_detail(\n",
    "    DATASET,\n",
    "    YEAR,\n",
    "    VARIABLES,\n",
    "    state=\"*\",\n",
    ")"
   ]
  },
  {
   "cell_type": "code",
   "execution_count": 3,
   "id": "9f51a493-ed9a-4bb9-9e34-69b29d02b641",
   "metadata": {},
   "outputs": [
    {
     "name": "stdout",
     "output_type": "stream",
     "text": [
      "   STATE                  NAME   P2_001N\n",
      "0     42          Pennsylvania  13002700\n",
      "1     06            California  39538223\n",
      "2     54         West Virginia   1793716\n",
      "3     49                  Utah   3271616\n",
      "4     36              New York  20201249\n",
      "5     11  District of Columbia    689545\n",
      "6     02                Alaska    733391\n",
      "7     12               Florida  21538187\n",
      "8     45        South Carolina   5118425\n",
      "9     38          North Dakota    779094\n",
      "10    23                 Maine   1362359\n",
      "11    13               Georgia  10711908\n",
      "12    01               Alabama   5024279\n",
      "13    33         New Hampshire   1377529\n",
      "14    41                Oregon   4237256\n",
      "15    56               Wyoming    576851\n",
      "16    04               Arizona   7151502\n",
      "17    22             Louisiana   4657757\n",
      "18    18               Indiana   6785528\n",
      "19    16                 Idaho   1839106\n",
      "20    09           Connecticut   3605944\n",
      "21    15                Hawaii   1455271\n",
      "22    17              Illinois  12812508\n",
      "23    25         Massachusetts   7029917\n",
      "24    48                 Texas  29145505\n",
      "25    30               Montana   1084225\n",
      "26    31              Nebraska   1961504\n",
      "27    39                  Ohio  11799448\n",
      "28    08              Colorado   5773714\n",
      "29    34            New Jersey   9288994\n",
      "30    24              Maryland   6177224\n",
      "31    51              Virginia   8631393\n",
      "32    50               Vermont    643077\n",
      "33    37        North Carolina  10439388\n",
      "34    05              Arkansas   3011524\n",
      "35    53            Washington   7705281\n",
      "36    20                Kansas   2937880\n",
      "37    40              Oklahoma   3959353\n",
      "38    55             Wisconsin   5893718\n",
      "39    28           Mississippi   2961279\n",
      "40    29              Missouri   6154913\n",
      "41    26              Michigan  10077331\n",
      "42    44          Rhode Island   1097379\n",
      "43    27             Minnesota   5706494\n",
      "44    19                  Iowa   3190369\n",
      "45    35            New Mexico   2117522\n",
      "46    32                Nevada   3104614\n",
      "47    10              Delaware    989948\n",
      "48    72           Puerto Rico   3285874\n",
      "49    21              Kentucky   4505836\n",
      "50    46          South Dakota    886667\n",
      "51    47             Tennessee   6910840\n"
     ]
    }
   ],
   "source": [
    "print(df_states)"
   ]
  },
  {
   "cell_type": "markdown",
   "id": "5d15f87d-f3e0-451f-930c-5c25fae7453a",
   "metadata": {},
   "source": [
    "## Counties"
   ]
  },
  {
   "cell_type": "code",
   "execution_count": 4,
   "id": "728b00f0-8a41-41d3-8a6b-34fd802c312c",
   "metadata": {},
   "outputs": [],
   "source": [
    "import censusdis.data as ced\n",
    "from censusdis.states import STATE_NJ\n",
    "\n",
    "DATASET = \"dec/pl\"\n",
    "YEAR = 2020\n",
    "VARIABLES = [\"NAME\", \"P2_001N\"]\n",
    "\n",
    "df_counties = ced.download_detail(\n",
    "    DATASET,\n",
    "    YEAR,\n",
    "    VARIABLES,\n",
    "    state=STATE_NJ,\n",
    "    county=\"*\",\n",
    ")"
   ]
  },
  {
   "cell_type": "code",
   "execution_count": 5,
   "id": "e66d4688-ea9a-48e3-9d92-fc30d7a91159",
   "metadata": {},
   "outputs": [
    {
     "name": "stdout",
     "output_type": "stream",
     "text": [
      "   STATE COUNTY                           NAME  P2_001N\n",
      "0     34    003      Bergen County, New Jersey   955732\n",
      "1     34    009    Cape May County, New Jersey    95263\n",
      "2     34    015  Gloucester County, New Jersey   302294\n",
      "3     34    021      Mercer County, New Jersey   387340\n",
      "4     34    027      Morris County, New Jersey   509285\n",
      "5     34    033       Salem County, New Jersey    64837\n",
      "6     34    039       Union County, New Jersey   575345\n",
      "7     34    001    Atlantic County, New Jersey   274534\n",
      "8     34    005  Burlington County, New Jersey   461860\n",
      "9     34    007      Camden County, New Jersey   523485\n",
      "10    34    011  Cumberland County, New Jersey   154152\n",
      "11    34    013       Essex County, New Jersey   863728\n",
      "12    34    017      Hudson County, New Jersey   724854\n",
      "13    34    019   Hunterdon County, New Jersey   128947\n",
      "14    34    023   Middlesex County, New Jersey   863162\n",
      "15    34    025    Monmouth County, New Jersey   643615\n",
      "16    34    029       Ocean County, New Jersey   637229\n",
      "17    34    031     Passaic County, New Jersey   524118\n",
      "18    34    035    Somerset County, New Jersey   345361\n",
      "19    34    037      Sussex County, New Jersey   144221\n",
      "20    34    041      Warren County, New Jersey   109632\n"
     ]
    }
   ],
   "source": [
    "print(df_counties)"
   ]
  },
  {
   "cell_type": "code",
   "execution_count": 6,
   "id": "cf8dcb5c-bd69-4072-bfff-e4d62d38ab16",
   "metadata": {},
   "outputs": [
    {
     "data": {
      "text/plain": [
       "9288994"
      ]
     },
     "execution_count": 6,
     "metadata": {},
     "output_type": "execute_result"
    }
   ],
   "source": [
    "df_counties[\"P2_001N\"].sum()"
   ]
  },
  {
   "cell_type": "markdown",
   "id": "4d8beb6f-acca-4284-99fe-33f03a781da8",
   "metadata": {},
   "source": [
    "## Regions"
   ]
  },
  {
   "cell_type": "code",
   "execution_count": 7,
   "id": "7d52c09f-718f-4168-8d3a-b17373090ef7",
   "metadata": {},
   "outputs": [],
   "source": [
    "import censusdis.data as ced\n",
    "\n",
    "DATASET = \"dec/pl\"\n",
    "YEAR = 2020\n",
    "VARIABLES = [\"NAME\", \"P2_001N\"]\n",
    "\n",
    "df_region = ced.download_detail(\n",
    "    DATASET,\n",
    "    YEAR,\n",
    "    VARIABLES,\n",
    "    region=\"*\",\n",
    ")"
   ]
  },
  {
   "cell_type": "code",
   "execution_count": 8,
   "id": "4ff58766-3ba9-4e08-a68f-83e62d547e2d",
   "metadata": {},
   "outputs": [
    {
     "name": "stdout",
     "output_type": "stream",
     "text": [
      "  REGION              NAME    P2_001N\n",
      "0      2    Midwest Region   68985454\n",
      "1      3      South Region  126266107\n",
      "2      4       West Region   78588572\n",
      "3      1  Northeast Region   57609148\n"
     ]
    }
   ],
   "source": [
    "print(df_region)"
   ]
  },
  {
   "cell_type": "markdown",
   "id": "d63beea3-fa32-45be-8ae4-d5ed1d6b3386",
   "metadata": {},
   "source": [
    "## Block Groups"
   ]
  },
  {
   "cell_type": "code",
   "execution_count": 9,
   "id": "95e552d2-a1ab-4a67-8285-8a937833f84d",
   "metadata": {},
   "outputs": [],
   "source": [
    "import censusdis.data as ced\n",
    "from censusdis.states import STATE_NJ\n",
    "\n",
    "COUNTY_ESSEX_NJ = \"013\"  # See county query above.\n",
    "\n",
    "DATASET = \"dec/pl\"\n",
    "YEAR = 2020\n",
    "VARIABLES = [\"NAME\", \"P2_001N\"]\n",
    "\n",
    "df_bg = ced.download_detail(\n",
    "    DATASET,\n",
    "    YEAR,\n",
    "    VARIABLES,\n",
    "    state=STATE_NJ,\n",
    "    county=COUNTY_ESSEX_NJ,\n",
    "    block_group=\"*\",\n",
    ")"
   ]
  },
  {
   "cell_type": "code",
   "execution_count": 10,
   "id": "ceb01df1-663f-4af4-ad98-4e0a69f9688d",
   "metadata": {},
   "outputs": [
    {
     "name": "stdout",
     "output_type": "stream",
     "text": [
      "  STATE COUNTY   TRACT BLOCK_GROUP                                                      NAME  P2_001N\n",
      "0    34    013  000100           2   Block Group 2, Census Tract 1, Essex County, New Jersey     2104\n",
      "1    34    013  000200           2   Block Group 2, Census Tract 2, Essex County, New Jersey     2096\n",
      "2    34    013  000400           1   Block Group 1, Census Tract 4, Essex County, New Jersey     2514\n",
      "3    34    013  000600           1   Block Group 1, Census Tract 6, Essex County, New Jersey     1816\n",
      "4    34    013  000700           2   Block Group 2, Census Tract 7, Essex County, New Jersey     2469\n",
      "5    34    013  000800           1   Block Group 1, Census Tract 8, Essex County, New Jersey     2388\n",
      "6    34    013  000900           1   Block Group 1, Census Tract 9, Essex County, New Jersey     1960\n",
      "7    34    013  001000           1  Block Group 1, Census Tract 10, Essex County, New Jersey     1100\n",
      "8    34    013  001100           2  Block Group 2, Census Tract 11, Essex County, New Jersey     1228\n",
      "9    34    013  001400           2  Block Group 2, Census Tract 14, Essex County, New Jersey     1742\n",
      "\n",
      "...\n",
      "\n",
      "    STATE COUNTY   TRACT BLOCK_GROUP                                                         NAME  P2_001N\n",
      "662    34    013  004700           2     Block Group 2, Census Tract 47, Essex County, New Jersey     1086\n",
      "663    34    013  004700           3     Block Group 3, Census Tract 47, Essex County, New Jersey      772\n",
      "664    34    013  004700           4     Block Group 4, Census Tract 47, Essex County, New Jersey      894\n",
      "665    34    013  004700           5     Block Group 5, Census Tract 47, Essex County, New Jersey      913\n",
      "666    34    013  004801           1  Block Group 1, Census Tract 48.01, Essex County, New Jersey     1681\n",
      "667    34    013  004801           2  Block Group 2, Census Tract 48.01, Essex County, New Jersey      912\n",
      "668    34    013  004802           1  Block Group 1, Census Tract 48.02, Essex County, New Jersey     1899\n",
      "669    34    013  004802           2  Block Group 2, Census Tract 48.02, Essex County, New Jersey      563\n",
      "670    34    013  004802           3  Block Group 3, Census Tract 48.02, Essex County, New Jersey     1651\n",
      "671    34    013  004900           1     Block Group 1, Census Tract 49, Essex County, New Jersey     1052\n"
     ]
    }
   ],
   "source": [
    "print(df_bg[:10].to_string(line_width=200))\n",
    "print()\n",
    "print(\"...\")\n",
    "print()\n",
    "print(df_bg[-10:].to_string(line_width=200))"
   ]
  },
  {
   "cell_type": "markdown",
   "id": "ccaff363-afa5-4205-a17b-103a48b33d76",
   "metadata": {},
   "source": [
    "## Query Geographies"
   ]
  },
  {
   "cell_type": "code",
   "execution_count": 11,
   "id": "d2edd714-1380-4797-a13b-d6170f18ab28",
   "metadata": {},
   "outputs": [],
   "source": [
    "import censusdis.geography as cgeo\n",
    "\n",
    "specs = cgeo.geo_path_snake_specs(DATASET, YEAR)"
   ]
  },
  {
   "cell_type": "code",
   "execution_count": 12,
   "id": "acb39856-30f6-443e-b3c8-f998f04f28ba",
   "metadata": {},
   "outputs": [
    {
     "name": "stdout",
     "output_type": "stream",
     "text": [
      "{'010': ['us'],\n",
      " '020': ['region'],\n",
      " '030': ['division'],\n",
      " '040': ['state'],\n",
      " '050': ['state', 'county'],\n",
      " '060': ['state', 'county', 'county_subdivision'],\n",
      " '067': ['state', 'county', 'county_subdivision', 'subminor_civil_division'],\n",
      " '100': ['state', 'county', 'tract', 'block'],\n",
      " '140': ['state', 'county', 'tract'],\n",
      " '150': ['state', 'county', 'tract', 'block_group'],\n",
      " '155': ['state', 'place', 'county_or_part'],\n",
      " '160': ['state', 'place'],\n",
      " '170': ['state', 'consolidated_city'],\n",
      " '172': ['state', 'consolidated_city', 'place_or_part'],\n",
      " '230': ['state', 'alaska_native_regional_corporation'],\n",
      " '250': ['american_indian_area_alaska_native_area_hawaiian_home_land'],\n",
      " '252': ['american_indian_area_alaska_native_area_reservation_or_statistical_entity_only'],\n",
      " '254': ['american_indian_area_off_reservation_trust_land_only_hawaiian_home_land'],\n",
      " '280': ['state',\n",
      "         'american_indian_area_alaska_native_area_hawaiian_home_land_or_part'],\n",
      " '281': ['state',\n",
      "         'american_indian_area_alaska_native_area_hawaiian_home_land_or_part',\n",
      "         'tribal_subdivision_remainder_or_part'],\n",
      " '282': ['state',\n",
      "         'american_indian_area_alaska_native_area_hawaiian_home_land_or_part',\n",
      "         'county_or_part'],\n",
      " '283': ['state',\n",
      "         'american_indian_area_alaska_native_area_reservation_or_statistical_entity_only_or_part'],\n",
      " '285': ['state',\n",
      "         'american_indian_area_alaska_native_area_reservation_or_statistical_entity_only_or_part',\n",
      "         'county_or_part'],\n",
      " '286': ['state',\n",
      "         'american_indian_area_off_reservation_trust_land_only_hawaiian_home_land_or_part'],\n",
      " '288': ['state',\n",
      "         'american_indian_area_off_reservation_trust_land_only_hawaiian_home_land_or_part',\n",
      "         'county_or_part'],\n",
      " '310': ['metropolitan_statistical_area_micropolitan_statistical_area'],\n",
      " '314': ['metropolitan_statistical_area_micropolitan_statistical_area',\n",
      "         'metropolitan_division'],\n",
      " '330': ['combined_statistical_area'],\n",
      " '335': ['combined_new_england_city_and_town_area'],\n",
      " '350': ['new_england_city_and_town_area'],\n",
      " '355': ['new_england_city_and_town_area', 'necta_division'],\n",
      " '500': ['state', 'congressional_district'],\n",
      " '510': ['state', 'congressional_district', 'county_or_part'],\n",
      " '511': ['state', 'congressional_district', 'county_or_part', 'tract_or_part'],\n",
      " '512': ['state', 'county', 'congressional_district_or_part'],\n",
      " '521': ['state',\n",
      "         'congressional_district',\n",
      "         'county_or_part',\n",
      "         'county_subdivision_or_part'],\n",
      " '531': ['state', 'congressional_district', 'place_remainder_or_part'],\n",
      " '532': ['state', 'place', 'congressional_district_or_part'],\n",
      " '541': ['state', 'congressional_district', 'consolidated_city_or_part'],\n",
      " '550': ['state',\n",
      "         'congressional_district',\n",
      "         'american_indian_area_alaska_native_area_hawaiian_home_land_or_part'],\n",
      " '553': ['state',\n",
      "         'congressional_district',\n",
      "         'american_indian_area_alaska_native_area_hawaiian_home_land_or_part',\n",
      "         'tribal_subdivision_remainder_or_part'],\n",
      " '570': ['state',\n",
      "         'congressional_district',\n",
      "         'school_district_elementary_or_part'],\n",
      " '571': ['state',\n",
      "         'congressional_district',\n",
      "         'school_district_secondary_or_part'],\n",
      " '572': ['state', 'congressional_district', 'school_district_unified_or_part'],\n",
      " '610': ['state', 'state_legislative_district_upper_chamber'],\n",
      " '612': ['state', 'state_legislative_district_upper_chamber', 'county_or_part'],\n",
      " '613': ['state',\n",
      "         'state_legislative_district_upper_chamber',\n",
      "         'county_or_part',\n",
      "         'county_subdivision_or_part'],\n",
      " '614': ['state',\n",
      "         'state_legislative_district_upper_chamber',\n",
      "         'place_remainder_or_part'],\n",
      " '615': ['state',\n",
      "         'state_legislative_district_upper_chamber',\n",
      "         'consolidated_city_or_part'],\n",
      " '616': ['state',\n",
      "         'state_legislative_district_upper_chamber',\n",
      "         'american_indian_area_alaska_native_area_hawaiian_home_land_or_part'],\n",
      " '617': ['state',\n",
      "         'state_legislative_district_upper_chamber',\n",
      "         'school_district_elementary_or_part'],\n",
      " '618': ['state',\n",
      "         'state_legislative_district_upper_chamber',\n",
      "         'school_district_secondary_or_part'],\n",
      " '619': ['state',\n",
      "         'state_legislative_district_upper_chamber',\n",
      "         'school_district_unified_or_part'],\n",
      " '620': ['state', 'state_legislative_district_lower_chamber'],\n",
      " '622': ['state', 'state_legislative_district_lower_chamber', 'county_or_part'],\n",
      " '623': ['state',\n",
      "         'state_legislative_district_lower_chamber',\n",
      "         'county_or_part',\n",
      "         'county_subdivision_or_part'],\n",
      " '624': ['state',\n",
      "         'state_legislative_district_lower_chamber',\n",
      "         'place_remainder_or_part'],\n",
      " '625': ['state',\n",
      "         'state_legislative_district_lower_chamber',\n",
      "         'consolidated_city_or_part'],\n",
      " '626': ['state',\n",
      "         'state_legislative_district_lower_chamber',\n",
      "         'american_indian_area_alaska_native_area_hawaiian_home_land_or_part'],\n",
      " '627': ['state',\n",
      "         'state_legislative_district_lower_chamber',\n",
      "         'school_district_elementary_or_part'],\n",
      " '628': ['state',\n",
      "         'state_legislative_district_lower_chamber',\n",
      "         'school_district_secondary_or_part'],\n",
      " '629': ['state',\n",
      "         'state_legislative_district_lower_chamber',\n",
      "         'school_district_unified_or_part'],\n",
      " '630': ['state',\n",
      "         'state_legislative_district_upper_chamber',\n",
      "         'county_or_part',\n",
      "         'voting_district_or_part'],\n",
      " '631': ['state',\n",
      "         'state_legislative_district_upper_chamber',\n",
      "         'county_or_part',\n",
      "         'tract_or_part'],\n",
      " '632': ['state',\n",
      "         'state_legislative_district_upper_chamber',\n",
      "         'county_or_part',\n",
      "         'county_subdivision_or_part',\n",
      "         'subminor_civil_division_or_part'],\n",
      " '633': ['state',\n",
      "         'state_legislative_district_upper_chamber',\n",
      "         'american_indian_area_alaska_native_area_hawaiian_home_land_or_part',\n",
      "         'tribal_subdivision_remainder_or_part'],\n",
      " '634': ['state',\n",
      "         'state_legislative_district_upper_chamber',\n",
      "         'alaska_native_regional_corporation_or_part'],\n",
      " '635': ['state',\n",
      "         'state_legislative_district_lower_chamber',\n",
      "         'county_or_part',\n",
      "         'voting_district_or_part'],\n",
      " '636': ['state',\n",
      "         'state_legislative_district_lower_chamber',\n",
      "         'county_or_part',\n",
      "         'tract_or_part'],\n",
      " '637': ['state',\n",
      "         'state_legislative_district_lower_chamber',\n",
      "         'county_or_part',\n",
      "         'county_subdivision_or_part',\n",
      "         'subminor_civil_division_or_part'],\n",
      " '638': ['state',\n",
      "         'state_legislative_district_lower_chamber',\n",
      "         'american_indian_area_alaska_native_area_hawaiian_home_land_or_part',\n",
      "         'tribal_subdivision_remainder_or_part'],\n",
      " '639': ['state',\n",
      "         'state_legislative_district_lower_chamber',\n",
      "         'alaska_native_regional_corporation_or_part'],\n",
      " '640': ['state', 'county', 'state_legislative_district_upper_chamber_or_part'],\n",
      " '641': ['state', 'county', 'state_legislative_district_lower_chamber_or_part'],\n",
      " '642': ['state', 'place', 'state_legislative_district_upper_chamber_or_part'],\n",
      " '643': ['state', 'place', 'state_legislative_district_lower_chamber_or_part'],\n",
      " '700': ['state', 'county', 'voting_district'],\n",
      " '701': ['state', 'county', 'voting_district', 'place_remainder_or_part'],\n",
      " '702': ['state', 'county', 'voting_district', 'consolidated_city_or_part'],\n",
      " '703': ['state',\n",
      "         'county',\n",
      "         'voting_district',\n",
      "         'american_indian_area_alaska_native_area_hawaiian_home_land_or_part'],\n",
      " '704': ['state',\n",
      "         'county',\n",
      "         'voting_district',\n",
      "         'american_indian_area_alaska_native_area_hawaiian_home_land_or_part',\n",
      "         'tribal_subdivision_remainder_or_part'],\n",
      " '705': ['state',\n",
      "         'county',\n",
      "         'voting_district',\n",
      "         'alaska_native_regional_corporation_or_part'],\n",
      " '706': ['state',\n",
      "         'county',\n",
      "         'voting_district',\n",
      "         'school_district_elementary_or_part'],\n",
      " '707': ['state',\n",
      "         'county',\n",
      "         'voting_district',\n",
      "         'school_district_secondary_or_part'],\n",
      " '708': ['state',\n",
      "         'county',\n",
      "         'voting_district',\n",
      "         'school_district_unified_or_part'],\n",
      " '709': ['state', 'county', 'voting_district', 'tract_or_part'],\n",
      " '710': ['state', 'county', 'voting_district', 'county_subdivision_or_part'],\n",
      " '715': ['state',\n",
      "         'county',\n",
      "         'voting_district',\n",
      "         'county_subdivision_or_part',\n",
      "         'subminor_civil_division_or_part'],\n",
      " '720': ['state',\n",
      "         'county',\n",
      "         'voting_district',\n",
      "         'county_subdivision_or_part',\n",
      "         'place_remainder_or_part'],\n",
      " '730': ['state',\n",
      "         'county',\n",
      "         'voting_district',\n",
      "         'county_subdivision_or_part',\n",
      "         'place_remainder_or_part',\n",
      "         'tract_or_part'],\n",
      " '735': ['state',\n",
      "         'county',\n",
      "         'voting_district',\n",
      "         'county_subdivision_or_part',\n",
      "         'subminor_civil_division_or_part',\n",
      "         'tract_or_part'],\n",
      " '740': ['state',\n",
      "         'county',\n",
      "         'voting_district',\n",
      "         'county_subdivision_or_part',\n",
      "         'place_remainder_or_part',\n",
      "         'tract_or_part',\n",
      "         'block_group_or_part'],\n",
      " '745': ['state',\n",
      "         'county',\n",
      "         'voting_district',\n",
      "         'county_subdivision_or_part',\n",
      "         'subminor_civil_division_or_part',\n",
      "         'tract_or_part',\n",
      "         'block_group_or_part'],\n",
      " '950': ['state', 'school_district_elementary'],\n",
      " '960': ['state', 'school_district_secondary'],\n",
      " '970': ['state', 'school_district_unified']}\n"
     ]
    }
   ],
   "source": [
    "import pprint\n",
    "\n",
    "pprint.pprint(specs)"
   ]
  },
  {
   "cell_type": "markdown",
   "id": "00d3f186-69c6-40d1-a662-e61824306d76",
   "metadata": {},
   "source": [
    "## CSAs"
   ]
  },
  {
   "cell_type": "code",
   "execution_count": 13,
   "id": "e745aa2d-8923-4f9c-a371-38e06ab8751d",
   "metadata": {},
   "outputs": [],
   "source": [
    "import censusdis.data as ced\n",
    "\n",
    "DATASET = \"dec/pl\"\n",
    "YEAR = 2020\n",
    "VARIABLES = [\"NAME\", \"P2_001N\"]\n",
    "\n",
    "df_csa = ced.download_detail(DATASET, YEAR, VARIABLES, combined_statistical_area=\"*\")"
   ]
  },
  {
   "cell_type": "code",
   "execution_count": 14,
   "id": "7ff68a49-b52d-4248-98b8-626da6d42ec6",
   "metadata": {},
   "outputs": [
    {
     "name": "stdout",
     "output_type": "stream",
     "text": [
      "  COMBINED_STATISTICAL_AREA                                                     NAME  P2_001N\n",
      "0                       104                               Albany-Schenectady, NY CSA  1190727\n",
      "1                       106                   Albuquerque-Santa Fe-Las Vegas, NM CSA  1162523\n",
      "2                       107                               Altoona-Huntingdon, PA CSA   166914\n",
      "3                       108                            Amarillo-Pampa-Borger, TX CSA   311362\n",
      "4                       118                          Appleton-Oshkosh-Neenah, WI CSA   414877\n",
      "5                       120                         Asheville-Marion-Brevard, NC CSA   546579\n",
      "6                       122  Atlanta--Athens-Clarke County--Sandy Springs, GA-AL CSA  6930423\n",
      "7                       140                                  Bend-Prineville, OR CSA   222991\n",
      "8                       142                      Birmingham-Hoover-Talladega, AL CSA  1350646\n",
      "9                       144                              Bloomington-Bedford, IN CSA   206050\n",
      "\n",
      "...\n",
      "\n",
      "    COMBINED_STATISTICAL_AREA                                                NAME  P2_001N\n",
      "165                       539                              Tupelo-Corinth, MS CSA   198138\n",
      "166                       540                          Tyler-Jacksonville, TX CSA   283891\n",
      "167                       544                        Victoria-Port Lavaca, TX CSA   118437\n",
      "168                       545                   Virginia Beach-Norfolk, VA-NC CSA  1890162\n",
      "169                       548  Washington-Baltimore-Arlington, DC-MD-VA-WV-PA CSA  9973383\n",
      "170                       554       Wausau-Stevens Point-Wisconsin Rapids, WI CSA   311012\n",
      "171                       556                            Wichita-Winfield, KS CSA   682159\n",
      "172                       558                     Williamsport-Lock Haven, PA CSA   151638\n",
      "173                       566                        Youngstown-Warren, OH-PA CSA   643120\n",
      "174                       517                         Spencer-Spirit Lake, IA CSA    34087\n"
     ]
    }
   ],
   "source": [
    "print(df_csa.iloc[:10].to_string(line_width=200))\n",
    "print()\n",
    "print(\"...\")\n",
    "print()\n",
    "print(df_csa.iloc[-10:].to_string(line_width=200))"
   ]
  },
  {
   "cell_type": "code",
   "execution_count": null,
   "id": "4d5d2965-f683-406f-a5bd-c57efb3176ef",
   "metadata": {},
   "outputs": [],
   "source": []
  }
 ],
 "metadata": {
  "kernelspec": {
   "display_name": "Python 3 (ipykernel)",
   "language": "python",
   "name": "python3"
  },
  "language_info": {
   "codemirror_mode": {
    "name": "ipython",
    "version": 3
   },
   "file_extension": ".py",
   "mimetype": "text/x-python",
   "name": "python",
   "nbconvert_exporter": "python",
   "pygments_lexer": "ipython3",
   "version": "3.9.10"
  }
 },
 "nbformat": 4,
 "nbformat_minor": 5
}
