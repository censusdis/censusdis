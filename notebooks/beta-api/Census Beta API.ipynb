{
 "cells": [
  {
   "cell_type": "markdown",
   "id": "c7cb8c90-659b-41da-8ab3-31f57b91e4ff",
   "metadata": {},
   "source": [
    "# U.S. Census Beta API Review: Overview and Concepts\n",
    "\n",
    "Darren Erik Vengroff, Ph.D.\n",
    "\n",
    "July 2024\n",
    "\n",
    "## Introduction\n",
    "\n",
    "I am reviewing the beta API from two perspectives:\n",
    "\n",
    "1. As a researcher who wants to access U.S. Census data in my normal analysis workflow. I will use examples in Python,\n",
    "   but others might choose R. The emphasis here is on whether the beta API makes it easy for me to express the concepts\n",
    "   I need to express to get the data I want into my environment so that I can continue my analysis.\n",
    "2. As someone who maintains a client library to make it easier for researchers to do their work.\n",
    "\n",
    "I began my journey with Census data as a researcher in category 1 and evolved into someone in category 2 as\n",
    "I developed [censusdis](https://github.com/censusdis/censusdis).\n",
    "\n",
    "Whenever I comment on the new API below, whether the comments are positive or negative, I will try to make\n",
    "them from the perspective of a member of one or more of these groups.\n",
    "\n",
    "I deliberately structured this response as a notebook so that you can see my thought process as I worked\n",
    "through the documentation and examples."
   ]
  },
  {
   "cell_type": "markdown",
   "id": "8a259f27-a9f9-4ad0-b528-d7c0320f42cf",
   "metadata": {},
   "source": [
    "## Overviews\n",
    "\n",
    "### Introduction \n",
    "\n",
    "[link to docs](https://api.census.gov/docs/user-guide/overview/introduction.html)\n",
    "\n",
    "I think the target audience matches up well to the two personas I mentioned above."
   ]
  },
  {
   "cell_type": "markdown",
   "id": "9e0d8ecb-0d4e-4712-9a8d-1a9536f9f300",
   "metadata": {},
   "source": [
    "### Making Queries\n",
    "\n",
    "[link to docs](https://api.census.gov/docs/user-guide/overview/making-queries.html)\n",
    "\n",
    "Note I went a bit out of order here.\n",
    "\n",
    "I don't think dropping direct browser support is a big problem. I assume this means that \n",
    "you expect POST, not a GET requests. Maybe you could be a bit more explicit about this right\n",
    "up front. I'll jump ahead and test it out here."
   ]
  },
  {
   "cell_type": "code",
   "execution_count": 1,
   "id": "aa7aede8-8c11-4a47-bce3-23360dd5baf3",
   "metadata": {},
   "outputs": [],
   "source": [
    "# I store my API key in `~/.censusdis/api_key.txt`. This simple API grabs it for me.\n",
    "from censusdis.geography import EnvironmentApiKey\n",
    "\n",
    "api_key = EnvironmentApiKey.api_key()"
   ]
  },
  {
   "cell_type": "code",
   "execution_count": 2,
   "id": "5384b4fe-87ba-4168-9034-616690e62ad9",
   "metadata": {},
   "outputs": [],
   "source": [
    "import requests"
   ]
  },
  {
   "cell_type": "markdown",
   "id": "a2c99c22-1464-48f1-b6d5-bdd6750ad1f0",
   "metadata": {},
   "source": [
    "Note: In order to figure out the right base URL, and also how exactly to put my\n",
    "API key into the header, I had to look at one of your sample queries at \n",
    "https://api.census.gov/docs/user-guide/endpoints/facets.html#example and then use\n",
    "my browsers debugger to watch network traffic when I hit the button to look at \n",
    "exactly how the post was constructed so I could replicate it here.\n",
    "\n",
    "Ideally, the base url and the fact that `Key` is the right header field for the\n",
    "API key should be explained in the documentation."
   ]
  },
  {
   "cell_type": "code",
   "execution_count": 3,
   "id": "ade38c14-1397-4093-88dd-bfa8a531d274",
   "metadata": {},
   "outputs": [],
   "source": [
    "BETA_API_BASE_URL = 'https://api.census.gov'\n",
    "\n",
    "DATASETS_URL = f'{BETA_API_BASE_URL}/search/facets/datasets'"
   ]
  },
  {
   "cell_type": "code",
   "execution_count": 4,
   "id": "1db5f54c-7fbf-4e01-bd87-1bc7e4c2cb91",
   "metadata": {},
   "outputs": [],
   "source": [
    "headers={\"Key\": api_key}"
   ]
  },
  {
   "cell_type": "code",
   "execution_count": 5,
   "id": "c8874a9b-6726-4a76-986e-66c05d93e409",
   "metadata": {},
   "outputs": [],
   "source": [
    "response_post = requests.post(DATASETS_URL, headers=headers)"
   ]
  },
  {
   "cell_type": "code",
   "execution_count": 6,
   "id": "d5320986-47df-4135-bc38-67f8fc0802e9",
   "metadata": {},
   "outputs": [
    {
     "data": {
      "text/plain": [
       "200"
      ]
     },
     "execution_count": 6,
     "metadata": {},
     "output_type": "execute_result"
    }
   ],
   "source": [
    "response_post.status_code"
   ]
  },
  {
   "cell_type": "code",
   "execution_count": 7,
   "id": "4fb90003-4025-4512-aa48-dcc8e7f5fd35",
   "metadata": {},
   "outputs": [],
   "source": [
    "response_get = requests.get(DATASETS_URL, headers=headers)"
   ]
  },
  {
   "cell_type": "code",
   "execution_count": 8,
   "id": "d9da9cba-9af4-4366-975b-60765c0f8831",
   "metadata": {},
   "outputs": [
    {
     "data": {
      "text/plain": [
       "405"
      ]
     },
     "execution_count": 8,
     "metadata": {},
     "output_type": "execute_result"
    }
   ],
   "source": [
    "response_get.status_code"
   ]
  },
  {
   "cell_type": "markdown",
   "id": "88ed2f23-999f-40a1-ab4c-251b2c0dd258",
   "metadata": {},
   "source": [
    "Confirmed that POST works and GET is not accepted."
   ]
  },
  {
   "cell_type": "markdown",
   "id": "1700ae1d-8649-4f80-bc7d-01306d225761",
   "metadata": {},
   "source": [
    "### Available Datasets\n",
    "\n",
    "[link to docs](https://api.census.gov/docs/user-guide/overview/available-datasets.html)\n",
    "\n",
    "Is this list of popular data sets the only ones that are currently supported? That was\n",
    "not totally clear.\n",
    "\n",
    "Again, I will jump ahead a bit and see by making the same query again."
   ]
  },
  {
   "cell_type": "code",
   "execution_count": 9,
   "id": "85a51956-4476-4921-a9c1-d9a3c0e29066",
   "metadata": {},
   "outputs": [],
   "source": [
    "response = requests.post(DATASETS_URL, headers=headers)"
   ]
  },
  {
   "cell_type": "code",
   "execution_count": 10,
   "id": "a64dadcb-29d2-4492-a96a-cdf60bcbce48",
   "metadata": {},
   "outputs": [],
   "source": [
    "json = response.json()"
   ]
  },
  {
   "cell_type": "code",
   "execution_count": 11,
   "id": "98fa8236-dd5f-481a-a279-b21c1deb1a5c",
   "metadata": {},
   "outputs": [],
   "source": [
    "facets = json['content']['facets']"
   ]
  },
  {
   "cell_type": "code",
   "execution_count": 12,
   "id": "5439c72f-53c3-4ff0-af4e-162dad3e78a4",
   "metadata": {},
   "outputs": [
    {
     "data": {
      "text/plain": [
       "['American Community Survey',\n",
       " 'Current Population Survey',\n",
       " 'Community Resilience Estimates',\n",
       " 'Decennial Census',\n",
       " 'Decennial Census of Island Areas',\n",
       " 'Economic Census',\n",
       " 'Economic Census of Island Areas',\n",
       " 'Economic Surveys',\n",
       " 'Household Pulse Survey',\n",
       " 'International Database',\n",
       " 'Population Estimates',\n",
       " 'Post-Secondary Employment Outcomes (PSEO)',\n",
       " 'Public Sector',\n",
       " 'Survey of Income and Program Participation',\n",
       " 'Survey of Market Absorption']"
      ]
     },
     "execution_count": 12,
     "metadata": {},
     "output_type": "execute_result"
    }
   ],
   "source": [
    "[facet['name'] for facet in facets]"
   ]
  },
  {
   "cell_type": "markdown",
   "id": "cb310bab-2aae-46b5-981a-8167692a8d02",
   "metadata": {},
   "source": [
    "OK, it looks like the set of supported data sets centers on the most popular ones."
   ]
  },
  {
   "cell_type": "markdown",
   "id": "1b417a61-965c-460e-9340-6189b34afcf3",
   "metadata": {},
   "source": [
    "### Authentication\n",
    "\n",
    "[link to docs](https://api.census.gov/docs/user-guide/overview/authentication.html)\n",
    "\n",
    "I already have an API key. It was not clear from the docs if I could use the one I have\n",
    "or if I needed a new one for the beta API. In the examples above I used the one I already\n",
    "have and it worked."
   ]
  },
  {
   "cell_type": "markdown",
   "id": "d253cf09-b8e0-45cb-82e8-0ff4b3872d4d",
   "metadata": {},
   "source": [
    "### Global Request Parameters\n",
    "\n",
    "[link to docs](https://api.census.gov/docs/user-guide/overview/global-request-parameters.html)\n",
    "\n",
    "In the examples you give, some of them use what look like acceptable values, like `\"2012\"` for\n",
    "a vintage. But for GEOIDs, you put `\"g1\"` and `\"g2\"` in quotes as if those are acceptable strings\n",
    "to pass. I reality, as discussed later in the docs, these strings actually look like, `\"0500000US04015\"`\n",
    "and similar. So maybe you should put some real ones here instead of `\"g1\"` and `\"g2\"`.\n",
    "\n",
    "Here's an example showing the 400 response we get with a bad one."
   ]
  },
  {
   "cell_type": "code",
   "execution_count": 13,
   "id": "8d65c54a-9991-4cc9-9f56-63ac53688a1e",
   "metadata": {},
   "outputs": [],
   "source": [
    "TABLE_DATA_URL = BETA_API_BASE_URL + '/table/data'"
   ]
  },
  {
   "cell_type": "code",
   "execution_count": 14,
   "id": "f110423a-ef19-44f4-9a60-2b60c72ee02a",
   "metadata": {},
   "outputs": [
    {
     "data": {
      "text/plain": [
       "'https://api.census.gov/table/data'"
      ]
     },
     "execution_count": 14,
     "metadata": {},
     "output_type": "execute_result"
    }
   ],
   "source": [
    "TABLE_DATA_URL"
   ]
  },
  {
   "cell_type": "code",
   "execution_count": 15,
   "id": "0305d7d0-1517-499d-b9b7-c67cd38238e8",
   "metadata": {},
   "outputs": [],
   "source": [
    "headers={\n",
    "    \"Key\": api_key, \n",
    "    \"Content-Type\": \"application/json\",\n",
    "}"
   ]
  },
  {
   "cell_type": "code",
   "execution_count": 16,
   "id": "79ea9ed3-2e01-422d-9cba-2b44a9707ffe",
   "metadata": {},
   "outputs": [],
   "source": [
    "bad_response = requests.post(\n",
    "    TABLE_DATA_URL, \n",
    "    headers=headers, \n",
    "    json={\n",
    "        \"tables\": [\n",
    "            {\n",
    "                \"id\": \"ACSDT5YSPT2015.B01001\",\n",
    "                \"geoIds\": [\"g1\",\"g2\"],\n",
    "            }\n",
    "        ]\n",
    "    }\n",
    ")"
   ]
  },
  {
   "cell_type": "code",
   "execution_count": 17,
   "id": "a13c5892-fe62-4254-af26-b623740b2ff3",
   "metadata": {},
   "outputs": [
    {
     "data": {
      "text/plain": [
       "400"
      ]
     },
     "execution_count": 17,
     "metadata": {},
     "output_type": "execute_result"
    }
   ],
   "source": [
    "bad_response.status_code"
   ]
  },
  {
   "cell_type": "code",
   "execution_count": 18,
   "id": "3d29d060-a922-429d-b8c6-6b45f1a7ac36",
   "metadata": {},
   "outputs": [],
   "source": [
    "good_response = requests.post(\n",
    "    TABLE_DATA_URL, \n",
    "    headers=headers, \n",
    "    json={\n",
    "        \"tables\": [\n",
    "            {\n",
    "                \"id\": \"ACSDT5YSPT2015.B01001\",\n",
    "                \"geoIds\": [\"0500000US04015\"],\n",
    "            }\n",
    "        ]\n",
    "    }\n",
    ")"
   ]
  },
  {
   "cell_type": "code",
   "execution_count": 19,
   "id": "2bd7d0ed-417b-4c7a-b9ce-bc9a82e9a6ac",
   "metadata": {},
   "outputs": [
    {
     "data": {
      "text/plain": [
       "200"
      ]
     },
     "execution_count": 19,
     "metadata": {},
     "output_type": "execute_result"
    }
   ],
   "source": [
    "good_response.status_code"
   ]
  },
  {
   "cell_type": "markdown",
   "id": "51fbe844-a18c-4a75-86b6-49846bc22c48",
   "metadata": {},
   "source": [
    "### Common Response Structure\n",
    "\n",
    "[link to docs](https://api.census.gov/docs/user-guide/overview/common-response-structure.html)\n",
    "\n",
    "Maybe the current error message are preliminary, but I would like to see something more helpful than\n",
    "this. We got a lot of feedback that geographies are hard to understand, so we made the error messages\n",
    "as detailed as possible in cases like this. It would be great to explain what geographies are supported\n",
    "instead of just saying the requested ones are not."
   ]
  },
  {
   "cell_type": "code",
   "execution_count": 20,
   "id": "f5d53dd2-0efa-4a55-8a85-259c27cd4604",
   "metadata": {},
   "outputs": [
    {
     "data": {
      "text/plain": [
       "{'error': ['Table ACSDT5YSPT2015.B01001 has no data for the requested geographies']}"
      ]
     },
     "execution_count": 20,
     "metadata": {},
     "output_type": "execute_result"
    }
   ],
   "source": [
    "bad_response.json()['service-messages']"
   ]
  },
  {
   "cell_type": "markdown",
   "id": "3ddb5152-65ba-43f5-add1-2ce44e84612a",
   "metadata": {},
   "source": [
    "Here is an example of a similar scenario in `censusdis`:"
   ]
  },
  {
   "cell_type": "code",
   "execution_count": 21,
   "id": "1d7ade66-d0e4-4774-abcb-5aa397cb11b8",
   "metadata": {},
   "outputs": [],
   "source": [
    "import censusdis.data as ced\n",
    "from censusdis.datasets import ACS5\n",
    "from censusdis import CensusApiException"
   ]
  },
  {
   "cell_type": "code",
   "execution_count": 22,
   "id": "0e877f53-db06-47e6-b9d9-1688bff71428",
   "metadata": {},
   "outputs": [
    {
     "name": "stdout",
     "output_type": "stream",
     "text": [
      "Unable to match the geography specification {'geo': 'g1'}.\n",
      "Supported geographies for dataset='acs/acs5' in year=2015 are:\n",
      "['us']\n",
      "['region']\n",
      "['division']\n",
      "['state']\n",
      "['state', 'county']\n",
      "['state', 'county', 'county_subdivision']\n",
      "['state', 'county', 'county_subdivision', 'subminor_civil_division']\n",
      "['state', 'county', 'county_subdivision', 'place_remainder_or_part']\n",
      "['state', 'county', 'tract']\n",
      "['state', 'county', 'tract', 'block_group']\n",
      "['state', 'place', 'county_or_part']\n",
      "['state', 'place']\n",
      "['state', 'consolidated_city']\n",
      "['state', 'consolidated_city', 'place_or_part']\n",
      "['state', 'alaska_native_regional_corporation']\n",
      "['american_indian_area_alaska_native_area_hawaiian_home_land']\n",
      "['american_indian_area_alaska_native_area_hawaiian_home_land', 'american_indian_tribal_subdivision']\n",
      "['american_indian_area_alaska_native_area_hawaiian_home_land', 'american_indian_area_alaska_native_area_reservation_or_statistical_entity_only']\n",
      "['american_indian_area_alaska_native_area_hawaiian_home_land', 'american_indian_area_off_reservation_trust_land_only_hawaiian_home_land']\n",
      "['american_indian_area_alaska_native_area_hawaiian_home_land', 'tribal_census_tract']\n",
      "['american_indian_area_alaska_native_area_hawaiian_home_land', 'tribal_census_tract', 'tribal_block_group']\n",
      "['american_indian_area_alaska_native_area_hawaiian_home_land', 'state_or_part']\n",
      "['american_indian_area_alaska_native_area_hawaiian_home_land', 'state_or_part', 'place_or_part']\n",
      "['american_indian_area_alaska_native_area_hawaiian_home_land', 'state_or_part', 'county_or_part']\n",
      "['state', 'american_indian_area_alaska_native_area_hawaiian_home_land_or_part']\n",
      "['state', 'american_indian_area_alaska_native_area_hawaiian_home_land_or_part', 'american_indian_area_alaska_native_area_reservation_or_statistical_entity_only_or_part']\n",
      "['state', 'american_indian_area_alaska_native_area_hawaiian_home_land_or_part', 'american_indian_area_off_reservation_trust_land_only_hawaiian_home_land_or_part']\n",
      "['american_indian_area_alaska_native_area_hawaiian_home_land', 'american_indian_tribal_subdivision', 'state_or_part']\n",
      "['american_indian_area_alaska_native_area_hawaiian_home_land', 'american_indian_area_alaska_native_area_reservation_or_statistical_entity_only', 'tribal_census_tract_or_part']\n",
      "['american_indian_area_alaska_native_area_hawaiian_home_land', 'american_indian_area_off_reservation_trust_land_only_hawaiian_home_land', 'tribal_census_tract_or_part']\n",
      "['american_indian_area_alaska_native_area_hawaiian_home_land', 'american_indian_area_alaska_native_area_reservation_or_statistical_entity_only', 'tribal_census_tract_or_part', 'tribal_block_group_or_part']\n",
      "['american_indian_area_alaska_native_area_hawaiian_home_land', 'american_indian_area_off_reservation_trust_land_only_hawaiian_home_land', 'tribal_census_tract_or_part', 'tribal_block_group_or_part']\n",
      "['metropolitan_statistical_area_micropolitan_statistical_area']\n",
      "['metropolitan_statistical_area_micropolitan_statistical_area', 'state_or_part']\n",
      "['metropolitan_statistical_area_micropolitan_statistical_area', 'principal_city_or_part']\n",
      "['metropolitan_statistical_area_micropolitan_statistical_area', 'state_or_part', 'county']\n",
      "['metropolitan_statistical_area_micropolitan_statistical_area', 'metropolitan_division']\n",
      "['metropolitan_statistical_area_micropolitan_statistical_area', 'metropolitan_division', 'state_or_part']\n",
      "['metropolitan_statistical_area_micropolitan_statistical_area', 'metropolitan_division', 'state_or_part', 'county']\n",
      "['state', 'metropolitan_statistical_area_micropolitan_statistical_area_or_part']\n",
      "['state', 'metropolitan_statistical_area_micropolitan_statistical_area_or_part', 'principal_city_or_part']\n",
      "['state', 'metropolitan_statistical_area_micropolitan_statistical_area_or_part', 'county']\n",
      "['state', 'metropolitan_statistical_area_micropolitan_statistical_area_or_part', 'metropolitan_division_or_part']\n",
      "['state', 'metropolitan_statistical_area_micropolitan_statistical_area_or_part', 'metropolitan_division_or_part', 'county']\n",
      "['combined_statistical_area']\n",
      "['combined_statistical_area', 'state_or_part']\n",
      "['combined_statistical_area', 'metropolitan_statistical_area_micropolitan_statistical_area']\n",
      "['combined_statistical_area', 'metropolitan_statistical_area_micropolitan_statistical_area', 'state_or_part']\n",
      "['combined_new_england_city_and_town_area']\n",
      "['combined_new_england_city_and_town_area', 'state_or_part']\n",
      "['combined_new_england_city_and_town_area', 'new_england_city_and_town_area']\n",
      "['combined_new_england_city_and_town_area', 'new_england_city_and_town_area', 'state_or_part']\n",
      "['state', 'combined_statistical_area_or_part']\n",
      "['state', 'combined_statistical_area_or_part', 'metropolitan_statistical_area_micropolitan_statistical_area_or_part']\n",
      "['state', 'combined_new_england_city_and_town_area_or_part']\n",
      "['state', 'combined_new_england_city_and_town_area_or_part', 'new_england_city_and_town_area_or_part']\n",
      "['new_england_city_and_town_area']\n",
      "['new_england_city_and_town_area', 'state_or_part']\n",
      "['new_england_city_and_town_area', 'principal_city']\n",
      "['new_england_city_and_town_area', 'state_or_part', 'county_or_part']\n",
      "['new_england_city_and_town_area', 'state_or_part', 'county_or_part', 'county_subdivision']\n",
      "['new_england_city_and_town_area', 'necta_division']\n",
      "['new_england_city_and_town_area', 'necta_division', 'state_or_part']\n",
      "['new_england_city_and_town_area', 'necta_division', 'state_or_part', 'county_or_part']\n",
      "['new_england_city_and_town_area', 'necta_division', 'state_or_part', 'county_or_part', 'county_subdivision']\n",
      "['state', 'new_england_city_and_town_area_or_part']\n",
      "['state', 'new_england_city_and_town_area_or_part', 'principal_city']\n",
      "['state', 'new_england_city_and_town_area_or_part', 'county_or_part']\n",
      "['state', 'new_england_city_and_town_area_or_part', 'county_or_part', 'county_subdivision']\n",
      "['state', 'new_england_city_and_town_area_or_part', 'necta_division_or_part']\n",
      "['state', 'new_england_city_and_town_area_or_part', 'necta_division_or_part', 'county_or_part']\n",
      "['state', 'new_england_city_and_town_area_or_part', 'necta_division_or_part', 'county_or_part', 'county_subdivision']\n",
      "['urban_area']\n",
      "['urban_area', 'state_or_part']\n",
      "['urban_area', 'state_or_part', 'county_or_part']\n",
      "['state', 'congressional_district']\n",
      "['state', 'congressional_district', 'county_or_part']\n",
      "['state', 'congressional_district', 'american_indian_area_alaska_native_area_hawaiian_home_land_or_part']\n",
      "['state', 'state_legislative_district_upper_chamber']\n",
      "['state', 'state_legislative_district_upper_chamber', 'county_or_part']\n",
      "['state', 'state_legislative_district_lower_chamber']\n",
      "['state', 'state_legislative_district_lower_chamber', 'county_or_part']\n",
      "['state', 'public_use_microdata_area']\n",
      "['state', 'zip_code_tabulation_area']\n",
      "['state', 'school_district_elementary']\n",
      "['state', 'school_district_secondary']\n",
      "['state', 'school_district_unified']\n"
     ]
    }
   ],
   "source": [
    "try:\n",
    "    df = ced.download(\n",
    "        ACS5,\n",
    "        2015,\n",
    "        group='B01001',\n",
    "        geo='g1',\n",
    "    )\n",
    "except CensusApiException as e:\n",
    "    print(e)"
   ]
  },
  {
   "cell_type": "markdown",
   "id": "bfbbb0b2-b654-499c-be75-3b1af235669e",
   "metadata": {},
   "source": [
    "Now I can read the error message, and realize what I want is state and county."
   ]
  },
  {
   "cell_type": "code",
   "execution_count": 23,
   "id": "9c36a17a-91d8-443d-815f-e83d63d60c9d",
   "metadata": {},
   "outputs": [],
   "source": [
    "import censusdis.states as states\n",
    "from censusdis.counties.arizona import MOHAVE\n",
    "\n",
    "df = ced.download(\n",
    "    ACS5,\n",
    "    2015,\n",
    "    ['NAME'],\n",
    "    group='B01001',\n",
    "    \n",
    "    state=states.AZ,\n",
    "    county=MOHAVE\n",
    ")"
   ]
  },
  {
   "cell_type": "code",
   "execution_count": 24,
   "id": "c3f86c0b-baf5-481f-915f-b461a92dca86",
   "metadata": {},
   "outputs": [
    {
     "data": {
      "text/html": [
       "<div>\n",
       "<style scoped>\n",
       "    .dataframe tbody tr th:only-of-type {\n",
       "        vertical-align: middle;\n",
       "    }\n",
       "\n",
       "    .dataframe tbody tr th {\n",
       "        vertical-align: top;\n",
       "    }\n",
       "\n",
       "    .dataframe thead th {\n",
       "        text-align: right;\n",
       "    }\n",
       "</style>\n",
       "<table border=\"1\" class=\"dataframe\">\n",
       "  <thead>\n",
       "    <tr style=\"text-align: right;\">\n",
       "      <th></th>\n",
       "      <th>STATE</th>\n",
       "      <th>COUNTY</th>\n",
       "      <th>NAME</th>\n",
       "      <th>B01001_001E</th>\n",
       "      <th>B01001_002E</th>\n",
       "      <th>B01001_003E</th>\n",
       "      <th>B01001_004E</th>\n",
       "      <th>B01001_005E</th>\n",
       "      <th>B01001_006E</th>\n",
       "      <th>B01001_007E</th>\n",
       "      <th>...</th>\n",
       "      <th>B01001_041E</th>\n",
       "      <th>B01001_042E</th>\n",
       "      <th>B01001_043E</th>\n",
       "      <th>B01001_044E</th>\n",
       "      <th>B01001_045E</th>\n",
       "      <th>B01001_046E</th>\n",
       "      <th>B01001_047E</th>\n",
       "      <th>B01001_048E</th>\n",
       "      <th>B01001_049E</th>\n",
       "      <th>GEO_ID</th>\n",
       "    </tr>\n",
       "  </thead>\n",
       "  <tbody>\n",
       "    <tr>\n",
       "      <th>0</th>\n",
       "      <td>04</td>\n",
       "      <td>015</td>\n",
       "      <td>Mohave County, Arizona</td>\n",
       "      <td>203362</td>\n",
       "      <td>102371</td>\n",
       "      <td>4882</td>\n",
       "      <td>5447</td>\n",
       "      <td>5912</td>\n",
       "      <td>3561</td>\n",
       "      <td>2037</td>\n",
       "      <td>...</td>\n",
       "      <td>8507</td>\n",
       "      <td>3439</td>\n",
       "      <td>4727</td>\n",
       "      <td>3373</td>\n",
       "      <td>4967</td>\n",
       "      <td>7239</td>\n",
       "      <td>4768</td>\n",
       "      <td>3332</td>\n",
       "      <td>2901</td>\n",
       "      <td>0500000US04015</td>\n",
       "    </tr>\n",
       "  </tbody>\n",
       "</table>\n",
       "<p>1 rows × 53 columns</p>\n",
       "</div>"
      ],
      "text/plain": [
       "  STATE COUNTY                    NAME  B01001_001E  B01001_002E  B01001_003E  \\\n",
       "0    04    015  Mohave County, Arizona       203362       102371         4882   \n",
       "\n",
       "   B01001_004E  B01001_005E  B01001_006E  B01001_007E  ...  B01001_041E  \\\n",
       "0         5447         5912         3561         2037  ...         8507   \n",
       "\n",
       "   B01001_042E  B01001_043E  B01001_044E  B01001_045E  B01001_046E  \\\n",
       "0         3439         4727         3373         4967         7239   \n",
       "\n",
       "   B01001_047E  B01001_048E  B01001_049E          GEO_ID  \n",
       "0         4768         3332         2901  0500000US04015  \n",
       "\n",
       "[1 rows x 53 columns]"
      ]
     },
     "execution_count": 24,
     "metadata": {},
     "output_type": "execute_result"
    }
   ],
   "source": [
    "df"
   ]
  },
  {
   "cell_type": "markdown",
   "id": "105c999b-b5b6-454b-8fde-7f87d2680ff0",
   "metadata": {},
   "source": [
    "### Attributes\n",
    "\n",
    "[link to docs](https://api.census.gov/docs/user-guide/overview/attributes.html)\n",
    "\n",
    "I'm not sure what `took` is about? Is this how long it took on the server side? \n",
    "Some notion of resources consumed? I'm not sure."
   ]
  },
  {
   "cell_type": "code",
   "execution_count": 25,
   "id": "d8417fa0-4317-4f05-9c53-6bf398050c46",
   "metadata": {},
   "outputs": [
    {
     "data": {
      "text/plain": [
       "{'took': 0}"
      ]
     },
     "execution_count": 25,
     "metadata": {},
     "output_type": "execute_result"
    }
   ],
   "source": [
    "bad_response.json()['general-info']"
   ]
  },
  {
   "cell_type": "code",
   "execution_count": 26,
   "id": "291f7936-3db6-413d-b11c-132b186900c8",
   "metadata": {},
   "outputs": [
    {
     "data": {
      "text/plain": [
       "{'took': 0}"
      ]
     },
     "execution_count": 26,
     "metadata": {},
     "output_type": "execute_result"
    }
   ],
   "source": [
    "good_response.json()['general-info']"
   ]
  },
  {
   "cell_type": "markdown",
   "id": "fb02c152-4c4c-47c9-826d-eb76088f8263",
   "metadata": {},
   "source": [
    "## Concepts\n",
    "\n",
    "### Geography\n",
    "\n",
    "[link to docs](https://api.census.gov/docs/user-guide/concepts/geography.html)\n",
    "\n",
    "This is the section where I think I am going to be most critical. The way that `geoIds` have\n",
    "to be constructed in the beta API is, in my opinion a step backwards both for researchers\n",
    "who want to query the data and for developers of client-side APIs like `censusdis`.\n",
    "There are two primary reasons for this:\n",
    "\n",
    "1. Now users have to know the codes for summary levels. This is just one more set of\n",
    "   codes to remember or, more likely, to forget and to have to look up every time you\n",
    "   want to use them.\n",
    "3. This new approach is an example of what I call *coding by string construction*. The\n",
    "   idea is that instead of writing your code in a proper language, like Python or R,\n",
    "   using standard idioms and taking advantage of tools like IDEs, syntax checkers, and\n",
    "   so on to guide you and catch problems before you even run a single line of code,\n",
    "   you are forced to construct a string that has detailed semantic meaning and is hard\n",
    "   to get right.\n",
    "\n",
    "I know that summary level codes have always existed, and `censusdis` looks them up and\n",
    "uses them internally, but we went out of our way to never expose them to users.\n",
    "\n",
    "As far as coding by string construction, in this case I wonder if these are really facet\n",
    "ids used by whatever underlying faceted search library you are using on the server side\n",
    "and you are needlessly exposing them to users because that way you don't have to do \n",
    "any translation to or from an internal format that may make sense to machines, but does\n",
    "not make sense to people.\n",
    "\n",
    "I am going to demonstrate below some of the kind of experiences that this new approach\n",
    "is likely to put users through and contrast them with what I think, and my users have\n",
    "told me, is a friendly user-centric approach to geography. Some additional examples \n",
    "and related materials are available in [Lesson 2](https://github.com/censusdis/censusdis-tutorial-2024/blob/main/Lessons/Lesson%202%20Maps.ipynb) of a tutorial I gave on the subject.\n"
   ]
  },
  {
   "cell_type": "markdown",
   "id": "6598e928-0f5b-48e2-915f-0334d9994768",
   "metadata": {},
   "source": [
    "#### Examples of GeoId Construction\n",
    "\n",
    "Let's begin with Mohave County, Arizona, the first example from [the documentation](https://api.census.gov/docs/user-guide/concepts/geography.html).\n",
    "\n",
    "Here's how I would do it if I had to construct the ID manually:"
   ]
  },
  {
   "cell_type": "code",
   "execution_count": 27,
   "id": "159f17cd-0042-4037-986b-2e46bbd42ba6",
   "metadata": {},
   "outputs": [
    {
     "data": {
      "text/plain": [
       "'0500000US04015'"
      ]
     },
     "execution_count": 27,
     "metadata": {},
     "output_type": "execute_result"
    }
   ],
   "source": [
    "# A good reference to summary levels so you can find the one you want: https://mcdc.missouri.edu/geography/sumlevs/\n",
    "\n",
    "# County is summary level 050. \n",
    "SUMMARY_LEVEL_COUNTY = '050'\n",
    "\n",
    "# I already imported symbols for the FIPS codes I need from `censusdis`\n",
    "# so I will use them in constructing my geoId.\n",
    "\n",
    "geo_id_mojave_county_az = f'{SUMMARY_LEVEL_COUNTY}0000US{states.AZ}{MOHAVE}'\n",
    "\n",
    "geo_id_mojave_county_az"
   ]
  },
  {
   "cell_type": "markdown",
   "id": "fbea09b2-3db9-4c13-991b-f0c03af909ea",
   "metadata": {},
   "source": [
    "Now I have something I can pass on to the POST I did above. If I were writing a library,\n",
    "I would probably make a convenience method for each summary level. So this one would look\n",
    "like this:"
   ]
  },
  {
   "cell_type": "code",
   "execution_count": 28,
   "id": "f9a109ee-f6d9-412e-bc8a-0f09ac357429",
   "metadata": {},
   "outputs": [],
   "source": [
    "def geoid_state_county(state_fips: str, county_fips: str) -> str:\n",
    "    \"\"\"Construct a geoId for a state and a county.\"\"\"\n",
    "    return f'{SUMMARY_LEVEL_COUNTY}0000US{state_fips}{county_fips}'"
   ]
  },
  {
   "cell_type": "markdown",
   "id": "1ede0ec8-5195-485b-afe1-d7453bc3f3c9",
   "metadata": {},
   "source": [
    "Now the user would do this instead of direct string manipulation:"
   ]
  },
  {
   "cell_type": "code",
   "execution_count": 29,
   "id": "378fc1d8-5d6e-4d0a-8b7a-05aaf8330be9",
   "metadata": {},
   "outputs": [
    {
     "data": {
      "text/plain": [
       "'0500000US04015'"
      ]
     },
     "execution_count": 29,
     "metadata": {},
     "output_type": "execute_result"
    }
   ],
   "source": [
    "geo_id_mojave_county_az = geoid_state_county(states.AZ, MOHAVE)\n",
    "\n",
    "geo_id_mojave_county_az"
   ]
  },
  {
   "cell_type": "markdown",
   "id": "86200288-72d3-484d-a6b5-f31992e8db4a",
   "metadata": {},
   "source": [
    "Contrast this to what you saw in the query above, where I never explicitly\n",
    "constructed or dealt with a representation of geography as a string or an\n",
    "object. I just used `state=states.AZ, county=MOHAVE` directly in my\n",
    "query to get the data I wanted, and all the other details happened behind\n",
    "the scenes for me, including generation of the nice error message when I\n",
    "got it wrong.\n",
    "\n",
    "While I can certainly keep the user-facing `censusdis` interface I have and\n",
    "implement a utility function behind the scenes that looks like `geoid_from_geo(**kwargs)`\n",
    "that I would call to construct geoids from arbitrary combinations of \n",
    "keyword args that I would then pass to the beta API, it seems like a waste\n",
    "of effort on both our parts. I as the client developer or end user have to\n",
    "marshall my geography request into a string and you, on the server side most\n",
    "likely have to parse it out into components. Maybe you have you have data\n",
    "indexed in a way where these are direct keys, but in that case you are exposing\n",
    "internal implementation details that most users don't want to know about.\n",
    "\n",
    "In summary, I think just about everyone would rather use an API (whether it is \n",
    "the REST API or an API provided by a client library) that takes arguments like\n",
    "```\n",
    "{\n",
    "    'state': '04',\n",
    "    'county': '015'\n",
    "}\n",
    "```\n",
    "than\n",
    "```\n",
    "{\n",
    "    'geoId': ''0500000US04015'\n",
    "}\n",
    "```\n",
    "Where the former is written in terms of concepts humans think about and the latter\n",
    "is written in terms of code as strings with a domain-specific encoding."
   ]
  },
  {
   "cell_type": "markdown",
   "id": "68802eae-ad56-4949-9015-5b9f6dfb93ea",
   "metadata": {},
   "source": [
    "For completness, here are additional queries that show the kind of simple user-friendly\n",
    "API approach vs. the coding by string construction approach."
   ]
  },
  {
   "cell_type": "code",
   "execution_count": 30,
   "id": "4b1a670a-47d0-480f-88fa-9ed9cef61377",
   "metadata": {},
   "outputs": [
    {
     "data": {
      "text/html": [
       "<div>\n",
       "<style scoped>\n",
       "    .dataframe tbody tr th:only-of-type {\n",
       "        vertical-align: middle;\n",
       "    }\n",
       "\n",
       "    .dataframe tbody tr th {\n",
       "        vertical-align: top;\n",
       "    }\n",
       "\n",
       "    .dataframe thead th {\n",
       "        text-align: right;\n",
       "    }\n",
       "</style>\n",
       "<table border=\"1\" class=\"dataframe\">\n",
       "  <thead>\n",
       "    <tr style=\"text-align: right;\">\n",
       "      <th></th>\n",
       "      <th>METROPOLITAN_STATISTICAL_AREA_MICROPOLITAN_STATISTICAL_AREA</th>\n",
       "      <th>NAME</th>\n",
       "      <th>B01001_001E</th>\n",
       "    </tr>\n",
       "  </thead>\n",
       "  <tbody>\n",
       "    <tr>\n",
       "      <th>0</th>\n",
       "      <td>26420</td>\n",
       "      <td>Houston-The Woodlands-Sugar Land, TX Metro Area</td>\n",
       "      <td>7142603</td>\n",
       "    </tr>\n",
       "  </tbody>\n",
       "</table>\n",
       "</div>"
      ],
      "text/plain": [
       "  METROPOLITAN_STATISTICAL_AREA_MICROPOLITAN_STATISTICAL_AREA  \\\n",
       "0                                              26420            \n",
       "\n",
       "                                              NAME  B01001_001E  \n",
       "0  Houston-The Woodlands-Sugar Land, TX Metro Area      7142603  "
      ]
     },
     "execution_count": 30,
     "metadata": {},
     "output_type": "execute_result"
    }
   ],
   "source": [
    "# Houston-Pasadena-The Woodlands, Texas Metro Area\n",
    "\n",
    "from censusdis.msa_msa import HOUSTON_THE_WOODLANDS_SUGAR_LAND_TX_METRO_AREA\n",
    "\n",
    "df_cbsa = ced.download(\n",
    "    ACS5,\n",
    "    2022,\n",
    "    ['NAME', 'B01001_001E'],\n",
    "    metropolitan_statistical_area_micropolitan_statistical_area=HOUSTON_THE_WOODLANDS_SUGAR_LAND_TX_METRO_AREA\n",
    ")\n",
    "\n",
    "df_cbsa"
   ]
  },
  {
   "cell_type": "code",
   "execution_count": 31,
   "id": "a6e04ca1-2e05-40eb-8f96-d5a60067c177",
   "metadata": {},
   "outputs": [
    {
     "data": {
      "text/plain": [
       "'3100000US26420'"
      ]
     },
     "execution_count": 31,
     "metadata": {},
     "output_type": "execute_result"
    }
   ],
   "source": [
    "# Oops. CBSA, aka metropolitan/micropolitan is not in my goto list at https://mcdc.missouri.edu/geography/sumlevs/\n",
    "# There is a more extensive list at https://mcdc.missouri.edu/geography/sumlevs/sumlev-master-list.csv\n",
    "# Let's check that. According to that one, 310 is the summary level we want.\n",
    "\n",
    "SUMMARY_LEVEL_CBSA = \"310\"\n",
    "\n",
    "# Note that if I didn't have the symbol, I'd need to explore to find the right \n",
    "# number for Houston.\n",
    "geo_id_cbsa = f\"{SUMMARY_LEVEL_CBSA}0000US{HOUSTON_THE_WOODLANDS_SUGAR_LAND_TX_METRO_AREA}\"\n",
    "\n",
    "geo_id_cbsa"
   ]
  },
  {
   "cell_type": "code",
   "execution_count": 32,
   "id": "03640572-440a-4ad7-aa56-9f9496f745db",
   "metadata": {},
   "outputs": [],
   "source": [
    "TABLE_URL = BETA_API_BASE_URL + '/table'"
   ]
  },
  {
   "cell_type": "code",
   "execution_count": 33,
   "id": "279f439c-fc17-4e4d-aab4-66eaaaf4ee66",
   "metadata": {},
   "outputs": [],
   "source": [
    "cbsa_response = requests.post(\n",
    "    TABLE_URL, \n",
    "    headers=headers, \n",
    "    json={\n",
    "        \"tables\": [\n",
    "            {\n",
    "                # Note that this ID is again an example of coding\n",
    "                # by string construction.\n",
    "                \"id\": \"ACSDT5Y2015.B01001\",\n",
    "                \"geoIds\": [geo_id_cbsa],\n",
    "                \"columns\": [\"B01001_001E\"]\n",
    "            }\n",
    "        ]\n",
    "    }\n",
    ")"
   ]
  },
  {
   "cell_type": "code",
   "execution_count": 34,
   "id": "a88177cf-0c97-4623-b14f-81e4216de72d",
   "metadata": {},
   "outputs": [
    {
     "data": {
      "text/plain": [
       "400"
      ]
     },
     "execution_count": 34,
     "metadata": {},
     "output_type": "execute_result"
    }
   ],
   "source": [
    "cbsa_response.status_code"
   ]
  },
  {
   "cell_type": "code",
   "execution_count": 35,
   "id": "f2d9db36-567e-429f-98b5-d63e0730b705",
   "metadata": {},
   "outputs": [
    {
     "data": {
      "text/plain": [
       "['Table ACSDT5Y2015.B01001 has no data for the requested geographies']"
      ]
     },
     "execution_count": 35,
     "metadata": {},
     "output_type": "execute_result"
    }
   ],
   "source": [
    "cbsa_response.json()['service-messages']['error']"
   ]
  },
  {
   "cell_type": "code",
   "execution_count": 36,
   "id": "404a7c3c-b776-4ade-84e8-9ea032b24265",
   "metadata": {},
   "outputs": [],
   "source": [
    "# It looks like data may not be loaded for this geography in the beta API. \n",
    "# Let's just double check we can get it for the county-level geography.\n",
    "\n",
    "county_response = requests.post(\n",
    "    TABLE_URL, \n",
    "    headers=headers, \n",
    "    json={\n",
    "        \"tables\": [\n",
    "            {\n",
    "                \"id\": \"ACSDT5Y2015.B01001\",\n",
    "                \"geoIds\": [geo_id_mojave_county_az],\n",
    "                \"columns\": [\"B01001_001E\"]\n",
    "            }\n",
    "        ]\n",
    "    }\n",
    ")"
   ]
  },
  {
   "cell_type": "code",
   "execution_count": 37,
   "id": "e2c9978a-3f61-4d73-9429-3946bb15a89c",
   "metadata": {},
   "outputs": [
    {
     "data": {
      "text/plain": [
       "200"
      ]
     },
     "execution_count": 37,
     "metadata": {},
     "output_type": "execute_result"
    }
   ],
   "source": [
    "county_response.status_code"
   ]
  },
  {
   "cell_type": "code",
   "execution_count": 38,
   "id": "515d9768-f358-4046-86fd-a6a13d5ecdbf",
   "metadata": {},
   "outputs": [
    {
     "data": {
      "text/plain": [
       "{'columns': [{'label': 'Estimate!!Total', 'id': 'B01001_001E'}],\n",
       " 'rows': [{'B01001_001E': 203362}]}"
      ]
     },
     "execution_count": 38,
     "metadata": {},
     "output_type": "execute_result"
    }
   ],
   "source": [
    "county_response.json()['content']['tables'][0]['data']"
   ]
  },
  {
   "cell_type": "code",
   "execution_count": 39,
   "id": "c2e43177-6f74-4a7d-9277-777c536871e0",
   "metadata": {},
   "outputs": [
    {
     "data": {
      "text/plain": [
       "'1600000US1507675'"
      ]
     },
     "execution_count": 39,
     "metadata": {},
     "output_type": "execute_result"
    }
   ],
   "source": [
    "# Fern Forest CDP, Hawaii\n",
    "\n",
    "from censusdis.places.hawaii import FERN_FOREST_CDP\n",
    "\n",
    "# From https://mcdc.missouri.edu/geography/sumlevs/\n",
    "SUMMARY_LEVEL_PLACE = \"160\"\n",
    "\n",
    "geo_id_place = f\"{SUMMARY_LEVEL_PLACE}0000US{states.HI}{FERN_FOREST_CDP}\"\n",
    "\n",
    "geo_id_place "
   ]
  },
  {
   "cell_type": "code",
   "execution_count": 40,
   "id": "e276f373-2316-4957-8481-98e6ad5c0f1a",
   "metadata": {},
   "outputs": [],
   "source": [
    "place_response = requests.post(\n",
    "    TABLE_URL, \n",
    "    headers=headers, \n",
    "    json={\n",
    "        \"tables\": [\n",
    "            {\n",
    "                # Note that this ID is again an example of coding\n",
    "                # by string construction.\n",
    "                \"id\": \"ACSDT5Y2015.B01001\",\n",
    "                \"geoIds\": [geo_id_place],\n",
    "                \"columns\": [\"B01001_001E\"]\n",
    "            }\n",
    "        ]\n",
    "    }\n",
    ")"
   ]
  },
  {
   "cell_type": "code",
   "execution_count": 41,
   "id": "e4efca44-564c-4f00-a067-9ea328dc7525",
   "metadata": {},
   "outputs": [
    {
     "data": {
      "text/plain": [
       "200"
      ]
     },
     "execution_count": 41,
     "metadata": {},
     "output_type": "execute_result"
    }
   ],
   "source": [
    "place_response.status_code"
   ]
  },
  {
   "cell_type": "code",
   "execution_count": 42,
   "id": "eb008f6e-db1f-4cf1-9a6d-706ef922c67b",
   "metadata": {},
   "outputs": [
    {
     "data": {
      "text/plain": [
       "{'columns': [{'label': 'Estimate!!Total', 'id': 'B01001_001E'}],\n",
       " 'rows': [{'B01001_001E': 669}]}"
      ]
     },
     "execution_count": 42,
     "metadata": {},
     "output_type": "execute_result"
    }
   ],
   "source": [
    "place_response.json()['content']['tables'][0]['data']"
   ]
  },
  {
   "cell_type": "code",
   "execution_count": 43,
   "id": "2a1b1918-b1dc-4a6b-be2d-e4904c4bb6a5",
   "metadata": {},
   "outputs": [],
   "source": [
    "# Alternate API\n",
    "\n",
    "df_place = ced.download(\n",
    "    ACS5,\n",
    "    2015,\n",
    "    [\"NAME\", \"B01001_001E\"],\n",
    "    state=states.HI,\n",
    "    place=FERN_FOREST_CDP\n",
    ")"
   ]
  },
  {
   "cell_type": "code",
   "execution_count": 44,
   "id": "694bb32f-9ed2-400d-bde4-bf9abe70fc5b",
   "metadata": {},
   "outputs": [
    {
     "data": {
      "text/html": [
       "<div>\n",
       "<style scoped>\n",
       "    .dataframe tbody tr th:only-of-type {\n",
       "        vertical-align: middle;\n",
       "    }\n",
       "\n",
       "    .dataframe tbody tr th {\n",
       "        vertical-align: top;\n",
       "    }\n",
       "\n",
       "    .dataframe thead th {\n",
       "        text-align: right;\n",
       "    }\n",
       "</style>\n",
       "<table border=\"1\" class=\"dataframe\">\n",
       "  <thead>\n",
       "    <tr style=\"text-align: right;\">\n",
       "      <th></th>\n",
       "      <th>STATE</th>\n",
       "      <th>PLACE</th>\n",
       "      <th>NAME</th>\n",
       "      <th>B01001_001E</th>\n",
       "    </tr>\n",
       "  </thead>\n",
       "  <tbody>\n",
       "    <tr>\n",
       "      <th>0</th>\n",
       "      <td>15</td>\n",
       "      <td>07675</td>\n",
       "      <td>Fern Forest CDP, Hawaii</td>\n",
       "      <td>669</td>\n",
       "    </tr>\n",
       "  </tbody>\n",
       "</table>\n",
       "</div>"
      ],
      "text/plain": [
       "  STATE  PLACE                     NAME  B01001_001E\n",
       "0    15  07675  Fern Forest CDP, Hawaii          669"
      ]
     },
     "execution_count": 44,
     "metadata": {},
     "output_type": "execute_result"
    }
   ],
   "source": [
    "df_place"
   ]
  },
  {
   "cell_type": "code",
   "execution_count": 45,
   "id": "a345f3f6-1b47-4415-b18e-f62eb0982453",
   "metadata": {},
   "outputs": [
    {
     "data": {
      "text/plain": [
       "'1500000US1708301040102'"
      ]
     },
     "execution_count": 45,
     "metadata": {},
     "output_type": "execute_result"
    }
   ],
   "source": [
    "# We will skip a few and go to a hairier one, like\n",
    "# Block Group 2, Census Tract 104.01, Jersey County, Illinois\n",
    "\n",
    "from censusdis.counties.illinois import JERSEY\n",
    "\n",
    "# From https://mcdc.missouri.edu/geography/sumlevs/\n",
    "SUMMARY_LEVEL_BLOCK_GROUP = \"150\"\n",
    "\n",
    "TRACT = \"010401\"\n",
    "BLOCK_GROUP = \"2\"\n",
    "\n",
    "geo_id_block_group = f\"{SUMMARY_LEVEL_BLOCK_GROUP}0000US{states.IL}{JERSEY}{TRACT}0{BLOCK_GROUP}\"\n",
    "\n",
    "geo_id_block_group"
   ]
  },
  {
   "cell_type": "code",
   "execution_count": 46,
   "id": "355bbcf0-b669-4128-a424-388d22843576",
   "metadata": {},
   "outputs": [],
   "source": [
    "block_group_response = requests.post(\n",
    "    TABLE_URL, \n",
    "    headers=headers, \n",
    "    json={\n",
    "        \"tables\": [\n",
    "            {\n",
    "                # Note that this ID is again an example of coding\n",
    "                # by string construction.\n",
    "                \"id\": \"ACSDT5Y2015.B01001\",\n",
    "                \"geoIds\": [geo_id_block_group],\n",
    "                \"columns\": [\"B01001_001E\"]\n",
    "            }\n",
    "        ]\n",
    "    }\n",
    ")"
   ]
  },
  {
   "cell_type": "code",
   "execution_count": 47,
   "id": "711d5996-146f-40c6-a57c-8204ecdf74bf",
   "metadata": {},
   "outputs": [
    {
     "data": {
      "text/plain": [
       "400"
      ]
     },
     "execution_count": 47,
     "metadata": {},
     "output_type": "execute_result"
    }
   ],
   "source": [
    "block_group_response.status_code"
   ]
  },
  {
   "cell_type": "code",
   "execution_count": 48,
   "id": "326f2110-e496-4c4e-88e2-476c486911de",
   "metadata": {},
   "outputs": [
    {
     "data": {
      "text/plain": [
       "['Table ACSDT5Y2015.B01001 has no data for the requested geographies']"
      ]
     },
     "execution_count": 48,
     "metadata": {},
     "output_type": "execute_result"
    }
   ],
   "source": [
    "block_group_response.json()['service-messages']['error']"
   ]
  },
  {
   "cell_type": "code",
   "execution_count": 49,
   "id": "4bb19108-1797-4695-8854-0cf79de77b45",
   "metadata": {},
   "outputs": [],
   "source": [
    "df_block_group = ced.download(\n",
    "    ACS5,\n",
    "    2022,\n",
    "    [\"NAME\", \"B01001_001E\"],\n",
    "    state=states.IL,\n",
    "    county=JERSEY,\n",
    "    tract=TRACT,\n",
    "    block_group=BLOCK_GROUP\n",
    ")\n"
   ]
  },
  {
   "cell_type": "code",
   "execution_count": 50,
   "id": "5a47ca59-76c7-4966-a372-ee46c08b154b",
   "metadata": {},
   "outputs": [
    {
     "data": {
      "text/html": [
       "<div>\n",
       "<style scoped>\n",
       "    .dataframe tbody tr th:only-of-type {\n",
       "        vertical-align: middle;\n",
       "    }\n",
       "\n",
       "    .dataframe tbody tr th {\n",
       "        vertical-align: top;\n",
       "    }\n",
       "\n",
       "    .dataframe thead th {\n",
       "        text-align: right;\n",
       "    }\n",
       "</style>\n",
       "<table border=\"1\" class=\"dataframe\">\n",
       "  <thead>\n",
       "    <tr style=\"text-align: right;\">\n",
       "      <th></th>\n",
       "      <th>STATE</th>\n",
       "      <th>COUNTY</th>\n",
       "      <th>TRACT</th>\n",
       "      <th>BLOCK_GROUP</th>\n",
       "      <th>NAME</th>\n",
       "      <th>B01001_001E</th>\n",
       "    </tr>\n",
       "  </thead>\n",
       "  <tbody>\n",
       "    <tr>\n",
       "      <th>0</th>\n",
       "      <td>17</td>\n",
       "      <td>083</td>\n",
       "      <td>010401</td>\n",
       "      <td>2</td>\n",
       "      <td>Block Group 2; Census Tract 104.01; Jersey Cou...</td>\n",
       "      <td>1817</td>\n",
       "    </tr>\n",
       "  </tbody>\n",
       "</table>\n",
       "</div>"
      ],
      "text/plain": [
       "  STATE COUNTY   TRACT BLOCK_GROUP  \\\n",
       "0    17    083  010401           2   \n",
       "\n",
       "                                                NAME  B01001_001E  \n",
       "0  Block Group 2; Census Tract 104.01; Jersey Cou...         1817  "
      ]
     },
     "execution_count": 50,
     "metadata": {},
     "output_type": "execute_result"
    }
   ],
   "source": [
    "df_block_group"
   ]
  },
  {
   "cell_type": "markdown",
   "id": "09c1c0f7-dc1f-4b86-b95e-623157f81e65",
   "metadata": {},
   "source": [
    "#### GeoId Construction with Wildcards"
   ]
  },
  {
   "cell_type": "code",
   "execution_count": 51,
   "id": "43b32a06-d79d-4f97-bbd1-f586e39d15cd",
   "metadata": {},
   "outputs": [],
   "source": [
    "# All counties in Arkansas"
   ]
  },
  {
   "cell_type": "code",
   "execution_count": 52,
   "id": "6466a6a1-a5ca-4cf8-8289-dd2dc9012948",
   "metadata": {},
   "outputs": [
    {
     "data": {
      "text/plain": [
       "'0400000US05$0500000'"
      ]
     },
     "execution_count": 52,
     "metadata": {},
     "output_type": "execute_result"
    }
   ],
   "source": [
    "# From https://mcdc.missouri.edu/geography/sumlevs/\n",
    "SUMMARY_LEVEL_STATE = \"040\"\n",
    "\n",
    "geo_id_county_all = f\"{SUMMARY_LEVEL_STATE}0000US{states.AR}${SUMMARY_LEVEL_COUNTY}0000\"\n",
    "\n",
    "geo_id_county_all"
   ]
  },
  {
   "cell_type": "code",
   "execution_count": 53,
   "id": "fc060e9d-d0e3-4e7f-b7a4-25c0c9150d9e",
   "metadata": {},
   "outputs": [],
   "source": [
    "all_county_response = requests.post(\n",
    "    TABLE_URL, \n",
    "    headers=headers, \n",
    "    json={\n",
    "        \"tables\": [\n",
    "            {\n",
    "                # Note that this ID is again an example of coding\n",
    "                # by string construction.\n",
    "                \"id\": \"ACSDT5Y2015.B01001\",\n",
    "                \"geoIds\": [geo_id_county_all],\n",
    "                # Note to explore. I was not able to get\n",
    "                # STATE or COUNTY for each row by inserting\n",
    "                # them in this list. Maybe they go somewhere\n",
    "                # else?\n",
    "                \"columns\": [\"NAME\", \"B01001_001E\"]\n",
    "            }\n",
    "        ]\n",
    "    }\n",
    ")"
   ]
  },
  {
   "cell_type": "code",
   "execution_count": 54,
   "id": "ffc9c2ba-7ac7-4b5b-84a8-ff1d3b005832",
   "metadata": {},
   "outputs": [
    {
     "data": {
      "text/plain": [
       "200"
      ]
     },
     "execution_count": 54,
     "metadata": {},
     "output_type": "execute_result"
    }
   ],
   "source": [
    "all_county_response.status_code"
   ]
  },
  {
   "cell_type": "code",
   "execution_count": 55,
   "id": "0e95fb5a-b4b2-4171-b0df-41c6f3ca24e8",
   "metadata": {},
   "outputs": [],
   "source": [
    "all_county_data = all_county_response.json()['content']['tables'][0]['data']"
   ]
  },
  {
   "cell_type": "code",
   "execution_count": 56,
   "id": "b83b5a45-c3e2-487b-9a2b-895be0d022a6",
   "metadata": {},
   "outputs": [
    {
     "data": {
      "text/html": [
       "<div>\n",
       "<style scoped>\n",
       "    .dataframe tbody tr th:only-of-type {\n",
       "        vertical-align: middle;\n",
       "    }\n",
       "\n",
       "    .dataframe tbody tr th {\n",
       "        vertical-align: top;\n",
       "    }\n",
       "\n",
       "    .dataframe thead th {\n",
       "        text-align: right;\n",
       "    }\n",
       "</style>\n",
       "<table border=\"1\" class=\"dataframe\">\n",
       "  <thead>\n",
       "    <tr style=\"text-align: right;\">\n",
       "      <th></th>\n",
       "      <th>NAME</th>\n",
       "      <th>B01001_001E</th>\n",
       "    </tr>\n",
       "  </thead>\n",
       "  <tbody>\n",
       "    <tr>\n",
       "      <th>0</th>\n",
       "      <td>Arkansas County, Arkansas</td>\n",
       "      <td>18731</td>\n",
       "    </tr>\n",
       "    <tr>\n",
       "      <th>1</th>\n",
       "      <td>Ashley County, Arkansas</td>\n",
       "      <td>21229</td>\n",
       "    </tr>\n",
       "    <tr>\n",
       "      <th>2</th>\n",
       "      <td>Baxter County, Arkansas</td>\n",
       "      <td>41040</td>\n",
       "    </tr>\n",
       "    <tr>\n",
       "      <th>3</th>\n",
       "      <td>Benton County, Arkansas</td>\n",
       "      <td>238198</td>\n",
       "    </tr>\n",
       "    <tr>\n",
       "      <th>4</th>\n",
       "      <td>Boone County, Arkansas</td>\n",
       "      <td>37227</td>\n",
       "    </tr>\n",
       "    <tr>\n",
       "      <th>...</th>\n",
       "      <td>...</td>\n",
       "      <td>...</td>\n",
       "    </tr>\n",
       "    <tr>\n",
       "      <th>70</th>\n",
       "      <td>Van Buren County, Arkansas</td>\n",
       "      <td>17002</td>\n",
       "    </tr>\n",
       "    <tr>\n",
       "      <th>71</th>\n",
       "      <td>Washington County, Arkansas</td>\n",
       "      <td>216432</td>\n",
       "    </tr>\n",
       "    <tr>\n",
       "      <th>72</th>\n",
       "      <td>White County, Arkansas</td>\n",
       "      <td>78660</td>\n",
       "    </tr>\n",
       "    <tr>\n",
       "      <th>73</th>\n",
       "      <td>Woodruff County, Arkansas</td>\n",
       "      <td>6983</td>\n",
       "    </tr>\n",
       "    <tr>\n",
       "      <th>74</th>\n",
       "      <td>Yell County, Arkansas</td>\n",
       "      <td>21835</td>\n",
       "    </tr>\n",
       "  </tbody>\n",
       "</table>\n",
       "<p>75 rows × 2 columns</p>\n",
       "</div>"
      ],
      "text/plain": [
       "                           NAME  B01001_001E\n",
       "0     Arkansas County, Arkansas        18731\n",
       "1       Ashley County, Arkansas        21229\n",
       "2       Baxter County, Arkansas        41040\n",
       "3       Benton County, Arkansas       238198\n",
       "4        Boone County, Arkansas        37227\n",
       "..                          ...          ...\n",
       "70   Van Buren County, Arkansas        17002\n",
       "71  Washington County, Arkansas       216432\n",
       "72       White County, Arkansas        78660\n",
       "73    Woodruff County, Arkansas         6983\n",
       "74        Yell County, Arkansas        21835\n",
       "\n",
       "[75 rows x 2 columns]"
      ]
     },
     "execution_count": 56,
     "metadata": {},
     "output_type": "execute_result"
    }
   ],
   "source": [
    "import pandas as pd\n",
    "\n",
    "df_all_county_beta = pd.DataFrame(all_county_data['rows'])\n",
    "df_all_county_beta"
   ]
  },
  {
   "cell_type": "code",
   "execution_count": 57,
   "id": "d322f1a3-b5e6-4777-93c4-d981ea5b07b9",
   "metadata": {},
   "outputs": [
    {
     "data": {
      "text/html": [
       "<div>\n",
       "<style scoped>\n",
       "    .dataframe tbody tr th:only-of-type {\n",
       "        vertical-align: middle;\n",
       "    }\n",
       "\n",
       "    .dataframe tbody tr th {\n",
       "        vertical-align: top;\n",
       "    }\n",
       "\n",
       "    .dataframe thead th {\n",
       "        text-align: right;\n",
       "    }\n",
       "</style>\n",
       "<table border=\"1\" class=\"dataframe\">\n",
       "  <thead>\n",
       "    <tr style=\"text-align: right;\">\n",
       "      <th></th>\n",
       "      <th>STATE</th>\n",
       "      <th>COUNTY</th>\n",
       "      <th>NAME</th>\n",
       "      <th>B01001_001E</th>\n",
       "    </tr>\n",
       "  </thead>\n",
       "  <tbody>\n",
       "    <tr>\n",
       "      <th>0</th>\n",
       "      <td>05</td>\n",
       "      <td>099</td>\n",
       "      <td>Nevada County, Arkansas</td>\n",
       "      <td>8793</td>\n",
       "    </tr>\n",
       "    <tr>\n",
       "      <th>1</th>\n",
       "      <td>05</td>\n",
       "      <td>037</td>\n",
       "      <td>Cross County, Arkansas</td>\n",
       "      <td>17467</td>\n",
       "    </tr>\n",
       "    <tr>\n",
       "      <th>2</th>\n",
       "      <td>05</td>\n",
       "      <td>039</td>\n",
       "      <td>Dallas County, Arkansas</td>\n",
       "      <td>7868</td>\n",
       "    </tr>\n",
       "    <tr>\n",
       "      <th>3</th>\n",
       "      <td>05</td>\n",
       "      <td>027</td>\n",
       "      <td>Columbia County, Arkansas</td>\n",
       "      <td>24327</td>\n",
       "    </tr>\n",
       "    <tr>\n",
       "      <th>4</th>\n",
       "      <td>05</td>\n",
       "      <td>125</td>\n",
       "      <td>Saline County, Arkansas</td>\n",
       "      <td>113833</td>\n",
       "    </tr>\n",
       "    <tr>\n",
       "      <th>...</th>\n",
       "      <td>...</td>\n",
       "      <td>...</td>\n",
       "      <td>...</td>\n",
       "      <td>...</td>\n",
       "    </tr>\n",
       "    <tr>\n",
       "      <th>70</th>\n",
       "      <td>05</td>\n",
       "      <td>095</td>\n",
       "      <td>Monroe County, Arkansas</td>\n",
       "      <td>7713</td>\n",
       "    </tr>\n",
       "    <tr>\n",
       "      <th>71</th>\n",
       "      <td>05</td>\n",
       "      <td>103</td>\n",
       "      <td>Ouachita County, Arkansas</td>\n",
       "      <td>25044</td>\n",
       "    </tr>\n",
       "    <tr>\n",
       "      <th>72</th>\n",
       "      <td>05</td>\n",
       "      <td>001</td>\n",
       "      <td>Arkansas County, Arkansas</td>\n",
       "      <td>18731</td>\n",
       "    </tr>\n",
       "    <tr>\n",
       "      <th>73</th>\n",
       "      <td>05</td>\n",
       "      <td>015</td>\n",
       "      <td>Carroll County, Arkansas</td>\n",
       "      <td>27635</td>\n",
       "    </tr>\n",
       "    <tr>\n",
       "      <th>74</th>\n",
       "      <td>05</td>\n",
       "      <td>119</td>\n",
       "      <td>Pulaski County, Arkansas</td>\n",
       "      <td>390463</td>\n",
       "    </tr>\n",
       "  </tbody>\n",
       "</table>\n",
       "<p>75 rows × 4 columns</p>\n",
       "</div>"
      ],
      "text/plain": [
       "   STATE COUNTY                       NAME  B01001_001E\n",
       "0     05    099    Nevada County, Arkansas         8793\n",
       "1     05    037     Cross County, Arkansas        17467\n",
       "2     05    039    Dallas County, Arkansas         7868\n",
       "3     05    027  Columbia County, Arkansas        24327\n",
       "4     05    125    Saline County, Arkansas       113833\n",
       "..   ...    ...                        ...          ...\n",
       "70    05    095    Monroe County, Arkansas         7713\n",
       "71    05    103  Ouachita County, Arkansas        25044\n",
       "72    05    001  Arkansas County, Arkansas        18731\n",
       "73    05    015   Carroll County, Arkansas        27635\n",
       "74    05    119   Pulaski County, Arkansas       390463\n",
       "\n",
       "[75 rows x 4 columns]"
      ]
     },
     "execution_count": 57,
     "metadata": {},
     "output_type": "execute_result"
    }
   ],
   "source": [
    "df_all_county_censusdis = ced.download(\n",
    "    ACS5,\n",
    "    2015,\n",
    "    [\"NAME\", \"B01001_001E\"],\n",
    "    state=states.AR,\n",
    "    county='*'\n",
    ")\n",
    "\n",
    "df_all_county_censusdis"
   ]
  },
  {
   "cell_type": "code",
   "execution_count": null,
   "id": "f13cde80-e331-48c3-8967-bf9a7f052686",
   "metadata": {},
   "outputs": [],
   "source": []
  }
 ],
 "metadata": {
  "kernelspec": {
   "display_name": "Python 3 (ipykernel)",
   "language": "python",
   "name": "python3"
  },
  "language_info": {
   "codemirror_mode": {
    "name": "ipython",
    "version": 3
   },
   "file_extension": ".py",
   "mimetype": "text/x-python",
   "name": "python",
   "nbconvert_exporter": "python",
   "pygments_lexer": "ipython3",
   "version": "3.9.10"
  }
 },
 "nbformat": 4,
 "nbformat_minor": 5
}
