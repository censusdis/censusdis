{
 "cells": [
  {
   "cell_type": "markdown",
   "id": "c7cb8c90-659b-41da-8ab3-31f57b91e4ff",
   "metadata": {},
   "source": [
    "# U.S. Census Beta API Review: Overview and Concepts\n",
    "\n",
    "Darren Erik Vengroff, Ph.D.\n",
    "\n",
    "July 2024\n",
    "\n",
    "## TL;DR\n",
    "\n",
    "The proposed beta API has some strengths and weaknesses. Combining metadata and \n",
    "data into one API is good idea. It would be even better to add map support also.\n",
    "A large part of what existing thick clients to is mediate between the three APIs\n",
    "and combine their results.\n",
    "\n",
    "On the flip side, I think faceted API and the coding by string construction* approach taken with \n",
    "the geoIds and elsewhere in the API is not going to be easy for most users to \n",
    "understand. If the goal is for researchers to be able to easily get the data they\n",
    "want from Python, R, or other languages, I don't think this new API is going to be\n",
    "of much help. Most researchers will still benefit from a thick client, and thick\n",
    "client maintainers will have to update and modify their code to work with the new\n",
    "beta API.\n",
    "\n",
    "In the remainer of this document I explore a number of aspects of this new API as\n",
    "described in the [documentation](https://api.census.gov/docs/user-guide/overview/introduction.html),\n",
    "evaluate some of them in detail, and use that analysis to justify my overall\n",
    "conclusions. Finally, before concluding, I briefly introduce an alternative approach \n",
    "that I believe would better serve most API users.\n",
    "\n",
    "*Coding by string construction means researchers construct strings to represent\n",
    "their intentions instead of writing in their native programming language. It is explained\n",
    "more thoroughly below.\n",
    "\n",
    "## Introduction\n",
    "\n",
    "I am reviewing the beta API from two perspectives:\n",
    "\n",
    "1. As a researcher who wants to access U.S. Census data in my normal analysis workflow. I will use examples in Python,\n",
    "   but others might choose R. The emphasis here is on whether the beta API makes it easy for me to express the concepts\n",
    "   I need to express to get the data I want into my environment so that I can continue my analysis.\n",
    "2. As someone who maintains a client library to make it easier for researchers to do their work.\n",
    "\n",
    "I began my journey with Census data as a researcher in category 1 and evolved into someone in category 2 as\n",
    "I developed [censusdis](https://github.com/censusdis/censusdis).\n",
    "\n",
    "Whenever I comment on the new API below, whether the comments are positive or negative, I will try to make\n",
    "them from the perspective of a member of one or more of these groups.\n",
    "\n",
    "I deliberately structured this response as a notebook so that you can see my thought process as I worked\n",
    "through the documentation that was provided. In each section, I link back to the documentation I read \n",
    "and am commenting on in that section.\n",
    "\n",
    "Finally, in the interest of full disclosure, I am the original author and primary maintainer of \n",
    "[censusdis](https://github.com/censusdis/censusdis). I use it rather extensively in this document,\n",
    "not so much to show off its capabilities as to illustrate an alternative approach to the design of \n",
    "researcher-facing APIs.\n",
    "\n",
    "### A Note on Faceted APIs\n",
    "\n",
    "The beta API is clearly built on top of a tool designed to support [faceted search](https://en.wikipedia.org/wiki/Faceted_search).\n",
    "I don't know if this tool was internally developed or is a third party one that was intergrated.\n",
    "I also don't know if this API reuses the infrastructure behind the [Census Data Explorer](https://data.census.gov/).\n",
    "\n",
    "However, I have 20+ years with faceted search tools, and I know that while they are widely used for browsing and filtering\n",
    "(see the left nav of almost any major online retailer's web site) I also know that exposing them directly\n",
    "to users to write their own ad-hoc queries has not generally been successful. They are designed to work behind well-designed\n",
    "UI/UX components, not to be called by users who are most interested in getting the data they want once and \n",
    "them moving on to use whatever analysis tools they prefer.\n",
    "\n",
    "As I believe the examples and commentary in this review will make clear, there are alternative ways to approach\n",
    "this that users find easier to pick up and understand. My own experience with `censusdis` and other thick\n",
    "clients for the existing census API and feedback from users of these clients makes me quite confident in this assessment."
   ]
  },
  {
   "cell_type": "code",
   "execution_count": 1,
   "id": "cb633ea8-816a-4649-814b-e83e8da25962",
   "metadata": {},
   "outputs": [],
   "source": [
    "# Globally useful imports.\n",
    "\n",
    "import pandas as pd"
   ]
  },
  {
   "cell_type": "markdown",
   "id": "8a259f27-a9f9-4ad0-b528-d7c0320f42cf",
   "metadata": {},
   "source": [
    "## Overview\n",
    "\n",
    "### Introduction \n",
    "\n",
    "[link to docs](https://api.census.gov/docs/user-guide/overview/introduction.html)\n",
    "\n",
    "I think the target audience matches up well to the two personas I mentioned above."
   ]
  },
  {
   "cell_type": "markdown",
   "id": "9e0d8ecb-0d4e-4712-9a8d-1a9536f9f300",
   "metadata": {},
   "source": [
    "### Making Queries\n",
    "\n",
    "[link to docs](https://api.census.gov/docs/user-guide/overview/making-queries.html)\n",
    "\n",
    "Note I went a bit out of order here.\n",
    "\n",
    "I don't think dropping direct browser support is a big problem. I assume this means that \n",
    "you expect POST, not a GET requests. Maybe you could be a bit more explicit about this right\n",
    "up front. I'll jump ahead and test it out here."
   ]
  },
  {
   "cell_type": "code",
   "execution_count": 2,
   "id": "aa7aede8-8c11-4a47-bce3-23360dd5baf3",
   "metadata": {},
   "outputs": [],
   "source": [
    "# I store my API key in `~/.censusdis/api_key.txt`. This simple API grabs it for me.\n",
    "from censusdis.geography import EnvironmentApiKey\n",
    "\n",
    "api_key = EnvironmentApiKey.api_key()"
   ]
  },
  {
   "cell_type": "code",
   "execution_count": 3,
   "id": "5384b4fe-87ba-4168-9034-616690e62ad9",
   "metadata": {},
   "outputs": [],
   "source": [
    "import requests"
   ]
  },
  {
   "cell_type": "markdown",
   "id": "a2c99c22-1464-48f1-b6d5-bdd6750ad1f0",
   "metadata": {},
   "source": [
    "Note: In order to figure out the right base URL, and also how exactly to put my\n",
    "API key into the header, I had to look at one of your sample queries at \n",
    "https://api.census.gov/docs/user-guide/endpoints/facets.html#example and then use\n",
    "my browsers debugger to watch network traffic when I hit the button to look at \n",
    "exactly how the post was constructed so I could replicate it here.\n",
    "\n",
    "Ideally, the base url and the fact that `Key` is the right header field for the\n",
    "API key should be explained in the documentation."
   ]
  },
  {
   "cell_type": "code",
   "execution_count": 4,
   "id": "ade38c14-1397-4093-88dd-bfa8a531d274",
   "metadata": {},
   "outputs": [],
   "source": [
    "BETA_API_BASE_URL = 'https://api.census.gov'\n",
    "\n",
    "DATASETS_URL = f'{BETA_API_BASE_URL}/search/facets/datasets'"
   ]
  },
  {
   "cell_type": "code",
   "execution_count": 5,
   "id": "1db5f54c-7fbf-4e01-bd87-1bc7e4c2cb91",
   "metadata": {},
   "outputs": [],
   "source": [
    "headers={\"Key\": api_key}"
   ]
  },
  {
   "cell_type": "code",
   "execution_count": 6,
   "id": "c8874a9b-6726-4a76-986e-66c05d93e409",
   "metadata": {},
   "outputs": [],
   "source": [
    "response_post = requests.post(DATASETS_URL, headers=headers)"
   ]
  },
  {
   "cell_type": "code",
   "execution_count": 7,
   "id": "d5320986-47df-4135-bc38-67f8fc0802e9",
   "metadata": {},
   "outputs": [
    {
     "data": {
      "text/plain": [
       "200"
      ]
     },
     "execution_count": 7,
     "metadata": {},
     "output_type": "execute_result"
    }
   ],
   "source": [
    "response_post.status_code"
   ]
  },
  {
   "cell_type": "code",
   "execution_count": 8,
   "id": "4fb90003-4025-4512-aa48-dcc8e7f5fd35",
   "metadata": {},
   "outputs": [],
   "source": [
    "response_get = requests.get(DATASETS_URL, headers=headers)"
   ]
  },
  {
   "cell_type": "code",
   "execution_count": 9,
   "id": "d9da9cba-9af4-4366-975b-60765c0f8831",
   "metadata": {},
   "outputs": [
    {
     "data": {
      "text/plain": [
       "405"
      ]
     },
     "execution_count": 9,
     "metadata": {},
     "output_type": "execute_result"
    }
   ],
   "source": [
    "response_get.status_code"
   ]
  },
  {
   "cell_type": "markdown",
   "id": "88ed2f23-999f-40a1-ab4c-251b2c0dd258",
   "metadata": {},
   "source": [
    "Confirmed that POST works and GET is not accepted."
   ]
  },
  {
   "cell_type": "markdown",
   "id": "1700ae1d-8649-4f80-bc7d-01306d225761",
   "metadata": {},
   "source": [
    "### Available Datasets\n",
    "\n",
    "[link to docs](https://api.census.gov/docs/user-guide/overview/available-datasets.html)\n",
    "\n",
    "Is this list of popular data sets the only ones that are currently supported? That was\n",
    "not totally clear.\n",
    "\n",
    "Again, I will jump ahead a bit and see by making the same query again."
   ]
  },
  {
   "cell_type": "code",
   "execution_count": 10,
   "id": "85a51956-4476-4921-a9c1-d9a3c0e29066",
   "metadata": {},
   "outputs": [],
   "source": [
    "response = requests.post(DATASETS_URL, headers=headers)"
   ]
  },
  {
   "cell_type": "code",
   "execution_count": 11,
   "id": "a64dadcb-29d2-4492-a96a-cdf60bcbce48",
   "metadata": {},
   "outputs": [],
   "source": [
    "json = response.json()"
   ]
  },
  {
   "cell_type": "code",
   "execution_count": 12,
   "id": "98fa8236-dd5f-481a-a279-b21c1deb1a5c",
   "metadata": {},
   "outputs": [],
   "source": [
    "facets = json['content']['facets']"
   ]
  },
  {
   "cell_type": "code",
   "execution_count": 13,
   "id": "5439c72f-53c3-4ff0-af4e-162dad3e78a4",
   "metadata": {},
   "outputs": [
    {
     "data": {
      "text/plain": [
       "['American Community Survey',\n",
       " 'Current Population Survey',\n",
       " 'Community Resilience Estimates',\n",
       " 'Decennial Census',\n",
       " 'Decennial Census of Island Areas',\n",
       " 'Economic Census',\n",
       " 'Economic Census of Island Areas',\n",
       " 'Economic Surveys',\n",
       " 'Household Pulse Survey',\n",
       " 'International Database',\n",
       " 'Population Estimates',\n",
       " 'Post-Secondary Employment Outcomes (PSEO)',\n",
       " 'Public Sector',\n",
       " 'Survey of Income and Program Participation',\n",
       " 'Survey of Market Absorption']"
      ]
     },
     "execution_count": 13,
     "metadata": {},
     "output_type": "execute_result"
    }
   ],
   "source": [
    "[facet['name'] for facet in facets]"
   ]
  },
  {
   "cell_type": "markdown",
   "id": "cb310bab-2aae-46b5-981a-8167692a8d02",
   "metadata": {},
   "source": [
    "OK, it looks like the set of supported data sets centers on the most popular ones."
   ]
  },
  {
   "cell_type": "markdown",
   "id": "1b417a61-965c-460e-9340-6189b34afcf3",
   "metadata": {},
   "source": [
    "### Authentication\n",
    "\n",
    "[link to docs](https://api.census.gov/docs/user-guide/overview/authentication.html)\n",
    "\n",
    "I already have an API key. It was not clear from the docs if I could use the one I have\n",
    "or if I needed a new one for the beta API. In the examples above I used the one I already\n",
    "have and it worked."
   ]
  },
  {
   "cell_type": "markdown",
   "id": "d253cf09-b8e0-45cb-82e8-0ff4b3872d4d",
   "metadata": {},
   "source": [
    "### Global Request Parameters\n",
    "\n",
    "[link to docs](https://api.census.gov/docs/user-guide/overview/global-request-parameters.html)\n",
    "\n",
    "In the examples you give, some of them use what look like acceptable values, like `\"2012\"` for\n",
    "a vintage. But for GEOIDs, you put `\"g1\"` and `\"g2\"` in quotes as if those are acceptable strings\n",
    "to pass. I reality, as discussed later in the docs, these strings actually look like, `\"0500000US04015\"`\n",
    "and similar. So maybe you should put some real ones here instead of `\"g1\"` and `\"g2\"`.\n",
    "\n",
    "Here's an example showing the 400 response we get with a bad one."
   ]
  },
  {
   "cell_type": "code",
   "execution_count": 14,
   "id": "8d65c54a-9991-4cc9-9f56-63ac53688a1e",
   "metadata": {},
   "outputs": [],
   "source": [
    "TABLE_URL = BETA_API_BASE_URL + '/table'\n",
    "TABLE_DATA_URL = TABLE_URL + '/data'"
   ]
  },
  {
   "cell_type": "code",
   "execution_count": 15,
   "id": "f110423a-ef19-44f4-9a60-2b60c72ee02a",
   "metadata": {},
   "outputs": [
    {
     "data": {
      "text/plain": [
       "'https://api.census.gov/table/data'"
      ]
     },
     "execution_count": 15,
     "metadata": {},
     "output_type": "execute_result"
    }
   ],
   "source": [
    "TABLE_DATA_URL"
   ]
  },
  {
   "cell_type": "code",
   "execution_count": 16,
   "id": "0305d7d0-1517-499d-b9b7-c67cd38238e8",
   "metadata": {},
   "outputs": [],
   "source": [
    "headers={\n",
    "    \"Key\": api_key, \n",
    "    \"Content-Type\": \"application/json\",\n",
    "}"
   ]
  },
  {
   "cell_type": "code",
   "execution_count": 17,
   "id": "79ea9ed3-2e01-422d-9cba-2b44a9707ffe",
   "metadata": {},
   "outputs": [],
   "source": [
    "bad_response = requests.post(\n",
    "    TABLE_DATA_URL, \n",
    "    headers=headers, \n",
    "    json={\n",
    "        \"tables\": [\n",
    "            {\n",
    "                \"id\": \"ACSDT5YSPT2015.B01001\",\n",
    "                \"geoIds\": [\"g1\",\"g2\"],\n",
    "            }\n",
    "        ]\n",
    "    }\n",
    ")"
   ]
  },
  {
   "cell_type": "code",
   "execution_count": 18,
   "id": "a13c5892-fe62-4254-af26-b623740b2ff3",
   "metadata": {},
   "outputs": [
    {
     "data": {
      "text/plain": [
       "400"
      ]
     },
     "execution_count": 18,
     "metadata": {},
     "output_type": "execute_result"
    }
   ],
   "source": [
    "bad_response.status_code"
   ]
  },
  {
   "cell_type": "code",
   "execution_count": 19,
   "id": "3d29d060-a922-429d-b8c6-6b45f1a7ac36",
   "metadata": {},
   "outputs": [],
   "source": [
    "good_response = requests.post(\n",
    "    TABLE_DATA_URL, \n",
    "    headers=headers, \n",
    "    json={\n",
    "        \"tables\": [\n",
    "            {\n",
    "                \"id\": \"ACSDT5YSPT2015.B01001\",\n",
    "                \"geoIds\": [\"0500000US04015\"],\n",
    "            }\n",
    "        ]\n",
    "    }\n",
    ")"
   ]
  },
  {
   "cell_type": "code",
   "execution_count": 20,
   "id": "2bd7d0ed-417b-4c7a-b9ce-bc9a82e9a6ac",
   "metadata": {},
   "outputs": [
    {
     "data": {
      "text/plain": [
       "200"
      ]
     },
     "execution_count": 20,
     "metadata": {},
     "output_type": "execute_result"
    }
   ],
   "source": [
    "good_response.status_code"
   ]
  },
  {
   "cell_type": "markdown",
   "id": "51fbe844-a18c-4a75-86b6-49846bc22c48",
   "metadata": {},
   "source": [
    "### Common Response Structure\n",
    "\n",
    "[link to docs](https://api.census.gov/docs/user-guide/overview/common-response-structure.html)\n",
    "\n",
    "Maybe the current error message are preliminary, but I would like to see something more helpful than\n",
    "this. We got a lot of feedback that geographies are hard to understand, so we made the error messages\n",
    "as detailed as possible in cases like this. It would be great to explain what geographies are supported\n",
    "instead of just saying the requested ones are not."
   ]
  },
  {
   "cell_type": "code",
   "execution_count": 21,
   "id": "f5d53dd2-0efa-4a55-8a85-259c27cd4604",
   "metadata": {},
   "outputs": [
    {
     "data": {
      "text/plain": [
       "{'error': ['Table ACSDT5YSPT2015.B01001 has no data for the requested geographies']}"
      ]
     },
     "execution_count": 21,
     "metadata": {},
     "output_type": "execute_result"
    }
   ],
   "source": [
    "bad_response.json()['service-messages']"
   ]
  },
  {
   "cell_type": "markdown",
   "id": "3ddb5152-65ba-43f5-add1-2ce44e84612a",
   "metadata": {},
   "source": [
    "Here is an example of a similar scenario in `censusdis`:"
   ]
  },
  {
   "cell_type": "code",
   "execution_count": 22,
   "id": "1d7ade66-d0e4-4774-abcb-5aa397cb11b8",
   "metadata": {},
   "outputs": [],
   "source": [
    "import censusdis.data as ced\n",
    "from censusdis.datasets import ACS5\n",
    "from censusdis import CensusApiException"
   ]
  },
  {
   "cell_type": "code",
   "execution_count": 23,
   "id": "0e877f53-db06-47e6-b9d9-1688bff71428",
   "metadata": {},
   "outputs": [
    {
     "name": "stdout",
     "output_type": "stream",
     "text": [
      "Unable to match the geography specification {'geo': 'g1'}.\n",
      "Supported geographies for dataset='acs/acs5' in year=2015 are:\n",
      "['us']\n",
      "['region']\n",
      "['division']\n",
      "['state']\n",
      "['state', 'county']\n",
      "['state', 'county', 'county_subdivision']\n",
      "['state', 'county', 'county_subdivision', 'subminor_civil_division']\n",
      "['state', 'county', 'county_subdivision', 'place_remainder_or_part']\n",
      "['state', 'county', 'tract']\n",
      "['state', 'county', 'tract', 'block_group']\n",
      "['state', 'place', 'county_or_part']\n",
      "['state', 'place']\n",
      "['state', 'consolidated_city']\n",
      "['state', 'consolidated_city', 'place_or_part']\n",
      "['state', 'alaska_native_regional_corporation']\n",
      "['american_indian_area_alaska_native_area_hawaiian_home_land']\n",
      "['american_indian_area_alaska_native_area_hawaiian_home_land', 'american_indian_tribal_subdivision']\n",
      "['american_indian_area_alaska_native_area_hawaiian_home_land', 'american_indian_area_alaska_native_area_reservation_or_statistical_entity_only']\n",
      "['american_indian_area_alaska_native_area_hawaiian_home_land', 'american_indian_area_off_reservation_trust_land_only_hawaiian_home_land']\n",
      "['american_indian_area_alaska_native_area_hawaiian_home_land', 'tribal_census_tract']\n",
      "['american_indian_area_alaska_native_area_hawaiian_home_land', 'tribal_census_tract', 'tribal_block_group']\n",
      "['american_indian_area_alaska_native_area_hawaiian_home_land', 'state_or_part']\n",
      "['american_indian_area_alaska_native_area_hawaiian_home_land', 'state_or_part', 'place_or_part']\n",
      "['american_indian_area_alaska_native_area_hawaiian_home_land', 'state_or_part', 'county_or_part']\n",
      "['state', 'american_indian_area_alaska_native_area_hawaiian_home_land_or_part']\n",
      "['state', 'american_indian_area_alaska_native_area_hawaiian_home_land_or_part', 'american_indian_area_alaska_native_area_reservation_or_statistical_entity_only_or_part']\n",
      "['state', 'american_indian_area_alaska_native_area_hawaiian_home_land_or_part', 'american_indian_area_off_reservation_trust_land_only_hawaiian_home_land_or_part']\n",
      "['american_indian_area_alaska_native_area_hawaiian_home_land', 'american_indian_tribal_subdivision', 'state_or_part']\n",
      "['american_indian_area_alaska_native_area_hawaiian_home_land', 'american_indian_area_alaska_native_area_reservation_or_statistical_entity_only', 'tribal_census_tract_or_part']\n",
      "['american_indian_area_alaska_native_area_hawaiian_home_land', 'american_indian_area_off_reservation_trust_land_only_hawaiian_home_land', 'tribal_census_tract_or_part']\n",
      "['american_indian_area_alaska_native_area_hawaiian_home_land', 'american_indian_area_alaska_native_area_reservation_or_statistical_entity_only', 'tribal_census_tract_or_part', 'tribal_block_group_or_part']\n",
      "['american_indian_area_alaska_native_area_hawaiian_home_land', 'american_indian_area_off_reservation_trust_land_only_hawaiian_home_land', 'tribal_census_tract_or_part', 'tribal_block_group_or_part']\n",
      "['metropolitan_statistical_area_micropolitan_statistical_area']\n",
      "['metropolitan_statistical_area_micropolitan_statistical_area', 'state_or_part']\n",
      "['metropolitan_statistical_area_micropolitan_statistical_area', 'principal_city_or_part']\n",
      "['metropolitan_statistical_area_micropolitan_statistical_area', 'state_or_part', 'county']\n",
      "['metropolitan_statistical_area_micropolitan_statistical_area', 'metropolitan_division']\n",
      "['metropolitan_statistical_area_micropolitan_statistical_area', 'metropolitan_division', 'state_or_part']\n",
      "['metropolitan_statistical_area_micropolitan_statistical_area', 'metropolitan_division', 'state_or_part', 'county']\n",
      "['state', 'metropolitan_statistical_area_micropolitan_statistical_area_or_part']\n",
      "['state', 'metropolitan_statistical_area_micropolitan_statistical_area_or_part', 'principal_city_or_part']\n",
      "['state', 'metropolitan_statistical_area_micropolitan_statistical_area_or_part', 'county']\n",
      "['state', 'metropolitan_statistical_area_micropolitan_statistical_area_or_part', 'metropolitan_division_or_part']\n",
      "['state', 'metropolitan_statistical_area_micropolitan_statistical_area_or_part', 'metropolitan_division_or_part', 'county']\n",
      "['combined_statistical_area']\n",
      "['combined_statistical_area', 'state_or_part']\n",
      "['combined_statistical_area', 'metropolitan_statistical_area_micropolitan_statistical_area']\n",
      "['combined_statistical_area', 'metropolitan_statistical_area_micropolitan_statistical_area', 'state_or_part']\n",
      "['combined_new_england_city_and_town_area']\n",
      "['combined_new_england_city_and_town_area', 'state_or_part']\n",
      "['combined_new_england_city_and_town_area', 'new_england_city_and_town_area']\n",
      "['combined_new_england_city_and_town_area', 'new_england_city_and_town_area', 'state_or_part']\n",
      "['state', 'combined_statistical_area_or_part']\n",
      "['state', 'combined_statistical_area_or_part', 'metropolitan_statistical_area_micropolitan_statistical_area_or_part']\n",
      "['state', 'combined_new_england_city_and_town_area_or_part']\n",
      "['state', 'combined_new_england_city_and_town_area_or_part', 'new_england_city_and_town_area_or_part']\n",
      "['new_england_city_and_town_area']\n",
      "['new_england_city_and_town_area', 'state_or_part']\n",
      "['new_england_city_and_town_area', 'principal_city']\n",
      "['new_england_city_and_town_area', 'state_or_part', 'county_or_part']\n",
      "['new_england_city_and_town_area', 'state_or_part', 'county_or_part', 'county_subdivision']\n",
      "['new_england_city_and_town_area', 'necta_division']\n",
      "['new_england_city_and_town_area', 'necta_division', 'state_or_part']\n",
      "['new_england_city_and_town_area', 'necta_division', 'state_or_part', 'county_or_part']\n",
      "['new_england_city_and_town_area', 'necta_division', 'state_or_part', 'county_or_part', 'county_subdivision']\n",
      "['state', 'new_england_city_and_town_area_or_part']\n",
      "['state', 'new_england_city_and_town_area_or_part', 'principal_city']\n",
      "['state', 'new_england_city_and_town_area_or_part', 'county_or_part']\n",
      "['state', 'new_england_city_and_town_area_or_part', 'county_or_part', 'county_subdivision']\n",
      "['state', 'new_england_city_and_town_area_or_part', 'necta_division_or_part']\n",
      "['state', 'new_england_city_and_town_area_or_part', 'necta_division_or_part', 'county_or_part']\n",
      "['state', 'new_england_city_and_town_area_or_part', 'necta_division_or_part', 'county_or_part', 'county_subdivision']\n",
      "['urban_area']\n",
      "['urban_area', 'state_or_part']\n",
      "['urban_area', 'state_or_part', 'county_or_part']\n",
      "['state', 'congressional_district']\n",
      "['state', 'congressional_district', 'county_or_part']\n",
      "['state', 'congressional_district', 'american_indian_area_alaska_native_area_hawaiian_home_land_or_part']\n",
      "['state', 'state_legislative_district_upper_chamber']\n",
      "['state', 'state_legislative_district_upper_chamber', 'county_or_part']\n",
      "['state', 'state_legislative_district_lower_chamber']\n",
      "['state', 'state_legislative_district_lower_chamber', 'county_or_part']\n",
      "['state', 'public_use_microdata_area']\n",
      "['state', 'zip_code_tabulation_area']\n",
      "['state', 'school_district_elementary']\n",
      "['state', 'school_district_secondary']\n",
      "['state', 'school_district_unified']\n"
     ]
    }
   ],
   "source": [
    "try:\n",
    "    df = ced.download(\n",
    "        ACS5,\n",
    "        2015,\n",
    "        group='B01001',\n",
    "        geo='g1',\n",
    "    )\n",
    "except CensusApiException as e:\n",
    "    print(e)"
   ]
  },
  {
   "cell_type": "markdown",
   "id": "bfbbb0b2-b654-499c-be75-3b1af235669e",
   "metadata": {},
   "source": [
    "Now I can read the error message, and realize what I want is state and county."
   ]
  },
  {
   "cell_type": "code",
   "execution_count": 24,
   "id": "9c36a17a-91d8-443d-815f-e83d63d60c9d",
   "metadata": {},
   "outputs": [],
   "source": [
    "import censusdis.states as states\n",
    "from censusdis.counties.arizona import MOHAVE\n",
    "\n",
    "df = ced.download(\n",
    "    ACS5,\n",
    "    2015,\n",
    "    ['NAME'],\n",
    "    group='B01001',\n",
    "    \n",
    "    state=states.AZ,\n",
    "    county=MOHAVE\n",
    ")"
   ]
  },
  {
   "cell_type": "code",
   "execution_count": 25,
   "id": "c3f86c0b-baf5-481f-915f-b461a92dca86",
   "metadata": {},
   "outputs": [
    {
     "data": {
      "text/html": [
       "<div>\n",
       "<style scoped>\n",
       "    .dataframe tbody tr th:only-of-type {\n",
       "        vertical-align: middle;\n",
       "    }\n",
       "\n",
       "    .dataframe tbody tr th {\n",
       "        vertical-align: top;\n",
       "    }\n",
       "\n",
       "    .dataframe thead th {\n",
       "        text-align: right;\n",
       "    }\n",
       "</style>\n",
       "<table border=\"1\" class=\"dataframe\">\n",
       "  <thead>\n",
       "    <tr style=\"text-align: right;\">\n",
       "      <th></th>\n",
       "      <th>STATE</th>\n",
       "      <th>COUNTY</th>\n",
       "      <th>NAME</th>\n",
       "      <th>B01001_001E</th>\n",
       "      <th>B01001_002E</th>\n",
       "      <th>B01001_003E</th>\n",
       "      <th>B01001_004E</th>\n",
       "      <th>B01001_005E</th>\n",
       "      <th>B01001_006E</th>\n",
       "      <th>B01001_007E</th>\n",
       "      <th>...</th>\n",
       "      <th>B01001_041E</th>\n",
       "      <th>B01001_042E</th>\n",
       "      <th>B01001_043E</th>\n",
       "      <th>B01001_044E</th>\n",
       "      <th>B01001_045E</th>\n",
       "      <th>B01001_046E</th>\n",
       "      <th>B01001_047E</th>\n",
       "      <th>B01001_048E</th>\n",
       "      <th>B01001_049E</th>\n",
       "      <th>GEO_ID</th>\n",
       "    </tr>\n",
       "  </thead>\n",
       "  <tbody>\n",
       "    <tr>\n",
       "      <th>0</th>\n",
       "      <td>04</td>\n",
       "      <td>015</td>\n",
       "      <td>Mohave County, Arizona</td>\n",
       "      <td>203362</td>\n",
       "      <td>102371</td>\n",
       "      <td>4882</td>\n",
       "      <td>5447</td>\n",
       "      <td>5912</td>\n",
       "      <td>3561</td>\n",
       "      <td>2037</td>\n",
       "      <td>...</td>\n",
       "      <td>8507</td>\n",
       "      <td>3439</td>\n",
       "      <td>4727</td>\n",
       "      <td>3373</td>\n",
       "      <td>4967</td>\n",
       "      <td>7239</td>\n",
       "      <td>4768</td>\n",
       "      <td>3332</td>\n",
       "      <td>2901</td>\n",
       "      <td>0500000US04015</td>\n",
       "    </tr>\n",
       "  </tbody>\n",
       "</table>\n",
       "<p>1 rows × 53 columns</p>\n",
       "</div>"
      ],
      "text/plain": [
       "  STATE COUNTY                    NAME  B01001_001E  B01001_002E  B01001_003E  \\\n",
       "0    04    015  Mohave County, Arizona       203362       102371         4882   \n",
       "\n",
       "   B01001_004E  B01001_005E  B01001_006E  B01001_007E  ...  B01001_041E  \\\n",
       "0         5447         5912         3561         2037  ...         8507   \n",
       "\n",
       "   B01001_042E  B01001_043E  B01001_044E  B01001_045E  B01001_046E  \\\n",
       "0         3439         4727         3373         4967         7239   \n",
       "\n",
       "   B01001_047E  B01001_048E  B01001_049E          GEO_ID  \n",
       "0         4768         3332         2901  0500000US04015  \n",
       "\n",
       "[1 rows x 53 columns]"
      ]
     },
     "execution_count": 25,
     "metadata": {},
     "output_type": "execute_result"
    }
   ],
   "source": [
    "df"
   ]
  },
  {
   "cell_type": "markdown",
   "id": "105c999b-b5b6-454b-8fde-7f87d2680ff0",
   "metadata": {},
   "source": [
    "### Attributes\n",
    "\n",
    "[link to docs](https://api.census.gov/docs/user-guide/overview/attributes.html)\n",
    "\n",
    "I'm not sure what `took` is about? Is this how long it took on the server side? \n",
    "Some notion of resources consumed? I'm not sure."
   ]
  },
  {
   "cell_type": "code",
   "execution_count": 26,
   "id": "d8417fa0-4317-4f05-9c53-6bf398050c46",
   "metadata": {},
   "outputs": [
    {
     "data": {
      "text/plain": [
       "{'took': 0}"
      ]
     },
     "execution_count": 26,
     "metadata": {},
     "output_type": "execute_result"
    }
   ],
   "source": [
    "bad_response.json()['general-info']"
   ]
  },
  {
   "cell_type": "code",
   "execution_count": 27,
   "id": "291f7936-3db6-413d-b11c-132b186900c8",
   "metadata": {},
   "outputs": [
    {
     "data": {
      "text/plain": [
       "{'took': 0}"
      ]
     },
     "execution_count": 27,
     "metadata": {},
     "output_type": "execute_result"
    }
   ],
   "source": [
    "good_response.json()['general-info']"
   ]
  },
  {
   "cell_type": "markdown",
   "id": "fb02c152-4c4c-47c9-826d-eb76088f8263",
   "metadata": {},
   "source": [
    "## Concepts\n",
    "\n",
    "### Geography\n",
    "\n",
    "[link to docs](https://api.census.gov/docs/user-guide/concepts/geography.html)\n",
    "\n",
    "This is the section where I think I am going to be most critical. The way that `geoIds` have\n",
    "to be constructed in the beta API is, in my opinion a step backwards both for researchers\n",
    "who want to query the data and for developers of client-side APIs like `censusdis`.\n",
    "There are two primary reasons for this:\n",
    "\n",
    "1. Now users have to know the codes for summary levels. This is just one more set of\n",
    "   codes to remember or, more likely, to forget and to have to look up every time you\n",
    "   want to use them.\n",
    "3. This new approach is an example of what I call *coding by string construction*. The\n",
    "   idea is that instead of writing your code in a proper language, like Python or R,\n",
    "   using standard idioms and taking advantage of tools like IDEs, syntax checkers, and\n",
    "   so on to guide you and catch problems before you even run a single line of code,\n",
    "   you are forced to construct a string that has detailed semantic meaning and is hard\n",
    "   to get right.\n",
    "\n",
    "I know that summary level codes have always existed, and `censusdis` looks them up and\n",
    "uses them internally, but we went out of our way to never expose them to users.\n",
    "\n",
    "As far as coding by string construction, in this case I wonder if these are really facet\n",
    "ids used by whatever underlying faceted search library you are using on the server side\n",
    "and you are needlessly exposing them to users because that way you don't have to do \n",
    "any translation to or from an internal format that may make sense to machines, but does\n",
    "not make sense to people.\n",
    "\n",
    "I am going to demonstrate below some of the kind of experiences that this new approach\n",
    "is likely to put users through and contrast them with what I think, and my users have\n",
    "told me, is a friendly user-centric approach to geography. Some additional examples \n",
    "and related materials are available in [Lesson 2](https://github.com/censusdis/censusdis-tutorial-2024/blob/main/Lessons/Lesson%202%20Maps.ipynb) of a tutorial I gave on the subject.\n"
   ]
  },
  {
   "cell_type": "markdown",
   "id": "6598e928-0f5b-48e2-915f-0334d9994768",
   "metadata": {},
   "source": [
    "#### Mohave County, Arizona\n",
    "\n",
    "Let's begin with Mohave County, Arizona, the first example from [the documentation](https://api.census.gov/docs/user-guide/concepts/geography.html).\n",
    "\n",
    "Here's how I would do it if I had to construct the ID manually:"
   ]
  },
  {
   "cell_type": "code",
   "execution_count": 28,
   "id": "159f17cd-0042-4037-986b-2e46bbd42ba6",
   "metadata": {},
   "outputs": [
    {
     "data": {
      "text/plain": [
       "'0500000US04015'"
      ]
     },
     "execution_count": 28,
     "metadata": {},
     "output_type": "execute_result"
    }
   ],
   "source": [
    "# A good reference to summary levels so you can find the one you want: https://mcdc.missouri.edu/geography/sumlevs/\n",
    "\n",
    "# County is summary level 050. \n",
    "SUMMARY_LEVEL_COUNTY = '050'\n",
    "\n",
    "# I already imported symbols for the FIPS codes I need from `censusdis`\n",
    "# so I will use them in constructing my geoId.\n",
    "\n",
    "geo_id_mojave_county_az = f'{SUMMARY_LEVEL_COUNTY}0000US{states.AZ}{MOHAVE}'\n",
    "\n",
    "geo_id_mojave_county_az"
   ]
  },
  {
   "cell_type": "markdown",
   "id": "fbea09b2-3db9-4c13-991b-f0c03af909ea",
   "metadata": {},
   "source": [
    "Now I have something I can pass on to the POST I did above. If I were writing a library,\n",
    "I would probably make a convenience method for each summary level. So this one would look\n",
    "like this:"
   ]
  },
  {
   "cell_type": "code",
   "execution_count": 29,
   "id": "f9a109ee-f6d9-412e-bc8a-0f09ac357429",
   "metadata": {},
   "outputs": [],
   "source": [
    "def geoid_state_county(state_fips: str, county_fips: str) -> str:\n",
    "    \"\"\"Construct a geoId for a state and a county.\"\"\"\n",
    "    return f'{SUMMARY_LEVEL_COUNTY}0000US{state_fips}{county_fips}'"
   ]
  },
  {
   "cell_type": "markdown",
   "id": "1ede0ec8-5195-485b-afe1-d7453bc3f3c9",
   "metadata": {},
   "source": [
    "Now the user would do this instead of direct string manipulation:"
   ]
  },
  {
   "cell_type": "code",
   "execution_count": 30,
   "id": "378fc1d8-5d6e-4d0a-8b7a-05aaf8330be9",
   "metadata": {},
   "outputs": [
    {
     "data": {
      "text/plain": [
       "'0500000US04015'"
      ]
     },
     "execution_count": 30,
     "metadata": {},
     "output_type": "execute_result"
    }
   ],
   "source": [
    "geo_id_mojave_county_az = geoid_state_county(states.AZ, MOHAVE)\n",
    "\n",
    "geo_id_mojave_county_az"
   ]
  },
  {
   "cell_type": "markdown",
   "id": "86200288-72d3-484d-a6b5-f31992e8db4a",
   "metadata": {},
   "source": [
    "Contrast this to what you saw in the query above, where I never explicitly\n",
    "constructed or dealt with a representation of geography as a string or an\n",
    "object. I just used `state=states.AZ, county=MOHAVE` directly in my\n",
    "query to get the data I wanted, and all the other details happened behind\n",
    "the scenes for me, including generation of the nice error message when I\n",
    "got it wrong.\n",
    "\n",
    "While I can certainly keep the user-facing `censusdis` interface I have and\n",
    "implement a utility function behind the scenes that looks like `geoid_from_geo(**kwargs)`\n",
    "that I would call to construct geoids from arbitrary combinations of \n",
    "keyword args that I would then pass to the beta API, it seems like a waste\n",
    "of effort on both our parts. I as the client developer or end user have to\n",
    "marshall my geography request into a string and you, on the server side most\n",
    "likely have to parse it out into components. Maybe you have you have data\n",
    "indexed in a way where these are direct keys, but in that case you are exposing\n",
    "internal implementation details that most users don't want to know about.\n",
    "\n",
    "In summary, I think just about everyone would rather use an API (whether it is \n",
    "the REST API or an API provided by a client library) that takes arguments like\n",
    "```\n",
    "{\n",
    "    'state': '04',\n",
    "    'county': '015'\n",
    "}\n",
    "```\n",
    "than\n",
    "```\n",
    "{\n",
    "    'geoId': ''0500000US04015'\n",
    "}\n",
    "```\n",
    "Where the former is written in terms of concepts humans think about and the latter\n",
    "is written in terms of code as strings with a domain-specific encoding.\n",
    "\n",
    "To complete the example, let's make the API request with this geo id."
   ]
  },
  {
   "cell_type": "code",
   "execution_count": 31,
   "id": "404a7c3c-b776-4ade-84e8-9ea032b24265",
   "metadata": {},
   "outputs": [],
   "source": [
    "county_response = requests.post(\n",
    "    TABLE_URL, \n",
    "    headers=headers, \n",
    "    json={\n",
    "        \"tables\": [\n",
    "            {\n",
    "                # Note that this id is another example of coding by\n",
    "                # string construction. We did not go through how it\n",
    "                # was constructed as we did with the geoId, but it\n",
    "                # is clear that one would also want some kind of \n",
    "                # client side helper library to construct these\n",
    "                # like we would want for geoIds.\n",
    "                \"id\": \"ACSDT5Y2015.B01001\",\n",
    "                \n",
    "                \"geoIds\": [geo_id_mojave_county_az],\n",
    "\n",
    "                # Note to explore. I was not able to get\n",
    "                # STATE or COUNTY for each row by inserting\n",
    "                # them in this list. Maybe I request them somewhere\n",
    "                # else? I often want these to be able to do\n",
    "                # joins with other data sets that are indexed\n",
    "                # by FIPS codes at various levels. I did find that\n",
    "                # GEO_ID works, but then I have to split it out.\n",
    "                # This matters more in wildcard cases like we \n",
    "                # explore below when the results have many rows.\n",
    "                \"columns\": [\"NAME\", \"B01001_001E\"]\n",
    "            }\n",
    "        ]\n",
    "    }\n",
    ")"
   ]
  },
  {
   "cell_type": "code",
   "execution_count": 32,
   "id": "e2c9978a-3f61-4d73-9429-3946bb15a89c",
   "metadata": {},
   "outputs": [
    {
     "data": {
      "text/plain": [
       "200"
      ]
     },
     "execution_count": 32,
     "metadata": {},
     "output_type": "execute_result"
    }
   ],
   "source": [
    "county_response.status_code"
   ]
  },
  {
   "cell_type": "code",
   "execution_count": 33,
   "id": "515d9768-f358-4046-86fd-a6a13d5ecdbf",
   "metadata": {},
   "outputs": [
    {
     "data": {
      "text/html": [
       "<div>\n",
       "<style scoped>\n",
       "    .dataframe tbody tr th:only-of-type {\n",
       "        vertical-align: middle;\n",
       "    }\n",
       "\n",
       "    .dataframe tbody tr th {\n",
       "        vertical-align: top;\n",
       "    }\n",
       "\n",
       "    .dataframe thead th {\n",
       "        text-align: right;\n",
       "    }\n",
       "</style>\n",
       "<table border=\"1\" class=\"dataframe\">\n",
       "  <thead>\n",
       "    <tr style=\"text-align: right;\">\n",
       "      <th></th>\n",
       "      <th>NAME</th>\n",
       "      <th>B01001_001E</th>\n",
       "    </tr>\n",
       "  </thead>\n",
       "  <tbody>\n",
       "    <tr>\n",
       "      <th>0</th>\n",
       "      <td>Mohave County, Arizona</td>\n",
       "      <td>203362</td>\n",
       "    </tr>\n",
       "  </tbody>\n",
       "</table>\n",
       "</div>"
      ],
      "text/plain": [
       "                     NAME  B01001_001E\n",
       "0  Mohave County, Arizona       203362"
      ]
     },
     "execution_count": 33,
     "metadata": {},
     "output_type": "execute_result"
    }
   ],
   "source": [
    "county_data = county_response.json()['content']['tables'][0]['data']\n",
    "\n",
    "df_county_beta = pd.DataFrame(county_data['rows'])\n",
    "df_county_beta"
   ]
  },
  {
   "cell_type": "markdown",
   "id": "9daf99bc-199f-4ba7-8a17-03d56aba22cf",
   "metadata": {},
   "source": [
    "I don't want to compare the above directly to `censusdis`, but I do \n",
    "want to use it to illustrate a different style of API that works\n",
    "in terms of geographic concepts that users think in, and does not\n",
    "require them to code by string construction."
   ]
  },
  {
   "cell_type": "code",
   "execution_count": 34,
   "id": "fa4ac29e-b52a-4877-aa25-1a9196d03aeb",
   "metadata": {},
   "outputs": [
    {
     "data": {
      "text/html": [
       "<div>\n",
       "<style scoped>\n",
       "    .dataframe tbody tr th:only-of-type {\n",
       "        vertical-align: middle;\n",
       "    }\n",
       "\n",
       "    .dataframe tbody tr th {\n",
       "        vertical-align: top;\n",
       "    }\n",
       "\n",
       "    .dataframe thead th {\n",
       "        text-align: right;\n",
       "    }\n",
       "</style>\n",
       "<table border=\"1\" class=\"dataframe\">\n",
       "  <thead>\n",
       "    <tr style=\"text-align: right;\">\n",
       "      <th></th>\n",
       "      <th>STATE</th>\n",
       "      <th>COUNTY</th>\n",
       "      <th>NAME</th>\n",
       "      <th>B01001_001E</th>\n",
       "    </tr>\n",
       "  </thead>\n",
       "  <tbody>\n",
       "    <tr>\n",
       "      <th>0</th>\n",
       "      <td>04</td>\n",
       "      <td>015</td>\n",
       "      <td>Mohave County, Arizona</td>\n",
       "      <td>203362</td>\n",
       "    </tr>\n",
       "  </tbody>\n",
       "</table>\n",
       "</div>"
      ],
      "text/plain": [
       "  STATE COUNTY                    NAME  B01001_001E\n",
       "0    04    015  Mohave County, Arizona       203362"
      ]
     },
     "execution_count": 34,
     "metadata": {},
     "output_type": "execute_result"
    }
   ],
   "source": [
    "df_county_censusdis = ced.download(\n",
    "    # In contrast to the post above, we did not have\n",
    "    # to concatenate or encode an id for the data set\n",
    "    # can vintage we want to use.\n",
    "    ACS5,\n",
    "    2015,\n",
    "\n",
    "    # columns / variables\n",
    "    [\"NAME\", \"B01001_001E\"],\n",
    "    \n",
    "    # Here is the geometry, specified in a more \n",
    "    # human-friendly way.\n",
    "    state=states.AZ,\n",
    "    county=MOHAVE\n",
    ")\n",
    "\n",
    "df_county_censusdis"
   ]
  },
  {
   "cell_type": "markdown",
   "id": "68802eae-ad56-4949-9015-5b9f6dfb93ea",
   "metadata": {},
   "source": [
    "#### Houston-Pasadena-The Woodlands, Texas Metro Area\n",
    "\n",
    "Let's repeat the exercise for a CBSA from the docs."
   ]
  },
  {
   "cell_type": "code",
   "execution_count": 35,
   "id": "4b1a670a-47d0-480f-88fa-9ed9cef61377",
   "metadata": {},
   "outputs": [],
   "source": [
    "from censusdis.msa_msa import HOUSTON_THE_WOODLANDS_SUGAR_LAND_TX_METRO_AREA"
   ]
  },
  {
   "cell_type": "markdown",
   "id": "47f6aabc-f593-4df5-9399-d2c481fd3eda",
   "metadata": {},
   "source": [
    "Now let's build the GeoId."
   ]
  },
  {
   "cell_type": "code",
   "execution_count": 36,
   "id": "a6e04ca1-2e05-40eb-8f96-d5a60067c177",
   "metadata": {},
   "outputs": [
    {
     "data": {
      "text/plain": [
       "'3100000US26420'"
      ]
     },
     "execution_count": 36,
     "metadata": {},
     "output_type": "execute_result"
    }
   ],
   "source": [
    "# Oops. CBSA, aka metropolitan/micropolitan is not in my goto list at https://mcdc.missouri.edu/geography/sumlevs/\n",
    "# There is a more extensive list at https://mcdc.missouri.edu/geography/sumlevs/sumlev-master-list.csv\n",
    "# Let's check that. According to that one, 310 is the summary level we want.\n",
    "\n",
    "SUMMARY_LEVEL_CBSA = \"310\"\n",
    "\n",
    "# Note that if I didn't have the symbol, I'd need to explore to find the right \n",
    "# number for Houston.\n",
    "geo_id_cbsa = f\"{SUMMARY_LEVEL_CBSA}0000US{HOUSTON_THE_WOODLANDS_SUGAR_LAND_TX_METRO_AREA}\"\n",
    "\n",
    "geo_id_cbsa"
   ]
  },
  {
   "cell_type": "code",
   "execution_count": 37,
   "id": "03640572-440a-4ad7-aa56-9f9496f745db",
   "metadata": {},
   "outputs": [],
   "source": [
    "TABLE_URL = BETA_API_BASE_URL + '/table'"
   ]
  },
  {
   "cell_type": "code",
   "execution_count": 38,
   "id": "279f439c-fc17-4e4d-aab4-66eaaaf4ee66",
   "metadata": {},
   "outputs": [],
   "source": [
    "cbsa_response = requests.post(\n",
    "    TABLE_URL, \n",
    "    headers=headers, \n",
    "    json={\n",
    "        \"tables\": [\n",
    "            {\n",
    "                \"id\": \"ACSDT5Y2015.B01001\",\n",
    "                \"geoIds\": [geo_id_cbsa],\n",
    "                \"columns\": [\"B01001_001E\"]\n",
    "            }\n",
    "        ]\n",
    "    }\n",
    ")"
   ]
  },
  {
   "cell_type": "code",
   "execution_count": 39,
   "id": "a88177cf-0c97-4623-b14f-81e4216de72d",
   "metadata": {},
   "outputs": [
    {
     "data": {
      "text/plain": [
       "400"
      ]
     },
     "execution_count": 39,
     "metadata": {},
     "output_type": "execute_result"
    }
   ],
   "source": [
    "cbsa_response.status_code"
   ]
  },
  {
   "cell_type": "code",
   "execution_count": 40,
   "id": "f2d9db36-567e-429f-98b5-d63e0730b705",
   "metadata": {},
   "outputs": [
    {
     "data": {
      "text/plain": [
       "['Table ACSDT5Y2015.B01001 has no data for the requested geographies']"
      ]
     },
     "execution_count": 40,
     "metadata": {},
     "output_type": "execute_result"
    }
   ],
   "source": [
    "cbsa_response.json()['service-messages']['error']"
   ]
  },
  {
   "cell_type": "markdown",
   "id": "374a1a56-bfc0-42b1-9d4c-591d22685a10",
   "metadata": {},
   "source": [
    "I assume this data just hasn't ben populated in the data store behind the beta API.\n",
    "No big worry here. I exepect if it were there it would have looked similar to the \n",
    "county-level data.\n",
    "\n",
    "Here is the alternate API version:"
   ]
  },
  {
   "cell_type": "code",
   "execution_count": 41,
   "id": "2136da4c-8c63-4104-acec-e675a58bd5e6",
   "metadata": {},
   "outputs": [
    {
     "data": {
      "text/html": [
       "<div>\n",
       "<style scoped>\n",
       "    .dataframe tbody tr th:only-of-type {\n",
       "        vertical-align: middle;\n",
       "    }\n",
       "\n",
       "    .dataframe tbody tr th {\n",
       "        vertical-align: top;\n",
       "    }\n",
       "\n",
       "    .dataframe thead th {\n",
       "        text-align: right;\n",
       "    }\n",
       "</style>\n",
       "<table border=\"1\" class=\"dataframe\">\n",
       "  <thead>\n",
       "    <tr style=\"text-align: right;\">\n",
       "      <th></th>\n",
       "      <th>METROPOLITAN_STATISTICAL_AREA_MICROPOLITAN_STATISTICAL_AREA</th>\n",
       "      <th>NAME</th>\n",
       "      <th>B01001_001E</th>\n",
       "    </tr>\n",
       "  </thead>\n",
       "  <tbody>\n",
       "    <tr>\n",
       "      <th>0</th>\n",
       "      <td>26420</td>\n",
       "      <td>Houston-The Woodlands-Sugar Land, TX Metro Area</td>\n",
       "      <td>6346653</td>\n",
       "    </tr>\n",
       "  </tbody>\n",
       "</table>\n",
       "</div>"
      ],
      "text/plain": [
       "  METROPOLITAN_STATISTICAL_AREA_MICROPOLITAN_STATISTICAL_AREA  \\\n",
       "0                                              26420            \n",
       "\n",
       "                                              NAME  B01001_001E  \n",
       "0  Houston-The Woodlands-Sugar Land, TX Metro Area      6346653  "
      ]
     },
     "execution_count": 41,
     "metadata": {},
     "output_type": "execute_result"
    }
   ],
   "source": [
    "df_cbsa_censusdis = ced.download(\n",
    "    ACS5,\n",
    "    2015,\n",
    "    ['NAME', 'B01001_001E'],\n",
    "    metropolitan_statistical_area_micropolitan_statistical_area=HOUSTON_THE_WOODLANDS_SUGAR_LAND_TX_METRO_AREA\n",
    ")\n",
    "\n",
    "df_cbsa_censusdis"
   ]
  },
  {
   "cell_type": "markdown",
   "id": "cd69c3ac-a81b-4a81-abeb-3fd185326106",
   "metadata": {},
   "source": [
    "#### Fern Forest CDP, Hawaii\n",
    "\n",
    "Another example from the documentation."
   ]
  },
  {
   "cell_type": "code",
   "execution_count": 42,
   "id": "c2e43177-6f74-4a7d-9277-777c536871e0",
   "metadata": {},
   "outputs": [
    {
     "data": {
      "text/plain": [
       "'1600000US1507675'"
      ]
     },
     "execution_count": 42,
     "metadata": {},
     "output_type": "execute_result"
    }
   ],
   "source": [
    "# Fern Forest CDP, Hawaii\n",
    "\n",
    "from censusdis.places.hawaii import FERN_FOREST_CDP\n",
    "\n",
    "# From https://mcdc.missouri.edu/geography/sumlevs/\n",
    "SUMMARY_LEVEL_PLACE = \"160\"\n",
    "\n",
    "geo_id_place = f\"{SUMMARY_LEVEL_PLACE}0000US{states.HI}{FERN_FOREST_CDP}\"\n",
    "\n",
    "geo_id_place "
   ]
  },
  {
   "cell_type": "code",
   "execution_count": 43,
   "id": "e276f373-2316-4957-8481-98e6ad5c0f1a",
   "metadata": {},
   "outputs": [],
   "source": [
    "place_response = requests.post(\n",
    "    TABLE_URL, \n",
    "    headers=headers, \n",
    "    json={\n",
    "        \"tables\": [\n",
    "            {\n",
    "                # Note that this ID is again an example of coding\n",
    "                # by string construction.\n",
    "                \"id\": \"ACSDT5Y2015.B01001\",\n",
    "                \"geoIds\": [geo_id_place],\n",
    "                \"columns\": [\"NAME\", \"B01001_001E\"]\n",
    "            }\n",
    "        ]\n",
    "    }\n",
    ")"
   ]
  },
  {
   "cell_type": "code",
   "execution_count": 44,
   "id": "e4efca44-564c-4f00-a067-9ea328dc7525",
   "metadata": {},
   "outputs": [
    {
     "data": {
      "text/plain": [
       "200"
      ]
     },
     "execution_count": 44,
     "metadata": {},
     "output_type": "execute_result"
    }
   ],
   "source": [
    "place_response.status_code"
   ]
  },
  {
   "cell_type": "code",
   "execution_count": 45,
   "id": "eb008f6e-db1f-4cf1-9a6d-706ef922c67b",
   "metadata": {},
   "outputs": [],
   "source": [
    "place_data = place_response.json()['content']['tables'][0]['data']"
   ]
  },
  {
   "cell_type": "code",
   "execution_count": 46,
   "id": "f60906da-db72-4266-8233-84253fbf9396",
   "metadata": {},
   "outputs": [
    {
     "data": {
      "text/html": [
       "<div>\n",
       "<style scoped>\n",
       "    .dataframe tbody tr th:only-of-type {\n",
       "        vertical-align: middle;\n",
       "    }\n",
       "\n",
       "    .dataframe tbody tr th {\n",
       "        vertical-align: top;\n",
       "    }\n",
       "\n",
       "    .dataframe thead th {\n",
       "        text-align: right;\n",
       "    }\n",
       "</style>\n",
       "<table border=\"1\" class=\"dataframe\">\n",
       "  <thead>\n",
       "    <tr style=\"text-align: right;\">\n",
       "      <th></th>\n",
       "      <th>NAME</th>\n",
       "      <th>B01001_001E</th>\n",
       "    </tr>\n",
       "  </thead>\n",
       "  <tbody>\n",
       "    <tr>\n",
       "      <th>0</th>\n",
       "      <td>Fern Forest CDP, Hawaii</td>\n",
       "      <td>669</td>\n",
       "    </tr>\n",
       "  </tbody>\n",
       "</table>\n",
       "</div>"
      ],
      "text/plain": [
       "                      NAME  B01001_001E\n",
       "0  Fern Forest CDP, Hawaii          669"
      ]
     },
     "execution_count": 46,
     "metadata": {},
     "output_type": "execute_result"
    }
   ],
   "source": [
    "df_place_beta = pd.DataFrame(place_data[\"rows\"])\n",
    "df_place_beta"
   ]
  },
  {
   "cell_type": "code",
   "execution_count": 47,
   "id": "2a1b1918-b1dc-4a6b-be2d-e4904c4bb6a5",
   "metadata": {},
   "outputs": [],
   "source": [
    "# Alternate API\n",
    "\n",
    "df_place_censusdis = ced.download(\n",
    "    ACS5,\n",
    "    2015,\n",
    "    [\"NAME\", \"B01001_001E\"],\n",
    "    state=states.HI,\n",
    "    place=FERN_FOREST_CDP\n",
    ")"
   ]
  },
  {
   "cell_type": "code",
   "execution_count": 48,
   "id": "694bb32f-9ed2-400d-bde4-bf9abe70fc5b",
   "metadata": {},
   "outputs": [
    {
     "data": {
      "text/html": [
       "<div>\n",
       "<style scoped>\n",
       "    .dataframe tbody tr th:only-of-type {\n",
       "        vertical-align: middle;\n",
       "    }\n",
       "\n",
       "    .dataframe tbody tr th {\n",
       "        vertical-align: top;\n",
       "    }\n",
       "\n",
       "    .dataframe thead th {\n",
       "        text-align: right;\n",
       "    }\n",
       "</style>\n",
       "<table border=\"1\" class=\"dataframe\">\n",
       "  <thead>\n",
       "    <tr style=\"text-align: right;\">\n",
       "      <th></th>\n",
       "      <th>STATE</th>\n",
       "      <th>PLACE</th>\n",
       "      <th>NAME</th>\n",
       "      <th>B01001_001E</th>\n",
       "    </tr>\n",
       "  </thead>\n",
       "  <tbody>\n",
       "    <tr>\n",
       "      <th>0</th>\n",
       "      <td>15</td>\n",
       "      <td>07675</td>\n",
       "      <td>Fern Forest CDP, Hawaii</td>\n",
       "      <td>669</td>\n",
       "    </tr>\n",
       "  </tbody>\n",
       "</table>\n",
       "</div>"
      ],
      "text/plain": [
       "  STATE  PLACE                     NAME  B01001_001E\n",
       "0    15  07675  Fern Forest CDP, Hawaii          669"
      ]
     },
     "execution_count": 48,
     "metadata": {},
     "output_type": "execute_result"
    }
   ],
   "source": [
    "df_place_censusdis"
   ]
  },
  {
   "cell_type": "markdown",
   "id": "1bc3d50b-1956-493c-82e9-01b39f21df11",
   "metadata": {},
   "source": [
    "#### Block Group 2, Census Tract 104.01, Jersey County, Illinois\n",
    "\n",
    "We will skip ahead a bit to a hairier example."
   ]
  },
  {
   "cell_type": "code",
   "execution_count": 49,
   "id": "a345f3f6-1b47-4415-b18e-f62eb0982453",
   "metadata": {},
   "outputs": [
    {
     "data": {
      "text/plain": [
       "'1500000US1708301040102'"
      ]
     },
     "execution_count": 49,
     "metadata": {},
     "output_type": "execute_result"
    }
   ],
   "source": [
    "from censusdis.counties.illinois import JERSEY\n",
    "\n",
    "# From https://mcdc.missouri.edu/geography/sumlevs/\n",
    "SUMMARY_LEVEL_BLOCK_GROUP = \"150\"\n",
    "\n",
    "TRACT = \"010401\"\n",
    "BLOCK_GROUP = \"2\"\n",
    "\n",
    "# This is a lot of things to concatenate and get right.\n",
    "geo_id_block_group = f\"{SUMMARY_LEVEL_BLOCK_GROUP}0000US{states.IL}{JERSEY}{TRACT}0{BLOCK_GROUP}\"\n",
    "\n",
    "geo_id_block_group"
   ]
  },
  {
   "cell_type": "code",
   "execution_count": 50,
   "id": "355bbcf0-b669-4128-a424-388d22843576",
   "metadata": {},
   "outputs": [],
   "source": [
    "block_group_response = requests.post(\n",
    "    TABLE_URL, \n",
    "    headers=headers, \n",
    "    json={\n",
    "        \"tables\": [\n",
    "            {\n",
    "                \"id\": \"ACSDT5Y2015.B01001\",\n",
    "                \"geoIds\": [geo_id_block_group],\n",
    "                \"columns\": [\"B01001_001E\"]\n",
    "            }\n",
    "        ]\n",
    "    }\n",
    ")"
   ]
  },
  {
   "cell_type": "code",
   "execution_count": 51,
   "id": "711d5996-146f-40c6-a57c-8204ecdf74bf",
   "metadata": {},
   "outputs": [
    {
     "data": {
      "text/plain": [
       "400"
      ]
     },
     "execution_count": 51,
     "metadata": {},
     "output_type": "execute_result"
    }
   ],
   "source": [
    "block_group_response.status_code"
   ]
  },
  {
   "cell_type": "code",
   "execution_count": 52,
   "id": "326f2110-e496-4c4e-88e2-476c486911de",
   "metadata": {},
   "outputs": [
    {
     "data": {
      "text/plain": [
       "['Table ACSDT5Y2015.B01001 has no data for the requested geographies']"
      ]
     },
     "execution_count": 52,
     "metadata": {},
     "output_type": "execute_result"
    }
   ],
   "source": [
    "block_group_response.json()['service-messages']['error']"
   ]
  },
  {
   "cell_type": "code",
   "execution_count": 53,
   "id": "4bb19108-1797-4695-8854-0cf79de77b45",
   "metadata": {},
   "outputs": [],
   "source": [
    "df_block_group = ced.download(\n",
    "    ACS5,\n",
    "    2022,\n",
    "    [\"NAME\", \"B01001_001E\"],\n",
    "    state=states.IL,\n",
    "    county=JERSEY,\n",
    "    tract=TRACT,\n",
    "    block_group=BLOCK_GROUP\n",
    ")\n"
   ]
  },
  {
   "cell_type": "code",
   "execution_count": 54,
   "id": "5a47ca59-76c7-4966-a372-ee46c08b154b",
   "metadata": {},
   "outputs": [
    {
     "data": {
      "text/html": [
       "<div>\n",
       "<style scoped>\n",
       "    .dataframe tbody tr th:only-of-type {\n",
       "        vertical-align: middle;\n",
       "    }\n",
       "\n",
       "    .dataframe tbody tr th {\n",
       "        vertical-align: top;\n",
       "    }\n",
       "\n",
       "    .dataframe thead th {\n",
       "        text-align: right;\n",
       "    }\n",
       "</style>\n",
       "<table border=\"1\" class=\"dataframe\">\n",
       "  <thead>\n",
       "    <tr style=\"text-align: right;\">\n",
       "      <th></th>\n",
       "      <th>STATE</th>\n",
       "      <th>COUNTY</th>\n",
       "      <th>TRACT</th>\n",
       "      <th>BLOCK_GROUP</th>\n",
       "      <th>NAME</th>\n",
       "      <th>B01001_001E</th>\n",
       "    </tr>\n",
       "  </thead>\n",
       "  <tbody>\n",
       "    <tr>\n",
       "      <th>0</th>\n",
       "      <td>17</td>\n",
       "      <td>083</td>\n",
       "      <td>010401</td>\n",
       "      <td>2</td>\n",
       "      <td>Block Group 2; Census Tract 104.01; Jersey Cou...</td>\n",
       "      <td>1817</td>\n",
       "    </tr>\n",
       "  </tbody>\n",
       "</table>\n",
       "</div>"
      ],
      "text/plain": [
       "  STATE COUNTY   TRACT BLOCK_GROUP  \\\n",
       "0    17    083  010401           2   \n",
       "\n",
       "                                                NAME  B01001_001E  \n",
       "0  Block Group 2; Census Tract 104.01; Jersey Cou...         1817  "
      ]
     },
     "execution_count": 54,
     "metadata": {},
     "output_type": "execute_result"
    }
   ],
   "source": [
    "df_block_group"
   ]
  },
  {
   "cell_type": "markdown",
   "id": "09c1c0f7-dc1f-4b86-b95e-623157f81e65",
   "metadata": {},
   "source": [
    "### GeoIds for Collections of Geographies\n",
    "\n",
    "[link to docs](https://api.census.gov/docs/user-guide/concepts/geography.html#geoids-for-collections-of-geographies-in-the-beta-unified-census-data-api)\n",
    "\n",
    "The geoId string construction gets even more involved when we want a collection of \n",
    "geographies, such as all the counties in a state. Let's explore the strings we need \n",
    "to create for that.\n",
    "\n",
    "#### Counties in Arkansas\n",
    "\n",
    "To construct this string, we need two substrings, one at the \n",
    "state summary level and one at the county summary level, \n",
    "concatenated on either side of a `\"$\"`. Here is what it looks like:"
   ]
  },
  {
   "cell_type": "code",
   "execution_count": 55,
   "id": "6466a6a1-a5ca-4cf8-8289-dd2dc9012948",
   "metadata": {},
   "outputs": [
    {
     "data": {
      "text/plain": [
       "'0400000US05$0500000'"
      ]
     },
     "execution_count": 55,
     "metadata": {},
     "output_type": "execute_result"
    }
   ],
   "source": [
    "# From https://mcdc.missouri.edu/geography/sumlevs/\n",
    "SUMMARY_LEVEL_STATE = \"040\"\n",
    "\n",
    "geo_id_county_all = f\"{SUMMARY_LEVEL_STATE}0000US{states.AR}${SUMMARY_LEVEL_COUNTY}0000\"\n",
    "\n",
    "geo_id_county_all"
   ]
  },
  {
   "cell_type": "code",
   "execution_count": 56,
   "id": "fc060e9d-d0e3-4e7f-b7a4-25c0c9150d9e",
   "metadata": {},
   "outputs": [],
   "source": [
    "all_county_response = requests.post(\n",
    "    TABLE_URL, \n",
    "    headers=headers, \n",
    "    json={\n",
    "        \"tables\": [\n",
    "            {\n",
    "                \"id\": \"ACSDT5Y2015.B01001\",\n",
    "                \"geoIds\": [geo_id_county_all],\n",
    "                \"columns\": [\"GEO_ID\", \"NAME\", \"B01001_001E\"]\n",
    "            }\n",
    "        ]\n",
    "    }\n",
    ")"
   ]
  },
  {
   "cell_type": "code",
   "execution_count": 57,
   "id": "ffc9c2ba-7ac7-4b5b-84a8-ff1d3b005832",
   "metadata": {},
   "outputs": [
    {
     "data": {
      "text/plain": [
       "200"
      ]
     },
     "execution_count": 57,
     "metadata": {},
     "output_type": "execute_result"
    }
   ],
   "source": [
    "all_county_response.status_code"
   ]
  },
  {
   "cell_type": "code",
   "execution_count": 58,
   "id": "0e95fb5a-b4b2-4171-b0df-41c6f3ca24e8",
   "metadata": {},
   "outputs": [],
   "source": [
    "all_county_data = all_county_response.json()['content']['tables'][0]['data']"
   ]
  },
  {
   "cell_type": "code",
   "execution_count": 59,
   "id": "b83b5a45-c3e2-487b-9a2b-895be0d022a6",
   "metadata": {},
   "outputs": [
    {
     "data": {
      "text/html": [
       "<div>\n",
       "<style scoped>\n",
       "    .dataframe tbody tr th:only-of-type {\n",
       "        vertical-align: middle;\n",
       "    }\n",
       "\n",
       "    .dataframe tbody tr th {\n",
       "        vertical-align: top;\n",
       "    }\n",
       "\n",
       "    .dataframe thead th {\n",
       "        text-align: right;\n",
       "    }\n",
       "</style>\n",
       "<table border=\"1\" class=\"dataframe\">\n",
       "  <thead>\n",
       "    <tr style=\"text-align: right;\">\n",
       "      <th></th>\n",
       "      <th>GEO_ID</th>\n",
       "      <th>NAME</th>\n",
       "      <th>B01001_001E</th>\n",
       "    </tr>\n",
       "  </thead>\n",
       "  <tbody>\n",
       "    <tr>\n",
       "      <th>0</th>\n",
       "      <td>0500000US05001</td>\n",
       "      <td>Arkansas County, Arkansas</td>\n",
       "      <td>18731</td>\n",
       "    </tr>\n",
       "    <tr>\n",
       "      <th>1</th>\n",
       "      <td>0500000US05003</td>\n",
       "      <td>Ashley County, Arkansas</td>\n",
       "      <td>21229</td>\n",
       "    </tr>\n",
       "    <tr>\n",
       "      <th>2</th>\n",
       "      <td>0500000US05005</td>\n",
       "      <td>Baxter County, Arkansas</td>\n",
       "      <td>41040</td>\n",
       "    </tr>\n",
       "    <tr>\n",
       "      <th>3</th>\n",
       "      <td>0500000US05007</td>\n",
       "      <td>Benton County, Arkansas</td>\n",
       "      <td>238198</td>\n",
       "    </tr>\n",
       "    <tr>\n",
       "      <th>4</th>\n",
       "      <td>0500000US05009</td>\n",
       "      <td>Boone County, Arkansas</td>\n",
       "      <td>37227</td>\n",
       "    </tr>\n",
       "    <tr>\n",
       "      <th>...</th>\n",
       "      <td>...</td>\n",
       "      <td>...</td>\n",
       "      <td>...</td>\n",
       "    </tr>\n",
       "    <tr>\n",
       "      <th>70</th>\n",
       "      <td>0500000US05141</td>\n",
       "      <td>Van Buren County, Arkansas</td>\n",
       "      <td>17002</td>\n",
       "    </tr>\n",
       "    <tr>\n",
       "      <th>71</th>\n",
       "      <td>0500000US05143</td>\n",
       "      <td>Washington County, Arkansas</td>\n",
       "      <td>216432</td>\n",
       "    </tr>\n",
       "    <tr>\n",
       "      <th>72</th>\n",
       "      <td>0500000US05145</td>\n",
       "      <td>White County, Arkansas</td>\n",
       "      <td>78660</td>\n",
       "    </tr>\n",
       "    <tr>\n",
       "      <th>73</th>\n",
       "      <td>0500000US05147</td>\n",
       "      <td>Woodruff County, Arkansas</td>\n",
       "      <td>6983</td>\n",
       "    </tr>\n",
       "    <tr>\n",
       "      <th>74</th>\n",
       "      <td>0500000US05149</td>\n",
       "      <td>Yell County, Arkansas</td>\n",
       "      <td>21835</td>\n",
       "    </tr>\n",
       "  </tbody>\n",
       "</table>\n",
       "<p>75 rows × 3 columns</p>\n",
       "</div>"
      ],
      "text/plain": [
       "            GEO_ID                         NAME  B01001_001E\n",
       "0   0500000US05001    Arkansas County, Arkansas        18731\n",
       "1   0500000US05003      Ashley County, Arkansas        21229\n",
       "2   0500000US05005      Baxter County, Arkansas        41040\n",
       "3   0500000US05007      Benton County, Arkansas       238198\n",
       "4   0500000US05009       Boone County, Arkansas        37227\n",
       "..             ...                          ...          ...\n",
       "70  0500000US05141   Van Buren County, Arkansas        17002\n",
       "71  0500000US05143  Washington County, Arkansas       216432\n",
       "72  0500000US05145       White County, Arkansas        78660\n",
       "73  0500000US05147    Woodruff County, Arkansas         6983\n",
       "74  0500000US05149        Yell County, Arkansas        21835\n",
       "\n",
       "[75 rows x 3 columns]"
      ]
     },
     "execution_count": 59,
     "metadata": {},
     "output_type": "execute_result"
    }
   ],
   "source": [
    "df_all_county_beta = pd.DataFrame(all_county_data['rows'])\n",
    "df_all_county_beta"
   ]
  },
  {
   "cell_type": "code",
   "execution_count": 60,
   "id": "d322f1a3-b5e6-4777-93c4-d981ea5b07b9",
   "metadata": {},
   "outputs": [
    {
     "data": {
      "text/html": [
       "<div>\n",
       "<style scoped>\n",
       "    .dataframe tbody tr th:only-of-type {\n",
       "        vertical-align: middle;\n",
       "    }\n",
       "\n",
       "    .dataframe tbody tr th {\n",
       "        vertical-align: top;\n",
       "    }\n",
       "\n",
       "    .dataframe thead th {\n",
       "        text-align: right;\n",
       "    }\n",
       "</style>\n",
       "<table border=\"1\" class=\"dataframe\">\n",
       "  <thead>\n",
       "    <tr style=\"text-align: right;\">\n",
       "      <th></th>\n",
       "      <th>STATE</th>\n",
       "      <th>COUNTY</th>\n",
       "      <th>NAME</th>\n",
       "      <th>B01001_001E</th>\n",
       "    </tr>\n",
       "  </thead>\n",
       "  <tbody>\n",
       "    <tr>\n",
       "      <th>0</th>\n",
       "      <td>05</td>\n",
       "      <td>099</td>\n",
       "      <td>Nevada County, Arkansas</td>\n",
       "      <td>8793</td>\n",
       "    </tr>\n",
       "    <tr>\n",
       "      <th>1</th>\n",
       "      <td>05</td>\n",
       "      <td>037</td>\n",
       "      <td>Cross County, Arkansas</td>\n",
       "      <td>17467</td>\n",
       "    </tr>\n",
       "    <tr>\n",
       "      <th>2</th>\n",
       "      <td>05</td>\n",
       "      <td>039</td>\n",
       "      <td>Dallas County, Arkansas</td>\n",
       "      <td>7868</td>\n",
       "    </tr>\n",
       "    <tr>\n",
       "      <th>3</th>\n",
       "      <td>05</td>\n",
       "      <td>027</td>\n",
       "      <td>Columbia County, Arkansas</td>\n",
       "      <td>24327</td>\n",
       "    </tr>\n",
       "    <tr>\n",
       "      <th>4</th>\n",
       "      <td>05</td>\n",
       "      <td>125</td>\n",
       "      <td>Saline County, Arkansas</td>\n",
       "      <td>113833</td>\n",
       "    </tr>\n",
       "    <tr>\n",
       "      <th>...</th>\n",
       "      <td>...</td>\n",
       "      <td>...</td>\n",
       "      <td>...</td>\n",
       "      <td>...</td>\n",
       "    </tr>\n",
       "    <tr>\n",
       "      <th>70</th>\n",
       "      <td>05</td>\n",
       "      <td>095</td>\n",
       "      <td>Monroe County, Arkansas</td>\n",
       "      <td>7713</td>\n",
       "    </tr>\n",
       "    <tr>\n",
       "      <th>71</th>\n",
       "      <td>05</td>\n",
       "      <td>103</td>\n",
       "      <td>Ouachita County, Arkansas</td>\n",
       "      <td>25044</td>\n",
       "    </tr>\n",
       "    <tr>\n",
       "      <th>72</th>\n",
       "      <td>05</td>\n",
       "      <td>001</td>\n",
       "      <td>Arkansas County, Arkansas</td>\n",
       "      <td>18731</td>\n",
       "    </tr>\n",
       "    <tr>\n",
       "      <th>73</th>\n",
       "      <td>05</td>\n",
       "      <td>015</td>\n",
       "      <td>Carroll County, Arkansas</td>\n",
       "      <td>27635</td>\n",
       "    </tr>\n",
       "    <tr>\n",
       "      <th>74</th>\n",
       "      <td>05</td>\n",
       "      <td>119</td>\n",
       "      <td>Pulaski County, Arkansas</td>\n",
       "      <td>390463</td>\n",
       "    </tr>\n",
       "  </tbody>\n",
       "</table>\n",
       "<p>75 rows × 4 columns</p>\n",
       "</div>"
      ],
      "text/plain": [
       "   STATE COUNTY                       NAME  B01001_001E\n",
       "0     05    099    Nevada County, Arkansas         8793\n",
       "1     05    037     Cross County, Arkansas        17467\n",
       "2     05    039    Dallas County, Arkansas         7868\n",
       "3     05    027  Columbia County, Arkansas        24327\n",
       "4     05    125    Saline County, Arkansas       113833\n",
       "..   ...    ...                        ...          ...\n",
       "70    05    095    Monroe County, Arkansas         7713\n",
       "71    05    103  Ouachita County, Arkansas        25044\n",
       "72    05    001  Arkansas County, Arkansas        18731\n",
       "73    05    015   Carroll County, Arkansas        27635\n",
       "74    05    119   Pulaski County, Arkansas       390463\n",
       "\n",
       "[75 rows x 4 columns]"
      ]
     },
     "execution_count": 60,
     "metadata": {},
     "output_type": "execute_result"
    }
   ],
   "source": [
    "df_all_county_censusdis = ced.download(\n",
    "    ACS5,\n",
    "    2015,\n",
    "    [\"NAME\", \"B01001_001E\"],\n",
    "    state=states.AR,\n",
    "    county='*'\n",
    ")\n",
    "\n",
    "df_all_county_censusdis"
   ]
  },
  {
   "cell_type": "markdown",
   "id": "889a0d14-a722-4e53-b2b2-5776ac3e36ad",
   "metadata": {},
   "source": [
    "In order to compare, I want to split out the county from the GEO_ID. "
   ]
  },
  {
   "cell_type": "code",
   "execution_count": 61,
   "id": "4bfc5dba-8216-479c-b354-4ece908d26a6",
   "metadata": {},
   "outputs": [],
   "source": [
    "df_all_county_beta['COUNTY'] = df_all_county_beta['GEO_ID'].str[-3:]"
   ]
  },
  {
   "cell_type": "code",
   "execution_count": 62,
   "id": "2970cc32-dca0-4aa4-9520-86b5acc1e992",
   "metadata": {},
   "outputs": [
    {
     "data": {
      "text/html": [
       "<div>\n",
       "<style scoped>\n",
       "    .dataframe tbody tr th:only-of-type {\n",
       "        vertical-align: middle;\n",
       "    }\n",
       "\n",
       "    .dataframe tbody tr th {\n",
       "        vertical-align: top;\n",
       "    }\n",
       "\n",
       "    .dataframe thead th {\n",
       "        text-align: right;\n",
       "    }\n",
       "</style>\n",
       "<table border=\"1\" class=\"dataframe\">\n",
       "  <thead>\n",
       "    <tr style=\"text-align: right;\">\n",
       "      <th></th>\n",
       "      <th>GEO_ID</th>\n",
       "      <th>NAME</th>\n",
       "      <th>B01001_001E</th>\n",
       "      <th>COUNTY</th>\n",
       "    </tr>\n",
       "  </thead>\n",
       "  <tbody>\n",
       "    <tr>\n",
       "      <th>0</th>\n",
       "      <td>0500000US05001</td>\n",
       "      <td>Arkansas County, Arkansas</td>\n",
       "      <td>18731</td>\n",
       "      <td>001</td>\n",
       "    </tr>\n",
       "    <tr>\n",
       "      <th>1</th>\n",
       "      <td>0500000US05003</td>\n",
       "      <td>Ashley County, Arkansas</td>\n",
       "      <td>21229</td>\n",
       "      <td>003</td>\n",
       "    </tr>\n",
       "    <tr>\n",
       "      <th>2</th>\n",
       "      <td>0500000US05005</td>\n",
       "      <td>Baxter County, Arkansas</td>\n",
       "      <td>41040</td>\n",
       "      <td>005</td>\n",
       "    </tr>\n",
       "    <tr>\n",
       "      <th>3</th>\n",
       "      <td>0500000US05007</td>\n",
       "      <td>Benton County, Arkansas</td>\n",
       "      <td>238198</td>\n",
       "      <td>007</td>\n",
       "    </tr>\n",
       "    <tr>\n",
       "      <th>4</th>\n",
       "      <td>0500000US05009</td>\n",
       "      <td>Boone County, Arkansas</td>\n",
       "      <td>37227</td>\n",
       "      <td>009</td>\n",
       "    </tr>\n",
       "  </tbody>\n",
       "</table>\n",
       "</div>"
      ],
      "text/plain": [
       "           GEO_ID                       NAME  B01001_001E COUNTY\n",
       "0  0500000US05001  Arkansas County, Arkansas        18731    001\n",
       "1  0500000US05003    Ashley County, Arkansas        21229    003\n",
       "2  0500000US05005    Baxter County, Arkansas        41040    005\n",
       "3  0500000US05007    Benton County, Arkansas       238198    007\n",
       "4  0500000US05009     Boone County, Arkansas        37227    009"
      ]
     },
     "execution_count": 62,
     "metadata": {},
     "output_type": "execute_result"
    }
   ],
   "source": [
    "df_all_county_beta.sort_values(by='COUNTY').head()"
   ]
  },
  {
   "cell_type": "code",
   "execution_count": 63,
   "id": "2a71b803-f2cf-458c-a381-2e47ed4d04da",
   "metadata": {},
   "outputs": [
    {
     "data": {
      "text/html": [
       "<div>\n",
       "<style scoped>\n",
       "    .dataframe tbody tr th:only-of-type {\n",
       "        vertical-align: middle;\n",
       "    }\n",
       "\n",
       "    .dataframe tbody tr th {\n",
       "        vertical-align: top;\n",
       "    }\n",
       "\n",
       "    .dataframe thead th {\n",
       "        text-align: right;\n",
       "    }\n",
       "</style>\n",
       "<table border=\"1\" class=\"dataframe\">\n",
       "  <thead>\n",
       "    <tr style=\"text-align: right;\">\n",
       "      <th></th>\n",
       "      <th>STATE</th>\n",
       "      <th>COUNTY</th>\n",
       "      <th>NAME</th>\n",
       "      <th>B01001_001E</th>\n",
       "    </tr>\n",
       "  </thead>\n",
       "  <tbody>\n",
       "    <tr>\n",
       "      <th>72</th>\n",
       "      <td>05</td>\n",
       "      <td>001</td>\n",
       "      <td>Arkansas County, Arkansas</td>\n",
       "      <td>18731</td>\n",
       "    </tr>\n",
       "    <tr>\n",
       "      <th>38</th>\n",
       "      <td>05</td>\n",
       "      <td>003</td>\n",
       "      <td>Ashley County, Arkansas</td>\n",
       "      <td>21229</td>\n",
       "    </tr>\n",
       "    <tr>\n",
       "      <th>65</th>\n",
       "      <td>05</td>\n",
       "      <td>005</td>\n",
       "      <td>Baxter County, Arkansas</td>\n",
       "      <td>41040</td>\n",
       "    </tr>\n",
       "    <tr>\n",
       "      <th>22</th>\n",
       "      <td>05</td>\n",
       "      <td>007</td>\n",
       "      <td>Benton County, Arkansas</td>\n",
       "      <td>238198</td>\n",
       "    </tr>\n",
       "    <tr>\n",
       "      <th>58</th>\n",
       "      <td>05</td>\n",
       "      <td>009</td>\n",
       "      <td>Boone County, Arkansas</td>\n",
       "      <td>37227</td>\n",
       "    </tr>\n",
       "  </tbody>\n",
       "</table>\n",
       "</div>"
      ],
      "text/plain": [
       "   STATE COUNTY                       NAME  B01001_001E\n",
       "72    05    001  Arkansas County, Arkansas        18731\n",
       "38    05    003    Ashley County, Arkansas        21229\n",
       "65    05    005    Baxter County, Arkansas        41040\n",
       "22    05    007    Benton County, Arkansas       238198\n",
       "58    05    009     Boone County, Arkansas        37227"
      ]
     },
     "execution_count": 63,
     "metadata": {},
     "output_type": "execute_result"
    }
   ],
   "source": [
    "df_all_county_censusdis.sort_values(by='COUNTY').head()"
   ]
  },
  {
   "cell_type": "markdown",
   "id": "c8912b42-4e67-485d-a5d3-dbc2514454af",
   "metadata": {},
   "source": [
    "A cursory view of the first five counties in each result suggests the data is the same."
   ]
  },
  {
   "cell_type": "markdown",
   "id": "d46d9a2a-f49a-4ddc-8ab7-6a475074610f",
   "metadata": {},
   "source": [
    "#### All Metropolitan and Micropolitan Statistical Areas fully/partially within Nebraska\n",
    "\n",
    "This is the kind of query where things start to get really interesting. Metropolitan\n",
    "and micropolitian statistical areas can cross state boundaries. In the data model behind\n",
    "the existing API, there are some cases, like this one, where there are geometries that\n",
    "represent aggregations over the part of a metropolitan or micropolitan statistical area\n",
    "that are within a state. These exist in their own specific summary levels. In this case,\n",
    "the one of interest is \"320\". See https://mcdc.missouri.edu/geography/sumlevs/sumlev-master-list.csv\n",
    "for details.\n",
    "\n",
    "The interesting question is, does the example from the documentation turn the outer state\n",
    "level and inner summary level into the 320 part of the hierarchy, and do its query there? \n",
    "Or does it simply report aggregate data over the entire CBSA for each CBSA that happens\n",
    "to intersect the state at all? Some of them barely intersect the state so the data you\n",
    "get in this way may not be what you really want.\n",
    "\n",
    "Let's try it out."
   ]
  },
  {
   "cell_type": "code",
   "execution_count": 64,
   "id": "fd5cfe07-0945-42d2-b65f-9b21ac5b9449",
   "metadata": {},
   "outputs": [
    {
     "data": {
      "text/plain": [
       "'0400000US31$3100000'"
      ]
     },
     "execution_count": 64,
     "metadata": {},
     "output_type": "execute_result"
    }
   ],
   "source": [
    "geo_id_state_cbsa = f\"{SUMMARY_LEVEL_STATE}0000US{states.NE}${SUMMARY_LEVEL_CBSA}0000\"\n",
    "\n",
    "geo_id_state_cbsa"
   ]
  },
  {
   "cell_type": "code",
   "execution_count": 65,
   "id": "035bf775-82f2-4ee8-a2aa-2f1840597fff",
   "metadata": {},
   "outputs": [],
   "source": [
    "state_cbsa_response = requests.post(\n",
    "    TABLE_URL, \n",
    "    headers=headers, \n",
    "    json={\n",
    "        \"tables\": [\n",
    "            {\n",
    "                \"id\": \"ACSDT5Y2015.B01001\",\n",
    "                \"geoIds\": [geo_id_state_cbsa],\n",
    "                \"columns\": [\"GEO_ID\", \"NAME\", \"B01001_001E\"]\n",
    "            }\n",
    "        ]\n",
    "    }\n",
    ")"
   ]
  },
  {
   "cell_type": "code",
   "execution_count": 66,
   "id": "8d43c3cb-a438-4db0-913f-0812812a2e02",
   "metadata": {},
   "outputs": [
    {
     "data": {
      "text/plain": [
       "200"
      ]
     },
     "execution_count": 66,
     "metadata": {},
     "output_type": "execute_result"
    }
   ],
   "source": [
    "state_cbsa_response.status_code"
   ]
  },
  {
   "cell_type": "code",
   "execution_count": 67,
   "id": "1df3e114-6e40-44ad-beda-9a2722f0c678",
   "metadata": {},
   "outputs": [],
   "source": [
    "state_cbsa_data = state_cbsa_response.json()['content']['tables'][0]['data']"
   ]
  },
  {
   "cell_type": "code",
   "execution_count": 68,
   "id": "6d4c2919-377f-43f9-8478-0bd1168cac9c",
   "metadata": {},
   "outputs": [
    {
     "data": {
      "text/html": [
       "<div>\n",
       "<style scoped>\n",
       "    .dataframe tbody tr th:only-of-type {\n",
       "        vertical-align: middle;\n",
       "    }\n",
       "\n",
       "    .dataframe tbody tr th {\n",
       "        vertical-align: top;\n",
       "    }\n",
       "\n",
       "    .dataframe thead th {\n",
       "        text-align: right;\n",
       "    }\n",
       "</style>\n",
       "<table border=\"1\" class=\"dataframe\">\n",
       "  <thead>\n",
       "    <tr style=\"text-align: right;\">\n",
       "      <th></th>\n",
       "      <th>GEO_ID</th>\n",
       "      <th>NAME</th>\n",
       "      <th>B01001_001E</th>\n",
       "    </tr>\n",
       "  </thead>\n",
       "  <tbody>\n",
       "    <tr>\n",
       "      <th>0</th>\n",
       "      <td>310M200US13100</td>\n",
       "      <td>Beatrice, NE Micro Area</td>\n",
       "      <td>21818</td>\n",
       "    </tr>\n",
       "    <tr>\n",
       "      <th>1</th>\n",
       "      <td>310M200US18100</td>\n",
       "      <td>Columbus, NE Micro Area</td>\n",
       "      <td>32642</td>\n",
       "    </tr>\n",
       "    <tr>\n",
       "      <th>2</th>\n",
       "      <td>310M200US23340</td>\n",
       "      <td>Fremont, NE Micro Area</td>\n",
       "      <td>36725</td>\n",
       "    </tr>\n",
       "    <tr>\n",
       "      <th>3</th>\n",
       "      <td>310M200US24260</td>\n",
       "      <td>Grand Island, NE Metro Area</td>\n",
       "      <td>84015</td>\n",
       "    </tr>\n",
       "    <tr>\n",
       "      <th>4</th>\n",
       "      <td>310M200US25580</td>\n",
       "      <td>Hastings, NE Micro Area</td>\n",
       "      <td>31442</td>\n",
       "    </tr>\n",
       "    <tr>\n",
       "      <th>5</th>\n",
       "      <td>310M200US28260</td>\n",
       "      <td>Kearney, NE Micro Area</td>\n",
       "      <td>54507</td>\n",
       "    </tr>\n",
       "    <tr>\n",
       "      <th>6</th>\n",
       "      <td>310M200US30420</td>\n",
       "      <td>Lexington, NE Micro Area</td>\n",
       "      <td>26045</td>\n",
       "    </tr>\n",
       "    <tr>\n",
       "      <th>7</th>\n",
       "      <td>310M200US30700</td>\n",
       "      <td>Lincoln, NE Metro Area</td>\n",
       "      <td>315078</td>\n",
       "    </tr>\n",
       "    <tr>\n",
       "      <th>8</th>\n",
       "      <td>310M200US35740</td>\n",
       "      <td>Norfolk, NE Micro Area</td>\n",
       "      <td>48376</td>\n",
       "    </tr>\n",
       "    <tr>\n",
       "      <th>9</th>\n",
       "      <td>310M200US35820</td>\n",
       "      <td>North Platte, NE Micro Area</td>\n",
       "      <td>37180</td>\n",
       "    </tr>\n",
       "    <tr>\n",
       "      <th>10</th>\n",
       "      <td>310M200US36540</td>\n",
       "      <td>Omaha-Council Bluffs, NE-IA Metro Area</td>\n",
       "      <td>895919</td>\n",
       "    </tr>\n",
       "    <tr>\n",
       "      <th>11</th>\n",
       "      <td>310M200US42420</td>\n",
       "      <td>Scottsbluff, NE Micro Area</td>\n",
       "      <td>38753</td>\n",
       "    </tr>\n",
       "    <tr>\n",
       "      <th>12</th>\n",
       "      <td>310M200US43580</td>\n",
       "      <td>Sioux City, IA-NE-SD Metro Area</td>\n",
       "      <td>168889</td>\n",
       "    </tr>\n",
       "  </tbody>\n",
       "</table>\n",
       "</div>"
      ],
      "text/plain": [
       "            GEO_ID                                    NAME  B01001_001E\n",
       "0   310M200US13100                 Beatrice, NE Micro Area        21818\n",
       "1   310M200US18100                 Columbus, NE Micro Area        32642\n",
       "2   310M200US23340                  Fremont, NE Micro Area        36725\n",
       "3   310M200US24260             Grand Island, NE Metro Area        84015\n",
       "4   310M200US25580                 Hastings, NE Micro Area        31442\n",
       "5   310M200US28260                  Kearney, NE Micro Area        54507\n",
       "6   310M200US30420                Lexington, NE Micro Area        26045\n",
       "7   310M200US30700                  Lincoln, NE Metro Area       315078\n",
       "8   310M200US35740                  Norfolk, NE Micro Area        48376\n",
       "9   310M200US35820             North Platte, NE Micro Area        37180\n",
       "10  310M200US36540  Omaha-Council Bluffs, NE-IA Metro Area       895919\n",
       "11  310M200US42420              Scottsbluff, NE Micro Area        38753\n",
       "12  310M200US43580         Sioux City, IA-NE-SD Metro Area       168889"
      ]
     },
     "execution_count": 68,
     "metadata": {},
     "output_type": "execute_result"
    }
   ],
   "source": [
    "df_state_cbsa_beta = pd.DataFrame(state_cbsa_data['rows'])\n",
    "df_state_cbsa_beta"
   ]
  },
  {
   "cell_type": "markdown",
   "id": "2d439875-3664-4251-85dd-433380678947",
   "metadata": {},
   "source": [
    "The first clue that something is up is that the `GEO_ID`s don't start with `\"320\"`. \n",
    "They start with `\"310\"`, which is the summary level for CBSAs, not states and\n",
    "CBSAs or parts. The second clue is that the two rows for CBSAs that do cross state\n",
    "lines, \"Omaha-Council Bluffs, NE-IA Metro Area\" and \"Sioux City, IA-NE-SD Metro Area\",\n",
    "don't have \"part\" in their names. So it appears that what happened is that\n",
    "we are reporting aggregates over those entire CBSAs, not just the parts that happen\n",
    "to intersect Nebraska.\n",
    "\n",
    "Let's compare this to the result we get when we implicitly use summary level 320\n",
    "with the non-string API in `censusdis`."
   ]
  },
  {
   "cell_type": "code",
   "execution_count": 69,
   "id": "e44a96b2-68d7-498e-8498-d3b55f2e5bc0",
   "metadata": {},
   "outputs": [
    {
     "data": {
      "text/html": [
       "<div>\n",
       "<style scoped>\n",
       "    .dataframe tbody tr th:only-of-type {\n",
       "        vertical-align: middle;\n",
       "    }\n",
       "\n",
       "    .dataframe tbody tr th {\n",
       "        vertical-align: top;\n",
       "    }\n",
       "\n",
       "    .dataframe thead th {\n",
       "        text-align: right;\n",
       "    }\n",
       "</style>\n",
       "<table border=\"1\" class=\"dataframe\">\n",
       "  <thead>\n",
       "    <tr style=\"text-align: right;\">\n",
       "      <th></th>\n",
       "      <th>STATE</th>\n",
       "      <th>METROPOLITAN_STATISTICAL_AREA_MICROPOLITAN_STATISTICAL_AREA_OR_PART</th>\n",
       "      <th>NAME</th>\n",
       "      <th>B01001_001E</th>\n",
       "    </tr>\n",
       "  </thead>\n",
       "  <tbody>\n",
       "    <tr>\n",
       "      <th>0</th>\n",
       "      <td>31</td>\n",
       "      <td>35820</td>\n",
       "      <td>North Platte, NE Micro Area; Nebraska</td>\n",
       "      <td>37180</td>\n",
       "    </tr>\n",
       "    <tr>\n",
       "      <th>1</th>\n",
       "      <td>31</td>\n",
       "      <td>43580</td>\n",
       "      <td>Sioux City, IA-NE-SD Metro Area (part); Nebraska</td>\n",
       "      <td>26664</td>\n",
       "    </tr>\n",
       "    <tr>\n",
       "      <th>2</th>\n",
       "      <td>31</td>\n",
       "      <td>23340</td>\n",
       "      <td>Fremont, NE Micro Area; Nebraska</td>\n",
       "      <td>36725</td>\n",
       "    </tr>\n",
       "    <tr>\n",
       "      <th>3</th>\n",
       "      <td>31</td>\n",
       "      <td>25580</td>\n",
       "      <td>Hastings, NE Micro Area; Nebraska</td>\n",
       "      <td>31442</td>\n",
       "    </tr>\n",
       "    <tr>\n",
       "      <th>4</th>\n",
       "      <td>31</td>\n",
       "      <td>30700</td>\n",
       "      <td>Lincoln, NE Metro Area; Nebraska</td>\n",
       "      <td>315078</td>\n",
       "    </tr>\n",
       "    <tr>\n",
       "      <th>5</th>\n",
       "      <td>31</td>\n",
       "      <td>35740</td>\n",
       "      <td>Norfolk, NE Micro Area; Nebraska</td>\n",
       "      <td>48376</td>\n",
       "    </tr>\n",
       "    <tr>\n",
       "      <th>6</th>\n",
       "      <td>31</td>\n",
       "      <td>36540</td>\n",
       "      <td>Omaha-Council Bluffs, NE-IA Metro Area (part);...</td>\n",
       "      <td>773377</td>\n",
       "    </tr>\n",
       "    <tr>\n",
       "      <th>7</th>\n",
       "      <td>31</td>\n",
       "      <td>42420</td>\n",
       "      <td>Scottsbluff, NE Micro Area; Nebraska</td>\n",
       "      <td>38753</td>\n",
       "    </tr>\n",
       "    <tr>\n",
       "      <th>8</th>\n",
       "      <td>31</td>\n",
       "      <td>13100</td>\n",
       "      <td>Beatrice, NE Micro Area; Nebraska</td>\n",
       "      <td>21818</td>\n",
       "    </tr>\n",
       "    <tr>\n",
       "      <th>9</th>\n",
       "      <td>31</td>\n",
       "      <td>18100</td>\n",
       "      <td>Columbus, NE Micro Area; Nebraska</td>\n",
       "      <td>32642</td>\n",
       "    </tr>\n",
       "    <tr>\n",
       "      <th>10</th>\n",
       "      <td>31</td>\n",
       "      <td>24260</td>\n",
       "      <td>Grand Island, NE Metro Area; Nebraska</td>\n",
       "      <td>84015</td>\n",
       "    </tr>\n",
       "    <tr>\n",
       "      <th>11</th>\n",
       "      <td>31</td>\n",
       "      <td>28260</td>\n",
       "      <td>Kearney, NE Micro Area; Nebraska</td>\n",
       "      <td>54507</td>\n",
       "    </tr>\n",
       "    <tr>\n",
       "      <th>12</th>\n",
       "      <td>31</td>\n",
       "      <td>30420</td>\n",
       "      <td>Lexington, NE Micro Area; Nebraska</td>\n",
       "      <td>26045</td>\n",
       "    </tr>\n",
       "  </tbody>\n",
       "</table>\n",
       "</div>"
      ],
      "text/plain": [
       "   STATE METROPOLITAN_STATISTICAL_AREA_MICROPOLITAN_STATISTICAL_AREA_OR_PART  \\\n",
       "0     31                                              35820                    \n",
       "1     31                                              43580                    \n",
       "2     31                                              23340                    \n",
       "3     31                                              25580                    \n",
       "4     31                                              30700                    \n",
       "5     31                                              35740                    \n",
       "6     31                                              36540                    \n",
       "7     31                                              42420                    \n",
       "8     31                                              13100                    \n",
       "9     31                                              18100                    \n",
       "10    31                                              24260                    \n",
       "11    31                                              28260                    \n",
       "12    31                                              30420                    \n",
       "\n",
       "                                                 NAME  B01001_001E  \n",
       "0               North Platte, NE Micro Area; Nebraska        37180  \n",
       "1    Sioux City, IA-NE-SD Metro Area (part); Nebraska        26664  \n",
       "2                    Fremont, NE Micro Area; Nebraska        36725  \n",
       "3                   Hastings, NE Micro Area; Nebraska        31442  \n",
       "4                    Lincoln, NE Metro Area; Nebraska       315078  \n",
       "5                    Norfolk, NE Micro Area; Nebraska        48376  \n",
       "6   Omaha-Council Bluffs, NE-IA Metro Area (part);...       773377  \n",
       "7                Scottsbluff, NE Micro Area; Nebraska        38753  \n",
       "8                   Beatrice, NE Micro Area; Nebraska        21818  \n",
       "9                   Columbus, NE Micro Area; Nebraska        32642  \n",
       "10              Grand Island, NE Metro Area; Nebraska        84015  \n",
       "11                   Kearney, NE Micro Area; Nebraska        54507  \n",
       "12                 Lexington, NE Micro Area; Nebraska        26045  "
      ]
     },
     "execution_count": 69,
     "metadata": {},
     "output_type": "execute_result"
    }
   ],
   "source": [
    "df_state_cbsa_or_part_censusdis = ced.download(\n",
    "    ACS5,\n",
    "    2015,\n",
    "    [\"NAME\", \"B01001_001E\"],\n",
    "    state=states.NE,\n",
    "    metropolitan_statistical_area_micropolitan_statistical_area_or_part='*'\n",
    ")\n",
    "\n",
    "df_state_cbsa_or_part_censusdis"
   ]
  },
  {
   "cell_type": "markdown",
   "id": "1575b6cf-cdba-4c7c-b2cc-83f2fa792f1b",
   "metadata": {},
   "source": [
    "Notice that this time, the two metro areas that cross state lines have \"(part)\" in their names and their values for `B01001_001E`\n",
    "are lower because they cover only the Nebraska part of the CBSA.\n",
    "\n",
    "If we want the CBSAs that intersect Nebraska at all, we can do a different style of query in `censusdis`. This API, the reason it exists,\n",
    "and the approach behind it are all discussed in detail \n",
    "[here](https://github.com/censusdis/censusdis-tutorial-2024/blob/main/Lessons/Lesson%205%20Advanced%20Geography.ipynb)\n",
    "and [here](https://github.com/censusdis/censusdis/blob/main/notebooks/Block%20Groups%20in%20CBSAs.ipynb)."
   ]
  },
  {
   "cell_type": "code",
   "execution_count": 70,
   "id": "b6243d7b-3b7b-42ac-a994-44a6bdac8954",
   "metadata": {},
   "outputs": [],
   "source": [
    "df_state_cbsa_intersects_censusdis = ced.contained_within(\n",
    "    state=states.NE,\n",
    "    area_threshold=0.01\n",
    ").download(\n",
    "    ACS5,\n",
    "    2015,\n",
    "    [\"NAME\", \"B01001_001E\"],\n",
    "    metropolitan_statistical_area_micropolitan_statistical_area='*'\n",
    ")"
   ]
  },
  {
   "cell_type": "code",
   "execution_count": 71,
   "id": "7d304296-5a19-45d0-ac81-06c7ee3c17f1",
   "metadata": {},
   "outputs": [
    {
     "data": {
      "text/html": [
       "<div>\n",
       "<style scoped>\n",
       "    .dataframe tbody tr th:only-of-type {\n",
       "        vertical-align: middle;\n",
       "    }\n",
       "\n",
       "    .dataframe tbody tr th {\n",
       "        vertical-align: top;\n",
       "    }\n",
       "\n",
       "    .dataframe thead th {\n",
       "        text-align: right;\n",
       "    }\n",
       "</style>\n",
       "<table border=\"1\" class=\"dataframe\">\n",
       "  <thead>\n",
       "    <tr style=\"text-align: right;\">\n",
       "      <th></th>\n",
       "      <th>STATE</th>\n",
       "      <th>METROPOLITAN_STATISTICAL_AREA_MICROPOLITAN_STATISTICAL_AREA</th>\n",
       "      <th>NAME</th>\n",
       "      <th>B01001_001E</th>\n",
       "    </tr>\n",
       "  </thead>\n",
       "  <tbody>\n",
       "    <tr>\n",
       "      <th>0</th>\n",
       "      <td>31</td>\n",
       "      <td>18100</td>\n",
       "      <td>Columbus, NE Micro Area</td>\n",
       "      <td>32642</td>\n",
       "    </tr>\n",
       "    <tr>\n",
       "      <th>1</th>\n",
       "      <td>31</td>\n",
       "      <td>23340</td>\n",
       "      <td>Fremont, NE Micro Area</td>\n",
       "      <td>36725</td>\n",
       "    </tr>\n",
       "    <tr>\n",
       "      <th>2</th>\n",
       "      <td>31</td>\n",
       "      <td>24260</td>\n",
       "      <td>Grand Island, NE Metro Area</td>\n",
       "      <td>84015</td>\n",
       "    </tr>\n",
       "    <tr>\n",
       "      <th>3</th>\n",
       "      <td>31</td>\n",
       "      <td>25580</td>\n",
       "      <td>Hastings, NE Micro Area</td>\n",
       "      <td>31442</td>\n",
       "    </tr>\n",
       "    <tr>\n",
       "      <th>4</th>\n",
       "      <td>31</td>\n",
       "      <td>13100</td>\n",
       "      <td>Beatrice, NE Micro Area</td>\n",
       "      <td>21818</td>\n",
       "    </tr>\n",
       "    <tr>\n",
       "      <th>5</th>\n",
       "      <td>31</td>\n",
       "      <td>35740</td>\n",
       "      <td>Norfolk, NE Micro Area</td>\n",
       "      <td>48376</td>\n",
       "    </tr>\n",
       "    <tr>\n",
       "      <th>6</th>\n",
       "      <td>31</td>\n",
       "      <td>35820</td>\n",
       "      <td>North Platte, NE Micro Area</td>\n",
       "      <td>37180</td>\n",
       "    </tr>\n",
       "    <tr>\n",
       "      <th>7</th>\n",
       "      <td>31</td>\n",
       "      <td>36540</td>\n",
       "      <td>Omaha-Council Bluffs, NE-IA Metro Area</td>\n",
       "      <td>895919</td>\n",
       "    </tr>\n",
       "    <tr>\n",
       "      <th>8</th>\n",
       "      <td>31</td>\n",
       "      <td>42420</td>\n",
       "      <td>Scottsbluff, NE Micro Area</td>\n",
       "      <td>38753</td>\n",
       "    </tr>\n",
       "    <tr>\n",
       "      <th>9</th>\n",
       "      <td>31</td>\n",
       "      <td>43580</td>\n",
       "      <td>Sioux City, IA-NE-SD Metro Area</td>\n",
       "      <td>168889</td>\n",
       "    </tr>\n",
       "    <tr>\n",
       "      <th>10</th>\n",
       "      <td>31</td>\n",
       "      <td>28260</td>\n",
       "      <td>Kearney, NE Micro Area</td>\n",
       "      <td>54507</td>\n",
       "    </tr>\n",
       "    <tr>\n",
       "      <th>11</th>\n",
       "      <td>31</td>\n",
       "      <td>30420</td>\n",
       "      <td>Lexington, NE Micro Area</td>\n",
       "      <td>26045</td>\n",
       "    </tr>\n",
       "    <tr>\n",
       "      <th>12</th>\n",
       "      <td>31</td>\n",
       "      <td>30700</td>\n",
       "      <td>Lincoln, NE Metro Area</td>\n",
       "      <td>315078</td>\n",
       "    </tr>\n",
       "  </tbody>\n",
       "</table>\n",
       "</div>"
      ],
      "text/plain": [
       "   STATE METROPOLITAN_STATISTICAL_AREA_MICROPOLITAN_STATISTICAL_AREA  \\\n",
       "0     31                                              18100            \n",
       "1     31                                              23340            \n",
       "2     31                                              24260            \n",
       "3     31                                              25580            \n",
       "4     31                                              13100            \n",
       "5     31                                              35740            \n",
       "6     31                                              35820            \n",
       "7     31                                              36540            \n",
       "8     31                                              42420            \n",
       "9     31                                              43580            \n",
       "10    31                                              28260            \n",
       "11    31                                              30420            \n",
       "12    31                                              30700            \n",
       "\n",
       "                                      NAME  B01001_001E  \n",
       "0                  Columbus, NE Micro Area        32642  \n",
       "1                   Fremont, NE Micro Area        36725  \n",
       "2              Grand Island, NE Metro Area        84015  \n",
       "3                  Hastings, NE Micro Area        31442  \n",
       "4                  Beatrice, NE Micro Area        21818  \n",
       "5                   Norfolk, NE Micro Area        48376  \n",
       "6              North Platte, NE Micro Area        37180  \n",
       "7   Omaha-Council Bluffs, NE-IA Metro Area       895919  \n",
       "8               Scottsbluff, NE Micro Area        38753  \n",
       "9          Sioux City, IA-NE-SD Metro Area       168889  \n",
       "10                  Kearney, NE Micro Area        54507  \n",
       "11                Lexington, NE Micro Area        26045  \n",
       "12                  Lincoln, NE Metro Area       315078  "
      ]
     },
     "execution_count": 71,
     "metadata": {},
     "output_type": "execute_result"
    }
   ],
   "source": [
    "df_state_cbsa_intersects_censusdis"
   ]
  },
  {
   "cell_type": "markdown",
   "id": "7ab13273-f6a1-4851-b821-f60eee719622",
   "metadata": {},
   "source": [
    "So it does appear that the beta API is not using the part approach, but is rather using the intersection approach.\n",
    "\n",
    "I think it is important that the documentation be very clear about this. API users very commonly ask for things that\n",
    "are technically at odds with the underlying data model, like all zip code tabulation areas in a city. For reasons\n",
    "explained [here](https://github.com/censusdis/censusdis-tutorial-2024/blob/main/Lessons/Lesson%205%20Advanced%20Geography.ipynb)\n",
    "we have to be quite careful when we take this approach.\n",
    "\n",
    "To put a final pin in this conversation, let's look at a map."
   ]
  },
  {
   "cell_type": "code",
   "execution_count": 72,
   "id": "f184e31f-1d2b-432a-a4e3-dc952c92fa32",
   "metadata": {},
   "outputs": [],
   "source": [
    "# Get a plottable map of Nebraska.\n",
    "gdf_ne = ced.download(\n",
    "    ACS5,\n",
    "    2015,\n",
    "    ['NAME'],\n",
    "    state=states.NE,\n",
    "    with_geometry=True\n",
    ")\n",
    "\n",
    "# Get plottable versions of the intersecting CBSAs.\n",
    "gdf_ne_cbsa_intersects = ced.contained_within(\n",
    "    # This is the containing geography.\n",
    "    state=states.NE,\n",
    "    # Normally this is much higher (the default is 0.8),\n",
    "    # but here we want any non-zero area intersection, \n",
    "    # so we set it very low.\n",
    "    area_threshold=0.01\n",
    ").download(\n",
    "    ACS5,\n",
    "    2015,\n",
    "    [\"NAME\", \"B01001_001E\"],\n",
    "    # This is the inner geography we want to intersect.\n",
    "    metropolitan_statistical_area_micropolitan_statistical_area='*',\n",
    "\n",
    "    # This just says get maps we can plot.\n",
    "    with_geometry=True\n",
    ")"
   ]
  },
  {
   "cell_type": "code",
   "execution_count": 73,
   "id": "3f679866-2889-485d-8092-d3edef18bc37",
   "metadata": {},
   "outputs": [
    {
     "data": {
      "image/png": "[encoded data removed]",
      "text/plain": [
       "<Figure size 1000x500 with 1 Axes>"
      ]
     },
     "metadata": {},
     "output_type": "display_data"
    }
   ],
   "source": [
    "import censusdis.maps as cem\n",
    "\n",
    "ax = cem.plot_map(\n",
    "    gdf_ne_cbsa_intersects.boundary,\n",
    "    color='red',\n",
    "    with_background=True,\n",
    "    figsize=(10, 5)\n",
    ")\n",
    "\n",
    "ax = cem.plot_map(\n",
    "    gdf_ne,\n",
    "    color='yellow',\n",
    "    edgecolor='black',\n",
    "    linewidth=2,\n",
    "    alpha=0.25,\n",
    "    ax=ax\n",
    ")\n",
    "\n",
    "ax.set_title(\"CBSAs that Intersect Nebraska\");"
   ]
  },
  {
   "cell_type": "markdown",
   "id": "26bc143a-c027-44da-8053-db55525a9098",
   "metadata": {},
   "source": [
    "The map makes it clear that what the CBSAs that intersect Nebraska look like. This is what the beta API\n",
    "returns and aggregates over. The documentation should make it very clear that this is what the geoIds\n",
    "that have the $ in the middle do, so as not to confuse users who know that in some cases data \n",
    "aggregated for intersecting parts of geometries is available, as we showed above.\n",
    "\n",
    "The \"All ZIP Code Tabulation Areas (ZCTAs) fully/partially within New Hampshire\" example in the docs has\n",
    "a similar character to this one, combining on and off-spine geographies. The other examples are all\n",
    "on-spine so they don't have the same part vs. whole ambiguity."
   ]
  },
  {
   "cell_type": "markdown",
   "id": "e38ddb3b-b849-4cea-bb8e-8d6fbbac4ed6",
   "metadata": {},
   "source": [
    "### Variables\n",
    "\n",
    "[link to docs](https://api.census.gov/docs/user-guide/concepts/variables.html)\n",
    "\n",
    "I found this section of the documentation to be very sparse. In particular, what\n",
    "I found missing here, or perhaps in a section of its own, is a description of the\n",
    "construction of the data set and table ids like `\"ACSDT5Y2015.B01001\"` that I used\n",
    "above. It should be of similar depth to the discussion of the construction of geoIds,\n",
    "with a similar number of examples. I found that even as I poked around with the\n",
    "sample queries, it took me a long time to understand enough about how these\n",
    "ids work to be able to construct the ones I used in my queries above."
   ]
  },
  {
   "cell_type": "markdown",
   "id": "750b48fe-3851-494d-8951-d2bb8916b590",
   "metadata": {},
   "source": [
    "### Metadata\n",
    "\n",
    "[link to docs](https://api.census.gov/docs/user-guide/concepts/metadata.html)\n",
    "\n",
    "I do very much like that there is some metadata in this beta API. In the past,\n",
    "I always have to separately get metadata from the simple dataset, group, and\n",
    "variable APIs like \n",
    "\n",
    "- https://api.census.gov/data/2022/acs/acs5.json\n",
    "- https://api.census.gov/data/2022/acs/acs5/groups.json\n",
    "- https://api.census.gov/data/2022/acs/acs5/variables.json\n",
    "- https://api.census.gov/data/2022/acs/acs5/groups/B01003.json,\n",
    "- https://api.census.gov/data/2022/acs/acs5/variables/B01003_001E.json\n",
    "\n",
    "I also think it would be super-nice to have one API that also included\n",
    "the CB and TIGER maps. As you saw in the section above, `censusdis`\n",
    "combines data and maps on the client side so users don't have to think\n",
    "about an entirely different way to download shapefiles, manage them,\n",
    "and merge them with data locally."
   ]
  },
  {
   "cell_type": "markdown",
   "id": "1a8b7fad-c4e2-4eaf-ad5d-d5f6c2729e80",
   "metadata": {},
   "source": [
    "### Time\n",
    "\n",
    "[link to docs](https://api.census.gov/docs/user-guide/concepts/time.html)\n",
    "\n",
    "I like the idea of being able to query across multiple years. I did not try\n",
    "this functionality out how to encode multiple years in table ids, or if that\n",
    "is even an intended use case."
   ]
  },
  {
   "cell_type": "markdown",
   "id": "cb74f737-312e-446d-a043-bb62ce786e46",
   "metadata": {},
   "source": [
    "### Codesets\n",
    "\n",
    "[link to docs](https://api.census.gov/docs/user-guide/concepts/codeset.html)\n",
    "\n",
    "I would like to see better support for navigating the trees of codesets \n",
    "like the NAICS. I don't know if tools for doing so are including in the\n",
    "beta API."
   ]
  },
  {
   "cell_type": "markdown",
   "id": "4f0d5f3d-d309-4990-b607-7a4f69a1a13d",
   "metadata": {},
   "source": [
    "## Conclusions\n",
    "\n",
    "Before I conclude, I would like to humbly offer an alternative vision of an easy to use\n",
    "web API that does not have the issues raied above.\n",
    "\n",
    "### An Alternative Approach\n",
    "\n",
    "Briefly, one alternative I have considered, but not pursued only for lack of funding to\n",
    "operate a server fleet on which to run it, would be to expose the `censusdis` API almost\n",
    "directly to the web. Essentially the style of query you saw above, with keyword-based\n",
    "geography and all the rest would be implemented by accepting the arguments to a call\n",
    "to `ced.download` via JSON, parsing them, validating them, calling `ced.download` to\n",
    "do the work of calling the existing Census APIs, then packing up all the results,\n",
    "map geometry included, and returning it to the caller as JSON, GeoJSON, or a modern\n",
    "format like [Arrow Flight](https://arrow.apache.org/cookbook/py/flight.html). This would \n",
    "not be technically difficult to build. It only lacks for operational funding.\n",
    "\n",
    "A detailed discussion is beyond the scope of this document. However, from the perspective\n",
    "of the average researcher looking for Census data via API, I think this would be a far more \n",
    "compelling design than the faceted beta API offers.\n",
    "\n",
    "### Final Thoughts\n",
    "\n",
    "I have done what I consider a thorough, but not exhaustive, review of the proposed beta API.\n",
    "I approached this from the persectives of researchers and maintainers of client codebases\n",
    "for the current version of the API. \n",
    "\n",
    "I did not find the coding by string construction to be a great option for most users. On the\n",
    "other hand, I did like the move in the direction of including metadata and data in the same\n",
    "API.\n",
    "\n",
    "I think there are large corners of the beta API that I did not dig into. There are a handful\n",
    "of examples of these provided, but there are not detailed descriptions of the underlying \n",
    "approach. I would be especially interested in sequences showing how data sets, tables, and\n",
    "columns are discovered and how table ids are constructed.\n",
    "\n",
    "I would be happy to follow up and review any new materials that address these issues."
   ]
  },
  {
   "cell_type": "code",
   "execution_count": null,
   "id": "b464acec-d6a6-42aa-8b90-819f5215e008",
   "metadata": {},
   "outputs": [],
   "source": []
  }
 ],
 "metadata": {
  "kernelspec": {
   "display_name": "Python 3 (ipykernel)",
   "language": "python",
   "name": "python3"
  },
  "language_info": {
   "codemirror_mode": {
    "name": "ipython",
    "version": 3
   },
   "file_extension": ".py",
   "mimetype": "text/x-python",
   "name": "python",
   "nbconvert_exporter": "python",
   "pygments_lexer": "ipython3",
   "version": "3.9.10"
  }
 },
 "nbformat": 4,
 "nbformat_minor": 5
}
