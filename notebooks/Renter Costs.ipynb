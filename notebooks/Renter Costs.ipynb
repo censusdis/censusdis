{
 "cells": [
  {
   "cell_type": "markdown",
   "id": "a1c7805c-4707-4314-9db6-0add7163f444",
   "metadata": {},
   "source": [
    "# ACS1 Renter Costs Demo"
   ]
  },
  {
   "cell_type": "markdown",
   "id": "65b67c27-0bbf-41eb-8546-a28c9eb3a1f3",
   "metadata": {},
   "source": [
    "## Introduction\n",
    "\n",
    "This notebook was inspired by an [issue](https://github.com/jtleider/censusdata/issues/46) asking about the availability\n",
    "of the renter cost data shown at [this URL](https://data.census.gov/table?q=Renter+Costs&g=0100000US$04000$001_040XX00US01&y=2022).\n",
    "The specific data shown there is from group [B25031](https://api.census.gov/data/2022/acs/acs1/groups/B25031.html) for the state of Alabama.\n",
    "\n",
    "This notebook demonstates how to obtain that data using `censusdis`."
   ]
  },
  {
   "cell_type": "markdown",
   "id": "f8fa9615-2960-4e13-a7f6-87b929be0b82",
   "metadata": {},
   "source": [
    "## Imports and configuration"
   ]
  },
  {
   "cell_type": "code",
   "execution_count": 1,
   "id": "4551f551-c1d2-4b8c-8442-a5bbe9dcb365",
   "metadata": {
    "jupyter": {
     "source_hidden": true
    },
    "tags": []
   },
   "outputs": [],
   "source": [
    "# So we can run from within the censusdis project and find the packages we need.\n",
    "import os\n",
    "import sys\n",
    "\n",
    "sys.path.append(\n",
    "    os.path.join(os.path.abspath(os.path.join(os.path.curdir, os.path.pardir)))\n",
    ")"
   ]
  },
  {
   "cell_type": "code",
   "execution_count": 2,
   "id": "499f3f4f-0c8a-4467-891a-f4baef988834",
   "metadata": {
    "tags": []
   },
   "outputs": [],
   "source": [
    "import censusdis.data as ced\n",
    "from censusdis.datasets import ACS1\n",
    "from censusdis.states import AL"
   ]
  },
  {
   "cell_type": "code",
   "execution_count": 3,
   "id": "2e54befd-5437-4d6d-a5e1-a43c02187de7",
   "metadata": {},
   "outputs": [],
   "source": [
    "# Set your API key here.\n",
    "CENSUS_API_KEY = None"
   ]
  },
  {
   "cell_type": "code",
   "execution_count": 4,
   "id": "092d1cd3-9f7d-47a9-926c-a0781eb0d4fe",
   "metadata": {},
   "outputs": [],
   "source": [
    "YEAR = 2022"
   ]
  },
  {
   "cell_type": "code",
   "execution_count": 5,
   "id": "1198e91f-279f-48ca-8b8f-8ec2af998576",
   "metadata": {},
   "outputs": [],
   "source": [
    "GROUP = \"B25031\""
   ]
  },
  {
   "cell_type": "markdown",
   "id": "66318728-e583-4b24-af25-2ad3b0a32913",
   "metadata": {},
   "source": [
    "## Download the data"
   ]
  },
  {
   "cell_type": "code",
   "execution_count": 6,
   "id": "4c918029-a183-40cc-92d3-4d833ac59f40",
   "metadata": {
    "tags": []
   },
   "outputs": [],
   "source": [
    "df = ced.download(ACS1, YEAR, group=GROUP, state=AL)"
   ]
  },
  {
   "cell_type": "code",
   "execution_count": 7,
   "id": "2db98ce4-53b6-40a2-9dc4-7c932442788d",
   "metadata": {},
   "outputs": [
    {
     "data": {
      "text/html": [
       "<div>\n",
       "<style scoped>\n",
       "    .dataframe tbody tr th:only-of-type {\n",
       "        vertical-align: middle;\n",
       "    }\n",
       "\n",
       "    .dataframe tbody tr th {\n",
       "        vertical-align: top;\n",
       "    }\n",
       "\n",
       "    .dataframe thead th {\n",
       "        text-align: right;\n",
       "    }\n",
       "</style>\n",
       "<table border=\"1\" class=\"dataframe\">\n",
       "  <thead>\n",
       "    <tr style=\"text-align: right;\">\n",
       "      <th></th>\n",
       "      <th>STATE</th>\n",
       "      <th>B25031_001E</th>\n",
       "      <th>B25031_002E</th>\n",
       "      <th>B25031_003E</th>\n",
       "      <th>B25031_004E</th>\n",
       "      <th>B25031_005E</th>\n",
       "      <th>B25031_006E</th>\n",
       "      <th>B25031_007E</th>\n",
       "    </tr>\n",
       "  </thead>\n",
       "  <tbody>\n",
       "    <tr>\n",
       "      <th>0</th>\n",
       "      <td>01</td>\n",
       "      <td>913</td>\n",
       "      <td>749</td>\n",
       "      <td>783</td>\n",
       "      <td>846</td>\n",
       "      <td>1065</td>\n",
       "      <td>1146</td>\n",
       "      <td>1076</td>\n",
       "    </tr>\n",
       "  </tbody>\n",
       "</table>\n",
       "</div>"
      ],
      "text/plain": [
       "  STATE  B25031_001E  B25031_002E  B25031_003E  B25031_004E  B25031_005E  \\\n",
       "0    01          913          749          783          846         1065   \n",
       "\n",
       "   B25031_006E  B25031_007E  \n",
       "0         1146         1076  "
      ]
     },
     "execution_count": 7,
     "metadata": {},
     "output_type": "execute_result"
    }
   ],
   "source": [
    "df"
   ]
  },
  {
   "cell_type": "markdown",
   "id": "f3494078-a9c2-4384-8c12-17775325f809",
   "metadata": {},
   "source": [
    "## What are the variables in the group?\n",
    "\n",
    "We can look up their labels to see what each column corresponds to, in case we are not \n",
    "familar with the group from e.g. the URL https://api.census.gov/data/2022/acs/acs1/groups/B25031.html."
   ]
  },
  {
   "cell_type": "code",
   "execution_count": 8,
   "id": "1e3d4f34-c042-4626-b2da-383450bbe000",
   "metadata": {},
   "outputs": [
    {
     "data": {
      "text/html": [
       "<div>\n",
       "<style scoped>\n",
       "    .dataframe tbody tr th:only-of-type {\n",
       "        vertical-align: middle;\n",
       "    }\n",
       "\n",
       "    .dataframe tbody tr th {\n",
       "        vertical-align: top;\n",
       "    }\n",
       "\n",
       "    .dataframe thead th {\n",
       "        text-align: right;\n",
       "    }\n",
       "</style>\n",
       "<table border=\"1\" class=\"dataframe\">\n",
       "  <thead>\n",
       "    <tr style=\"text-align: right;\">\n",
       "      <th></th>\n",
       "      <th>YEAR</th>\n",
       "      <th>DATASET</th>\n",
       "      <th>GROUP</th>\n",
       "      <th>VARIABLE</th>\n",
       "      <th>LABEL</th>\n",
       "      <th>SUGGESTED_WEIGHT</th>\n",
       "      <th>VALUES</th>\n",
       "    </tr>\n",
       "  </thead>\n",
       "  <tbody>\n",
       "    <tr>\n",
       "      <th>0</th>\n",
       "      <td>2022</td>\n",
       "      <td>acs/acs1</td>\n",
       "      <td>B25031</td>\n",
       "      <td>B25031_001E</td>\n",
       "      <td>Estimate!!Median gross rent --!!Total:</td>\n",
       "      <td>NaN</td>\n",
       "      <td>None</td>\n",
       "    </tr>\n",
       "    <tr>\n",
       "      <th>1</th>\n",
       "      <td>2022</td>\n",
       "      <td>acs/acs1</td>\n",
       "      <td>B25031</td>\n",
       "      <td>B25031_002E</td>\n",
       "      <td>Estimate!!Median gross rent --!!Total:!!No bed...</td>\n",
       "      <td>NaN</td>\n",
       "      <td>None</td>\n",
       "    </tr>\n",
       "    <tr>\n",
       "      <th>2</th>\n",
       "      <td>2022</td>\n",
       "      <td>acs/acs1</td>\n",
       "      <td>B25031</td>\n",
       "      <td>B25031_003E</td>\n",
       "      <td>Estimate!!Median gross rent --!!Total:!!1 bedroom</td>\n",
       "      <td>NaN</td>\n",
       "      <td>None</td>\n",
       "    </tr>\n",
       "    <tr>\n",
       "      <th>3</th>\n",
       "      <td>2022</td>\n",
       "      <td>acs/acs1</td>\n",
       "      <td>B25031</td>\n",
       "      <td>B25031_004E</td>\n",
       "      <td>Estimate!!Median gross rent --!!Total:!!2 bedr...</td>\n",
       "      <td>NaN</td>\n",
       "      <td>None</td>\n",
       "    </tr>\n",
       "    <tr>\n",
       "      <th>4</th>\n",
       "      <td>2022</td>\n",
       "      <td>acs/acs1</td>\n",
       "      <td>B25031</td>\n",
       "      <td>B25031_005E</td>\n",
       "      <td>Estimate!!Median gross rent --!!Total:!!3 bedr...</td>\n",
       "      <td>NaN</td>\n",
       "      <td>None</td>\n",
       "    </tr>\n",
       "    <tr>\n",
       "      <th>5</th>\n",
       "      <td>2022</td>\n",
       "      <td>acs/acs1</td>\n",
       "      <td>B25031</td>\n",
       "      <td>B25031_006E</td>\n",
       "      <td>Estimate!!Median gross rent --!!Total:!!4 bedr...</td>\n",
       "      <td>NaN</td>\n",
       "      <td>None</td>\n",
       "    </tr>\n",
       "    <tr>\n",
       "      <th>6</th>\n",
       "      <td>2022</td>\n",
       "      <td>acs/acs1</td>\n",
       "      <td>B25031</td>\n",
       "      <td>B25031_007E</td>\n",
       "      <td>Estimate!!Median gross rent --!!Total:!!5 or m...</td>\n",
       "      <td>NaN</td>\n",
       "      <td>None</td>\n",
       "    </tr>\n",
       "  </tbody>\n",
       "</table>\n",
       "</div>"
      ],
      "text/plain": [
       "   YEAR   DATASET   GROUP     VARIABLE  \\\n",
       "0  2022  acs/acs1  B25031  B25031_001E   \n",
       "1  2022  acs/acs1  B25031  B25031_002E   \n",
       "2  2022  acs/acs1  B25031  B25031_003E   \n",
       "3  2022  acs/acs1  B25031  B25031_004E   \n",
       "4  2022  acs/acs1  B25031  B25031_005E   \n",
       "5  2022  acs/acs1  B25031  B25031_006E   \n",
       "6  2022  acs/acs1  B25031  B25031_007E   \n",
       "\n",
       "                                               LABEL  SUGGESTED_WEIGHT VALUES  \n",
       "0             Estimate!!Median gross rent --!!Total:               NaN   None  \n",
       "1  Estimate!!Median gross rent --!!Total:!!No bed...               NaN   None  \n",
       "2  Estimate!!Median gross rent --!!Total:!!1 bedroom               NaN   None  \n",
       "3  Estimate!!Median gross rent --!!Total:!!2 bedr...               NaN   None  \n",
       "4  Estimate!!Median gross rent --!!Total:!!3 bedr...               NaN   None  \n",
       "5  Estimate!!Median gross rent --!!Total:!!4 bedr...               NaN   None  \n",
       "6  Estimate!!Median gross rent --!!Total:!!5 or m...               NaN   None  "
      ]
     },
     "execution_count": 8,
     "metadata": {},
     "output_type": "execute_result"
    }
   ],
   "source": [
    "df_variables = ced.variables.all_variables(ACS1, YEAR, GROUP)\n",
    "\n",
    "df_variables"
   ]
  },
  {
   "cell_type": "code",
   "execution_count": null,
   "id": "7986d815-e979-4f38-a005-8bcd99a03fdf",
   "metadata": {},
   "outputs": [],
   "source": []
  }
 ],
 "metadata": {
  "kernelspec": {
   "display_name": "Python 3 (ipykernel)",
   "language": "python",
   "name": "python3"
  },
  "language_info": {
   "codemirror_mode": {
    "name": "ipython",
    "version": 3
   },
   "file_extension": ".py",
   "mimetype": "text/x-python",
   "name": "python",
   "nbconvert_exporter": "python",
   "pygments_lexer": "ipython3",
   "version": "3.9.10"
  }
 },
 "nbformat": 4,
 "nbformat_minor": 5
}
