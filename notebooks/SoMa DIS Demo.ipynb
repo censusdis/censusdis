{
 "cells": [
  {
   "cell_type": "markdown",
   "id": "d26726e4-0f9b-4279-8796-e1d41c4e7ad4",
   "metadata": {},
   "source": [
    "## Introduction\n",
    "\n",
    "In this notebook, we will demonstrate how to use the [`censusdis`](https://github.com/vengroff/censusdis) package \n",
    "to download some US Census data and then how to use the [`divintseg`](https://github.com/vengroff/divintseg) package \n",
    "to compute some diversity and integration metrics.\n",
    "\n",
    "In this example, we will look at US Census redistricting data from the towns of South Orange\n",
    "and Maplewood (collectively known as SoMa) in Essex County,\n",
    "NJ. We chose redistricting data because it has the demographic data we are interested in\n",
    "studying, including race and ethnicity.\n",
    "\n",
    "Once you are familiar with the API and how to use it, you can easily experiment with\n",
    "similar analysis of the area where you live."
   ]
  },
  {
   "cell_type": "markdown",
   "id": "5a43e8cb-2eab-4d94-af0d-3df12a7a9a82",
   "metadata": {},
   "source": [
    "## Environment Setup\n",
    "\n",
    "We assume you are running this notebook in an environment where the necessary \n",
    "packages have been `pip` installed. You should be able to get everything you\n",
    "need with just \n",
    "\n",
    "```\n",
    "pip install censusdis\n",
    "```\n",
    "\n",
    "which will also install `divintseg` and various other dependencies."
   ]
  },
  {
   "cell_type": "markdown",
   "id": "5a4f012a-a6ef-497e-b1d7-4695fad6fb10",
   "metadata": {},
   "source": [
    "## Imports\n",
    "\n",
    "We need to import out resistricting data API, some utilities for getting map data, and the \n",
    "[`divintseg`](https://github.com/vengroff/divintseg) \n",
    "package that computes diversity and integration metrics, along with `pandas` for some basic data\n",
    "manipulation."
   ]
  },
  {
   "cell_type": "code",
   "execution_count": 1,
   "id": "4db388e7-b8c0-40db-b0b2-fe7efb272267",
   "metadata": {},
   "outputs": [],
   "source": [
    "import censusdis.redistricting as crd\n",
    "\n",
    "from censusdis.states import STATE_NJ\n",
    "from censusdis.maps import ShapeReader\n",
    "\n",
    "import divintseg as dis\n",
    "\n",
    "import pandas as pd"
   ]
  },
  {
   "cell_type": "markdown",
   "id": "dc3ba359-c801-4204-9119-c38a55a69fb4",
   "metadata": {},
   "source": [
    "## US Census API Key\n",
    "\n",
    "The US Census API uses a key to identify callers. If you don't already have a key, you can request\n",
    "one [here](https://api.census.gov/data/key_signup.html). Please put your key into this cell before \n",
    "running the notebook.\n",
    "\n",
    "For small queries like in this demo notebook, the API seems to work without a key, so you can leave\n",
    "it set to `None`, but for more serious work you will want to obtain a key."
   ]
  },
  {
   "cell_type": "code",
   "execution_count": 2,
   "id": "acdb3919-75a7-46f2-81da-68771578a181",
   "metadata": {},
   "outputs": [],
   "source": [
    "CENSUS_API_KEY = None"
   ]
  },
  {
   "cell_type": "markdown",
   "id": "15466142-5f76-47ae-87e2-9a7f1dbe8d4b",
   "metadata": {},
   "source": [
    "## Basic Configuration\n",
    "\n",
    "### Year\n",
    "\n",
    "We can choose which census year we want to look at, 2010 or 2020."
   ]
  },
  {
   "cell_type": "code",
   "execution_count": 3,
   "id": "1b191c8c-1f3c-487f-8738-47891d0429d0",
   "metadata": {},
   "outputs": [],
   "source": [
    "YEAR = 2020"
   ]
  },
  {
   "cell_type": "markdown",
   "id": "ddf2fe4d-f669-4a41-a5d8-47766907b34d",
   "metadata": {},
   "source": [
    "### Field Group\n",
    "\n",
    "A field group is a set of fields that the US Census uses to provide data\n",
    "in the various data sets it publishes. These groups cover all kinds of\n",
    "topics. We are interested in demographics and we are going to be using\n",
    "redistricting data, so the field groups available are those summarized \n",
    "[here](https://api.census.gov/data/2020/dec/pl/groups.html). Don't worry\n",
    "if nothing on that page means anything to you right now. We'll explain it\n",
    "here.\n",
    "\n",
    "If we choose P1, then the data is grouped purely based on race, \n",
    "not taking ethnicity into account at all. If we choose P2, then the data is\n",
    "first grouped by ethnicity, with people reporting Hispanic or Latino ethinicity\n",
    "put into one group regardless of their race. Everyone else is then divided into\n",
    "groups based on their race.\n",
    "\n",
    "Thus, P2 has one group that P1 does not have, which is Hispanic or Latino of \n",
    "any race. In the P1 data set, people who are in the Hispanic or Latino group \n",
    "in P2 are instead classified into one of the race-based groups. \n",
    "\n",
    "For more information, including additional options P3 and P4, see this\n",
    "additional \n",
    "[documentation](https://www.census.gov/programs-surveys/decennial-census/about/rdo/summary-files.html)."
   ]
  },
  {
   "cell_type": "code",
   "execution_count": 4,
   "id": "e0ddb3ac-bbcc-4ffe-b127-78f6b506743d",
   "metadata": {},
   "outputs": [],
   "source": [
    "FIELD_GROUP = \"P2\""
   ]
  },
  {
   "cell_type": "markdown",
   "id": "ce50c382-8049-4932-9385-f69325750721",
   "metadata": {},
   "source": [
    "### Fields\n",
    "\n",
    "Since the specific fields that exist within a field group vary by year,\n",
    "we have to make a metadata query to find out what they are. This is a\n",
    "simple one-liner."
   ]
  },
  {
   "cell_type": "code",
   "execution_count": 5,
   "id": "01d136b0-ca6b-40bb-9db5-5c53a34d08ef",
   "metadata": {},
   "outputs": [],
   "source": [
    "fields, total_field, fields_by_race = crd.metadata(YEAR, FIELD_GROUP)"
   ]
  },
  {
   "cell_type": "markdown",
   "id": "1664e3b2-dfe1-471a-99ad-87f58ffeb9de",
   "metadata": {},
   "source": [
    "Each of the fields has a name (in `field_names`), and the API also groups them into \n",
    "racial groups (in `fields by race`) in case we want to use that for additional \n",
    "analysis. \n",
    "\n",
    "For the work we are doing here, we are just going to pass some of this metadata\n",
    "on to our data query. But we will take a quick look just to see the richness of the\n",
    "data provided by the census for people who are multiracial."
   ]
  },
  {
   "cell_type": "code",
   "execution_count": 6,
   "id": "d8d6cfd7-568d-4df4-a320-537bcb077684",
   "metadata": {},
   "outputs": [
    {
     "data": {
      "text/plain": [
       "{'P2_070N': 'White; American Indian and Alaska Native; Asian; Native Hawaiian and Other Pacific Islander; Some Other Race',\n",
       " 'P2_071N': 'Black or African American; American Indian and Alaska Native; Asian; Native Hawaiian and Other Pacific Islander; Some Other Race',\n",
       " 'P2_073N': 'White; Black or African American; American Indian and Alaska Native; Asian; Native Hawaiian and Other Pacific Islander; Some Other Race',\n",
       " 'P2_060N': 'Black or African American; American Indian and Alaska Native; Asian; Native Hawaiian and Other Pacific Islander',\n",
       " 'P2_030N': 'White; Black or African American; Asian',\n",
       " 'P2_054N': 'White; Black or African American; Asian; Some Other Race',\n",
       " 'P2_042N': 'Black or African American; Asian; Native Hawaiian and Other Pacific Islander',\n",
       " 'P2_066N': 'White; Black or African American; American Indian and Alaska Native; Asian; Native Hawaiian and Other Pacific Islander',\n",
       " 'P2_043N': 'Black or African American; Asian; Some Other Race',\n",
       " 'P2_031N': 'White; Black or African American; Native Hawaiian and Other Pacific Islander',\n",
       " 'P2_067N': 'White; Black or African American; American Indian and Alaska Native; Asian; Some Other Race',\n",
       " 'P2_055N': 'White; Black or African American; Native Hawaiian and Other Pacific Islander; Some Other Race',\n",
       " 'P2_032N': 'White; Black or African American; Some Other Race',\n",
       " 'P2_020N': 'Black or African American; Native Hawaiian and Other Pacific Islander',\n",
       " 'P2_056N': 'White; American Indian and Alaska Native; Asian; Native Hawaiian and Other Pacific Islander',\n",
       " 'P2_044N': 'Black or African American; Native Hawaiian and Other Pacific Islander; Some Other Race',\n",
       " 'P2_068N': 'White; Black or African American; American Indian and Alaska Native; Native Hawaiian and Other Pacific Islander; Some Other Race',\n",
       " 'P2_021N': 'Black or African American; Some Other Race',\n",
       " 'P2_045N': 'American Indian and Alaska Native; Asian; Native Hawaiian and Other Pacific Islander',\n",
       " 'P2_033N': 'White; American Indian and Alaska Native; Asian',\n",
       " 'P2_069N': 'White; Black or African American; Asian; Native Hawaiian and Other Pacific Islander; Some Other Race',\n",
       " 'P2_057N': 'White; American Indian and Alaska Native; Asian; Some Other Race',\n",
       " 'P2_062N': 'Black or African American; American Indian and Alaska Native; Native Hawaiian and Other Pacific Islander; Some Other Race',\n",
       " 'P2_061N': 'Black or African American; American Indian and Alaska Native; Asian; Some Other Race',\n",
       " 'P2_063N': 'Black or African American; Asian; Native Hawaiian and Other Pacific Islander; Some Other Race',\n",
       " 'P2_051N': 'White; Black or African American; American Indian and Alaska Native; Native Hawaiian and Other Pacific Islander',\n",
       " 'P2_050N': 'White; Black or African American; American Indian and Alaska Native; Asian',\n",
       " 'P2_052N': 'White; Black or African American; American Indian and Alaska Native; Some Other Race',\n",
       " 'P2_040N': 'Black or African American; American Indian and Alaska Native; Native Hawaiian and Other Pacific Islander',\n",
       " 'P2_064N': 'American Indian and Alaska Native; Asian; Native Hawaiian and Other Pacific Islander; Some Other Race',\n",
       " 'P2_041N': 'Black or African American; American Indian and Alaska Native; Some Other Race',\n",
       " 'P2_053N': 'White; Black or African American; Asian; Native Hawaiian and Other Pacific Islander',\n",
       " 'P2_038N': 'White; Native Hawaiian and Other Pacific Islander; Some Other Race',\n",
       " 'P2_026N': 'Asian; Some Other Race',\n",
       " 'P2_014N': 'White; American Indian and Alaska Native',\n",
       " 'P2_002N': 'Hispanic or Latino',\n",
       " 'P2_027N': 'Native Hawaiian and Other Pacific Islander; Some Other Race',\n",
       " 'P2_015N': 'White; Asian',\n",
       " 'P2_039N': 'Black or African American; American Indian and Alaska Native; Asian',\n",
       " 'P2_016N': 'White; Native Hawaiian and Other Pacific Islander',\n",
       " 'P2_005N': 'White alone',\n",
       " 'P2_029N': 'White; Black or African American; American Indian and Alaska Native',\n",
       " 'P2_017N': 'White; Some Other Race',\n",
       " 'P2_010N': 'Some Other Race alone',\n",
       " 'P2_034N': 'White; American Indian and Alaska Native; Native Hawaiian and Other Pacific Islander',\n",
       " 'P2_022N': 'American Indian and Alaska Native; Asian',\n",
       " 'P2_058N': 'White; American Indian and Alaska Native; Native Hawaiian and Other Pacific Islander; Some Other Race',\n",
       " 'P2_046N': 'American Indian and Alaska Native; Asian; Some Other Race',\n",
       " 'P2_059N': 'White; Asian; Native Hawaiian and Other Pacific Islander; Some Other Race',\n",
       " 'P2_023N': 'American Indian and Alaska Native; Native Hawaiian and Other Pacific Islander',\n",
       " 'P2_011N': 'Population of two or more races:',\n",
       " 'P2_047N': 'American Indian and Alaska Native; Native Hawaiian and Other Pacific Islander; Some Other Race',\n",
       " 'P2_035N': 'White; American Indian and Alaska Native; Some Other Race',\n",
       " 'P2_048N': 'Asian; Native Hawaiian and Other Pacific Islander; Some Other Race',\n",
       " 'P2_036N': 'White; Asian; Native Hawaiian and Other Pacific Islander',\n",
       " 'P2_024N': 'American Indian and Alaska Native; Some Other Race',\n",
       " 'P2_037N': 'White; Asian; Some Other Race',\n",
       " 'P2_025N': 'Asian; Native Hawaiian and Other Pacific Islander',\n",
       " 'P2_013N': 'White; Black or African American',\n",
       " 'P2_018N': 'Black or African American; American Indian and Alaska Native',\n",
       " 'P2_006N': 'Black or African American alone',\n",
       " 'P2_007N': 'American Indian and Alaska Native alone',\n",
       " 'P2_019N': 'Black or African American; Asian',\n",
       " 'P2_008N': 'Asian alone',\n",
       " 'P2_009N': 'Native Hawaiian and Other Pacific Islander alone'}"
      ]
     },
     "execution_count": 6,
     "metadata": {},
     "output_type": "execute_result"
    }
   ],
   "source": [
    "fields"
   ]
  },
  {
   "cell_type": "markdown",
   "id": "ef34c073-4265-4554-a057-c66f3ab627af",
   "metadata": {},
   "source": [
    "## South Orange and Maplewood Tracts in Essex County, NJ\n",
    "\n",
    "We want to take a look at data from the towns of South Orange\n",
    "and Maplewood (collectively known as SoMa) in Essex County,\n",
    "NJ. \n",
    "\n",
    "### Essex County\n",
    "\n",
    "For Essex County, we found the code `'013`' on this \n",
    "[wikipedia page](https://en.wikipedia.org/wiki/List_of_counties_in_New_Jersey)."
   ]
  },
  {
   "cell_type": "code",
   "execution_count": 7,
   "id": "6f359e65-9a38-4f6d-97fd-e2323e8b1847",
   "metadata": {},
   "outputs": [],
   "source": [
    "COUNTY_ESSEX_NJ = \"013\""
   ]
  },
  {
   "cell_type": "markdown",
   "id": "799d99b9-b3a0-42eb-86b5-f83611260159",
   "metadata": {},
   "source": [
    "### SoMa Tracts\n",
    "\n",
    "We found the tracts that make up the two towns by looking\n",
    "at \n",
    "[this map](https://www2.census.gov/geo/maps/dc10map/tract/st34_nj/c34013_essex/DC10CT_C34013_002.pdf).\n",
    "We format them as strings using the convention of\n",
    "Census API, which is a six-digit string."
   ]
  },
  {
   "cell_type": "code",
   "execution_count": 8,
   "id": "fff0475d-c7da-4843-8e77-0f91787ecdbd",
   "metadata": {},
   "outputs": [
    {
     "data": {
      "text/plain": [
       "['019000',\n",
       " '019100',\n",
       " '019200',\n",
       " '019300',\n",
       " '019400',\n",
       " '019500',\n",
       " '019600',\n",
       " '019700',\n",
       " '019800',\n",
       " '019900']"
      ]
     },
     "execution_count": 8,
     "metadata": {},
     "output_type": "execute_result"
    }
   ],
   "source": [
    "tracts_soma = [f\"{t:06}\" for t in range(19000, 20000, 100)]\n",
    "tracts_soma"
   ]
  },
  {
   "cell_type": "markdown",
   "id": "2c19c94e-2269-48a2-b02d-a0e80dda611d",
   "metadata": {},
   "source": [
    "### SoMa Data Query\n",
    "\n",
    "Now we can query the data. Lets look at the arguments to our call one by one:\n",
    "\n",
    "- `STATE_NJ` - this is the state we are interested in.\n",
    "- `YEAR`- the year we want data for. For the redistricting API, 2000, 2010, and 2020 are the three valid option.\n",
    "- `block` - the resolution of data we want. We want a row for each block in SoMa. \n",
    "- `field_names.keys()` - these are all the fields we want data for. The available fields vary by year and group, which\n",
    "   is why we made the `crd.metadata` call above to get them.\n",
    "- `county=COUNTY_ESSEX_NJ` - this is a filter. We only want data for Essex County.\n",
    "- `tract=tracts_soma` - this is a second filter saying that within the county we only want the specificed tracts.\n",
    "- `key=CENSUS_API_KEY` - our API key.\n",
    "\n",
    "The return value will be a `pd.DataFrame` containing a row for each block (the resolution we specified). In order to make\n",
    "analysis of diversity and integration at various levels of geographic aggregation easier (e.g. using the \n",
    "[divintseg](https://github.com/vengroff/divintseg) package) the identifiers of all of the nested geographies from the \n",
    "state down to the block are included in each row. In this case that means we have columns for STATE, COUNTY, TRACT, BLOCK_GROUP,\n",
    "and BLOCK. After these columns, we have one column for each of the demographic fields we asked for."
   ]
  },
  {
   "cell_type": "code",
   "execution_count": null,
   "id": "4bbf78ff-aed4-48af-abc9-78a8893e85fd",
   "metadata": {},
   "outputs": [],
   "source": [
    "df_soma = crd.data(\n",
    "    STATE_NJ,\n",
    "    YEAR,\n",
    "    \"block\",\n",
    "    fields.keys(),\n",
    "    county=COUNTY_ESSEX_NJ,\n",
    "    tract=tracts_soma,\n",
    "    key=CENSUS_API_KEY,\n",
    ")"
   ]
  },
  {
   "cell_type": "code",
   "execution_count": null,
   "id": "5627ee53-02ad-4114-9ebd-587eac68f76d",
   "metadata": {},
   "outputs": [],
   "source": [
    "df_soma"
   ]
  },
  {
   "cell_type": "markdown",
   "id": "e5813271-c3ad-435e-bab8-2f956f19c337",
   "metadata": {},
   "source": [
    "## Compute Diversity and Integration\n",
    "\n",
    "Now that we have the census data telling us how many people of each group there are\n",
    "in each block of SoMa, we can calculate diversity and inclusion at the tract over\n",
    "block level. For a detailed explination of what we are actually calculating here, see\n",
    "the [README.md](https://github.com/vengroff/divintseg/blob/main/README.md) in the \n",
    "[divintseg package](https://github.com/vengroff/divintseg)."
   ]
  },
  {
   "cell_type": "code",
   "execution_count": null,
   "id": "502b2a60-6669-4b39-8227-dbbe192ed8ff",
   "metadata": {},
   "outputs": [],
   "source": [
    "df_soma_dis = dis.di(df_soma, by=\"TRACT\", over=\"BLOCK\", drop_non_numeric=True)\n",
    "df_soma_dis"
   ]
  },
  {
   "cell_type": "markdown",
   "id": "234d6901-524c-4eaa-bce5-6da618599f19",
   "metadata": {},
   "source": [
    "## Plot on a Map\n",
    "\n",
    "Tabular data is great, but for geographic data we often want to plot things on a map. In order\n",
    "to do that, we have to load the outlines of the tracts we want to plot. These come in files\n",
    "called shapefiles, and we have a convenient API to load them."
   ]
  },
  {
   "cell_type": "markdown",
   "id": "b0ebfaaf-8ead-4e53-a3ff-7da79e86da75",
   "metadata": {},
   "source": [
    "### Load shapefiles or used cached versions\n",
    "\n",
    "In order to plot the data on a map, we need some shapefiles that\n",
    "contain the boundaries of the counties and states we want to plot. The API\n",
    "we will use will download the shapefiles from the US Census and cache \n",
    "them in a local directory pointed to by `SHAPEFILE_ROOT`.\n",
    "\n",
    "If you want to browse available file you can look at\n",
    "[this site](https://www.census.gov/cgi-bin/geo/shapefiles/index.php?year=2020&layergroup=Census+Tracts).\n",
    "\n",
    "The specific zip file the code will download for us is the NJ census tract\n",
    "boundary file\n",
    "[`tl_2020_34_tract.zip`](https://www2.census.gov/geo/tiger/TIGER2020/TRACT/tl_2020_34_tract.zip)."
   ]
  },
  {
   "cell_type": "code",
   "execution_count": null,
   "id": "e08c8485-df49-42ca-ae9a-15a53b937534",
   "metadata": {},
   "outputs": [],
   "source": [
    "import os\n",
    "import os.path\n",
    "\n",
    "SHAPEFILE_ROOT = os.path.join(os.environ[\"HOME\"], \"data\", \"shapefiles\")\n",
    "\n",
    "# Make sure it is there.\n",
    "if not os.path.isdir(SHAPEFILE_ROOT):\n",
    "    os.mkdir(SHAPEFILE_ROOT)"
   ]
  },
  {
   "cell_type": "markdown",
   "id": "0e98202c-eddb-46ce-a3c3-97c631e3c523",
   "metadata": {},
   "source": [
    "### Load the Shapefile for NJ Tracts\n",
    "\n",
    "Now that we have the shapefile we need, we can load it into our notebook.\n",
    "It will be loaded into a `GeoDataFrame`, which is very much like an \n",
    "ordinary `DataFrame` that you are used to, except that it has a special\n",
    "`geometry` column that defines a geometric shape for each row. In this \n",
    "case the geometry is the outline of each census tract in the state of NJ."
   ]
  },
  {
   "cell_type": "code",
   "execution_count": null,
   "id": "5418a71a-6d91-4596-9fe7-d4873d767946",
   "metadata": {},
   "outputs": [],
   "source": [
    "reader = ShapeReader(SHAPEFILE_ROOT, year=YEAR)"
   ]
  },
  {
   "cell_type": "code",
   "execution_count": null,
   "id": "a38d28bd-4d75-486b-8f9d-4dd57172bcae",
   "metadata": {},
   "outputs": [],
   "source": [
    "gdf_nj_tracts = reader.read_shapefile(STATE_NJ, \"tract\")\n",
    "gdf_nj_tracts.head()"
   ]
  },
  {
   "cell_type": "markdown",
   "id": "29a583ef-2f3b-4fe5-8da2-94aad72625f3",
   "metadata": {},
   "source": [
    "###  Merge in our Diversity and Integration Data\n",
    "\n",
    "Now that we have the geometry of each census tract, we can select just\n",
    "the ones for Essex County and then merge in the diversity and integration\n",
    "metric we computed so we have everything we need to make our plots in one \n",
    "`GeoDataFrame`."
   ]
  },
  {
   "cell_type": "code",
   "execution_count": null,
   "id": "79f8d811-b9b6-4270-8b41-829bab22fdb6",
   "metadata": {},
   "outputs": [],
   "source": [
    "gdf_essex_di = gdf_nj_tracts[gdf_nj_tracts[\"COUNTYFP\"] == COUNTY_ESSEX_NJ].merge(\n",
    "    df_soma_dis, left_on=\"TRACTCE\", right_on=\"TRACT\"\n",
    ")[[\"TRACTCE\", \"diversity\", \"integration\", \"geometry\"]]"
   ]
  },
  {
   "cell_type": "code",
   "execution_count": null,
   "id": "3c13373a-aa7d-427c-8c2e-ffa9f34ca6ba",
   "metadata": {},
   "outputs": [],
   "source": [
    "gdf_essex_di.head()"
   ]
  },
  {
   "cell_type": "markdown",
   "id": "ac995276-cbaa-472d-aa94-6d325005dbe5",
   "metadata": {},
   "source": [
    "### Plot the Maps\n",
    "\n",
    "Now we can plot diversity and integration as heat maps. We did just some \n",
    "very basic styling on these plots, but of course you can do whatever you\n",
    "want to make them the best visualizions for your purposes."
   ]
  },
  {
   "cell_type": "code",
   "execution_count": null,
   "id": "6e8ec529-e6b5-4939-b954-8dd006695011",
   "metadata": {},
   "outputs": [],
   "source": [
    "ax = gdf_essex_di.plot(\n",
    "    \"diversity\",\n",
    "    cmap=\"Greens\",\n",
    "    edgecolor=\"black\",\n",
    "    legend=True,\n",
    "    vmin=0.0,\n",
    "    vmax=1.0,\n",
    ")\n",
    "\n",
    "ax.set_title(\"Diversity in SoMa Tracts\")\n",
    "\n",
    "ax.tick_params(\n",
    "    left=False,\n",
    "    right=False,\n",
    "    bottom=False,\n",
    "    labelleft=False,\n",
    "    labelbottom=False,\n",
    ")"
   ]
  },
  {
   "cell_type": "code",
   "execution_count": null,
   "id": "6a1afdf5-4291-4906-9698-6a621a3beeb0",
   "metadata": {},
   "outputs": [],
   "source": [
    "ax = gdf_essex_di.plot(\n",
    "    \"integration\",\n",
    "    cmap=\"Greens\",\n",
    "    edgecolor=\"black\",\n",
    "    legend=True,\n",
    "    vmin=0.0,\n",
    "    vmax=1.0,\n",
    ")\n",
    "\n",
    "ax.set_title(\"Integration in SoMa Tracts\")\n",
    "\n",
    "ax.tick_params(\n",
    "    left=False,\n",
    "    right=False,\n",
    "    bottom=False,\n",
    "    labelleft=False,\n",
    "    labelbottom=False,\n",
    ")"
   ]
  },
  {
   "cell_type": "code",
   "execution_count": null,
   "id": "d5ada3bf-7d7c-4a2a-992b-1b1d64ff3b6e",
   "metadata": {},
   "outputs": [],
   "source": []
  }
 ],
 "metadata": {
  "kernelspec": {
   "display_name": "Python 3 (ipykernel)",
   "language": "python",
   "name": "python3"
  },
  "language_info": {
   "codemirror_mode": {
    "name": "ipython",
    "version": 3
   },
   "file_extension": ".py",
   "mimetype": "text/x-python",
   "name": "python",
   "nbconvert_exporter": "python",
   "pygments_lexer": "ipython3",
   "version": "3.9.10"
  }
 },
 "nbformat": 4,
 "nbformat_minor": 5
}
